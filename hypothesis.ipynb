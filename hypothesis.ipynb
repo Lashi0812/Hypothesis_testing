{
 "cells": [
  {
   "metadata": {
    "pycharm": {
     "name": "#%% md\n"
    }
   },
   "outputs": [],
   "source": [
    "# Yum, That Dish Tests Good"
   ],
   "execution_count": null,
   "cell_type": "markdown"
  },
  {
   "metadata": {
    "pycharm": {
     "name": "#%% md\n"
    }
   },
   "outputs": [],
   "source": [
    "## To the lab for testing"
   ],
   "execution_count": null,
   "cell_type": "markdown"
  },
  {
   "cell_type": "markdown",
   "source": [
    "### 2. A/B testing\n",
    "\n",
    "* In 2013, Electronic Arts, or EA, launched a video game called SimCity 5.\n",
    "* Leading up to its release, they wanted to increase pre-order sales.\n",
    "* They used an experimental design technique called A/B testing, which has roots in hypothesis testing, to test different advertising scenarios and see which improved sales the most.\n",
    "* Website visitors were split into a control group and a treatment group. Each group saw a different version of the game's pre-order sales page."
   ],
   "metadata": {
    "collapsed": false,
    "pycharm": {
     "name": "#%% md\n"
    }
   }
  },
  {
   "metadata": {
    "pycharm": {
     "name": "#%% md\n"
    }
   },
   "outputs": [],
   "source": [
    "### 3. Retail webpage A/B test\n",
    "\n",
    "Here's each version of the SimCity 5 pre-order page. The control group saw the version with a banner advertising money off their next purchase with each pre-order. The treatment group saw the version without the banner. EA compared the percentage of checkouts for the two groups to see which performed best. Our naive guess would be that the advertisement increased pre-order sales.\n",
    "<br><img src=\"image/img.png\">"
   ],
   "execution_count": null,
   "cell_type": "markdown"
  },
  {
   "metadata": {
    "pycharm": {
     "name": "#%% md\n"
    }
   },
   "outputs": [],
   "source": [
    "### 4. A/B test results\n",
    "\n",
    "The results of the A/B test were surprising.\n",
    "1. The treatment page without the advertisement resulted in 43 percent higher sales than the control page with the advert.\n",
    "2. The experiment proved that our intuition that more discount adverts would result in more sales was false.\n",
    "3. We might ask ourselves, was the 43 percent difference a meaningful difference between the control and treatment groups, or was it just random chance?\n",
    "4. To get this answer, we'd need the original dataset from EA, which isn't publicly available. However, the method to answering this question of significance would involve techniques from both the Sampling in Python course and from this course."
   ],
   "execution_count": null,
   "cell_type": "markdown"
  },
  {
   "cell_type": "markdown",
   "source": [
    "#### What is main reason to use the an A/B test?\n",
    "1. It provides a way to check outcomes of competing scenarios and decide which way to proceed.\n",
    "2.  A/B testing lets you compare scenarios to see which best achieves some goal."
   ],
   "metadata": {
    "collapsed": false,
    "pycharm": {
     "name": "#%% md\n"
    }
   }
  },
  {
   "metadata": {
    "pycharm": {
     "name": "#%% md\n"
    }
   },
   "outputs": [],
   "source": [
    "### 5. Stack Overflow Developer Survey 2020\n",
    "\n",
    "Each year, Stack Overflow surveys its users, who are primarily software developers, about themselves, how they use Stack Overflow, their work, and the development tools they use. In this course, we'll look at a subset of the survey responses from users who identified as Data Scientists."
   ],
   "execution_count": null,
   "cell_type": "markdown"
  },
  {
   "cell_type": "code",
   "execution_count": 1,
   "outputs": [
    {
     "data": {
      "text/plain": "(2261, 63)"
     },
     "execution_count": 1,
     "metadata": {},
     "output_type": "execute_result"
    }
   ],
   "source": [
    "import pandas as pd\n",
    "import numpy as np\n",
    "stack_overflow = pd.read_feather(\"data/stack_overflow.feather\")\n",
    "stack_overflow.shape"
   ],
   "metadata": {
    "collapsed": false,
    "pycharm": {
     "name": "#%%\n"
    }
   }
  },
  {
   "metadata": {
    "pycharm": {
     "name": "#%% md\n"
    }
   },
   "outputs": [],
   "source": [
    "### 6. Hypothesizing about the mean\n",
    "\n",
    "1. Let's hypothesize that the **mean annual compensation of the population of data scientists is 110,000 dollars.**\n",
    "2. We can initially examine the mean annual compensation from the sample survey data. Annual compensation, converted to dollars, is stored in the converted_comp column.\n",
    "3. The sample mean is a type of point estimate, which is another name for a summary statistic.\n",
    "4. We can calculate it with pandas using the dot-mean method on the converted_comp Series. The result is different from our hypothesis, but is it meaningfully different?"
   ],
   "execution_count": null,
   "cell_type": "markdown"
  },
  {
   "cell_type": "code",
   "execution_count": 2,
   "outputs": [
    {
     "data": {
      "text/plain": "119574.71738168952"
     },
     "execution_count": 2,
     "metadata": {},
     "output_type": "execute_result"
    }
   ],
   "source": [
    "mean_comp_samp = stack_overflow[\"converted_comp\"].mean()\n",
    "mean_comp_samp"
   ],
   "metadata": {
    "collapsed": false,
    "pycharm": {
     "name": "#%%\n"
    }
   }
  },
  {
   "metadata": {
    "pycharm": {
     "name": "#%% md\n"
    }
   },
   "outputs": [],
   "source": [
    "### 7. Generating a bootstrap distribution\n",
    "\n",
    "To answer this, we need to generate a bootstrap distribution of sample means. This is done by resampling the dataset, calculating the sample mean for that resample, then repeating those steps to create a list of sample means."
   ],
   "execution_count": null,
   "cell_type": "markdown"
  },
  {
   "cell_type": "code",
   "execution_count": 3,
   "outputs": [],
   "source": [
    "so_mean_boot_dist = []\n",
    "for i in range(5000):\n",
    "    so_mean_boot_dist.append(stack_overflow.sample(frac=1,replace=True)[\"converted_comp\"].mean())\n",
    "\n"
   ],
   "metadata": {
    "collapsed": false,
    "pycharm": {
     "name": "#%%\n"
    }
   }
  },
  {
   "metadata": {
    "pycharm": {
     "name": "#%% md\n"
    }
   },
   "outputs": [],
   "source": [
    "### 8. Visualizing the bootstrap distribution\n",
    "\n",
    "Here's a histogram of the bootstrap distribution. Its bell shape means that it's roughly normally distributed. Notice that 110,000 is on the left of the distribution."
   ],
   "execution_count": null,
   "cell_type": "markdown"
  },
  {
   "cell_type": "code",
   "execution_count": 4,
   "outputs": [
    {
     "data": {
      "text/plain": "<Figure size 432x288 with 1 Axes>",
      "image/png": "[encoded data removed]"
     },
     "metadata": {},
     "output_type": "display_data"
    }
   ],
   "source": [
    "import matplotlib.pyplot as plt\n",
    "plt.style.use(\"seaborn-white\")\n",
    "\n",
    "plt.hist(so_mean_boot_dist,bins=50,histtype=\"stepfilled\")\n",
    "plt.axvline(x=110000,c=\"red\",ls=\"--\",label=\"Hypo\")\n",
    "plt.axvline(x=np.mean(so_mean_boot_dist),c=\"red\",label=\"mean\")\n",
    "plt.legend()\n",
    "plt.show()"
   ],
   "metadata": {
    "collapsed": false,
    "pycharm": {
     "name": "#%%\n"
    }
   }
  },
  {
   "metadata": {
    "pycharm": {
     "name": "#%% md\n"
    }
   },
   "outputs": [],
   "source": [
    "### 9. Standard error\n",
    "\n",
    "Recall that the standard deviation of the sample statistics in the bootstrap distribution estimates the standard error of the statistic."
   ],
   "execution_count": null,
   "cell_type": "markdown"
  },
  {
   "cell_type": "code",
   "execution_count": 5,
   "outputs": [
    {
     "data": {
      "text/plain": "5591.558507764559"
     },
     "execution_count": 5,
     "metadata": {},
     "output_type": "execute_result"
    }
   ],
   "source": [
    "std_error = np.std(so_mean_boot_dist,ddof=1)\n",
    "std_error"
   ],
   "metadata": {
    "collapsed": false,
    "pycharm": {
     "name": "#%%\n"
    }
   }
  },
  {
   "metadata": {
    "pycharm": {
     "name": "#%% md\n"
    }
   },
   "outputs": [],
   "source": [
    "### 10. z-scores\n",
    "\n",
    "Since variables have arbitrary units and ranges, before we test our hypothesis, we need to standardize the values. A common way of standardizing values is to subtract the mean, and divide by the standard deviation. For hypothesis testing, we use a variation where we take the sample statistic, subtract the hypothesized parameter value, and divide by the standard error. The result is called a z-score.\n",
    "\n",
    "$$\\mbox{standardized value} = \\frac {\\mbox{value - mean}}{\\mbox{standard deviation}}$$\n",
    "\n",
    "For Hypothesis:\n",
    "\n",
    "$$\\mbox{z value} = \\frac {\\mbox{sample statistic - hypothesized paramenter value}}{\\mbox{standard error}}$$"
   ],
   "execution_count": null,
   "cell_type": "markdown"
  },
  {
   "metadata": {
    "pycharm": {
     "name": "#%% md\n"
    }
   },
   "outputs": [],
   "source": [
    "### 11. z-scores\n",
    "\n",
    "Here are the values we calculated earlier. The sample mean annual compensation for data scientists of around 120,000 dollars, minus the hypothesized compensation of 110,000, divided by the standard error gives a z-score of one-point-seven-zero-seven."
   ],
   "execution_count": null,
   "cell_type": "markdown"
  },
  {
   "cell_type": "code",
   "execution_count": 6,
   "outputs": [
    {
     "data": {
      "text/plain": "1.7123521766594882"
     },
     "execution_count": 6,
     "metadata": {},
     "output_type": "execute_result"
    }
   ],
   "source": [
    "mean_comp_hypo = 110000\n",
    "\n",
    "z_score = (mean_comp_samp - mean_comp_hypo) / std_error\n",
    "z_score"
   ],
   "metadata": {
    "collapsed": false,
    "pycharm": {
     "name": "#%%\n"
    }
   }
  },
  {
   "metadata": {
    "pycharm": {
     "name": "#%% md\n"
    }
   },
   "outputs": [],
   "source": [
    "### 12. Testing the hypothesis\n",
    "\n",
    "Is that a big or small number? Determining that is the goal of this course."
   ],
   "execution_count": null,
   "cell_type": "markdown"
  },
  {
   "metadata": {
    "pycharm": {
     "name": "#%% md\n"
    }
   },
   "outputs": [],
   "source": [
    "### 13. Testing the hypothesis\n",
    "\n",
    "In particular, we can now state one of the uses of hypothesis testing: determining whether a sample statistic is close to or far away from an expected value."
   ],
   "execution_count": null,
   "cell_type": "markdown"
  },
  {
   "metadata": {
    "pycharm": {
     "name": "#%% md\n"
    }
   },
   "outputs": [],
   "source": [
    "### 14. Standard normal (z) distribution\n",
    "\n",
    "One final thing. Here's a plot of the probability density function for the standard normal distribution, which is a normal distribution with mean of zero and standard deviation of one. It's often called the z-distribution, and z-scores are related to this distribution. We'll encounter the z-distribution throughout this course."
   ],
   "execution_count": null,
   "cell_type": "markdown"
  },
  {
   "cell_type": "code",
   "execution_count": 7,
   "outputs": [
    {
     "data": {
      "text/plain": "<Figure size 432x288 with 1 Axes>",
      "image/png": "[encoded data removed]"
     },
     "metadata": {},
     "output_type": "display_data"
    }
   ],
   "source": [
    "from scipy.stats import norm\n",
    "xs = np.linspace(start=-4,stop=4,num=500)\n",
    "pdf = norm.pdf(xs)\n",
    "plt.plot(xs,pdf)\n",
    "plt.xlabel(\"x\")\n",
    "plt.ylabel(\"PDF(x)\")\n",
    "plt.show()"
   ],
   "metadata": {
    "collapsed": false,
    "pycharm": {
     "name": "#%%\n"
    }
   }
  },
  {
   "metadata": {
    "pycharm": {
     "name": "#%% md\n"
    }
   },
   "outputs": [],
   "source": [
    "### 15. Let's practice!\n",
    "\n",
    "Time to begin!"
   ],
   "execution_count": null,
   "cell_type": "markdown"
  },
  {
   "metadata": {
    "pycharm": {
     "name": "#%% md\n"
    }
   },
   "outputs": [],
   "source": [
    "## Calculating the sample mean\n",
    "\n",
    "<p>The <code>late_shipments</code> dataset contains supply chain data on the delivery of medical supplies. Each row represents one delivery of a part. The <code>late</code> columns denotes whether or not the part was delivered late. A value of <code>\"Yes\"</code> means that the part was delivered late, and a value of <code>\"No\"</code> means the part was delivered on time.</p>\n",
    "<p>Let's begin our analysis by calculating a point estimate (or sample statistic), namely the proportion of late shipments.</p>\n",
    "<p><code>late_shipments</code> is available, and <code>pandas</code> is loaded as <code>pd</code>.</p>"
   ],
   "execution_count": null,
   "cell_type": "markdown"
  },
  {
   "cell_type": "code",
   "execution_count": 8,
   "outputs": [
    {
     "data": {
      "text/plain": "          id       country managed_by  fulfill_via vendor_inco_term  \\\n0    36203.0       Nigeria   PMO - US  Direct Drop              EXW   \n1    30998.0      Botswana   PMO - US  Direct Drop              EXW   \n2    69871.0       Vietnam   PMO - US  Direct Drop              EXW   \n3    17648.0  South Africa   PMO - US  Direct Drop              DDP   \n4     5647.0        Uganda   PMO - US  Direct Drop              EXW   \n..       ...           ...        ...          ...              ...   \n995  13608.0        Uganda   PMO - US  Direct Drop              DDP   \n996  80394.0    Congo, DRC   PMO - US  Direct Drop              EXW   \n997  61675.0        Zambia   PMO - US  Direct Drop              EXW   \n998  39182.0  South Africa   PMO - US  Direct Drop              DDP   \n999   5645.0      Botswana   PMO - US  Direct Drop              EXW   \n\n    shipment_mode  late_delivery late product_group    sub_classification  \\\n0             Air            1.0  Yes          HRDT              HIV test   \n1             Air            0.0   No          HRDT              HIV test   \n2             Air            0.0   No           ARV                 Adult   \n3           Ocean            0.0   No           ARV                 Adult   \n4             Air            0.0   No          HRDT  HIV test - Ancillary   \n..            ...            ...  ...           ...                   ...   \n995           Air            0.0   No           ARV                 Adult   \n996           Air            0.0   No          HRDT              HIV test   \n997           Air            1.0  Yes          HRDT              HIV test   \n998         Ocean            0.0   No           ARV                 Adult   \n999           Air            0.0   No          HRDT              HIV test   \n\n     ... line_item_quantity line_item_value pack_price unit_price  \\\n0    ...             2996.0       266644.00      89.00       0.89   \n1    ...               25.0          800.00      32.00       1.60   \n2    ...            22925.0       110040.00       4.80       0.08   \n3    ...           152535.0       361507.95       2.37       0.04   \n4    ...              850.0            8.50       0.01       0.00   \n..   ...                ...             ...        ...        ...   \n995  ...              121.0         9075.00      75.00       0.62   \n996  ...              292.0         9344.00      32.00       1.60   \n997  ...             2127.0       170160.00      80.00       0.80   \n998  ...           191011.0       861459.61       4.51       0.15   \n999  ...              200.0        14398.00      71.99       0.72   \n\n               manufacturing_site first_line_designation  weight_kilograms  \\\n0         Alere Medical Co., Ltd.                    Yes            1426.0   \n1            Trinity Biotech, Plc                    Yes              10.0   \n2    Hetero Unit III Hyderabad IN                    Yes            3723.0   \n3       Aurobindo Unit III, India                    Yes            7698.0   \n4                 Inverness Japan                    Yes              56.0   \n..                            ...                    ...               ...   \n995     Janssen-Cilag, Latina, IT                    Yes              43.0   \n996          Trinity Biotech, Plc                    Yes              99.0   \n997       Alere Medical Co., Ltd.                    Yes             881.0   \n998     Aurobindo Unit III, India                    Yes           16234.0   \n999               Inverness Japan                    Yes              46.0   \n\n     freight_cost_usd  freight_cost_groups  line_item_insurance_usd  \n0            33279.83            expensive                   373.83  \n1              559.89           reasonable                     1.72  \n2            19056.13            expensive                   181.57  \n3            11372.23            expensive                   779.41  \n4              360.00           reasonable                     0.01  \n..                ...                  ...                      ...  \n995            199.00           reasonable                    12.72  \n996           2162.55           reasonable                    13.10  \n997          14019.38            expensive                   210.49  \n998          14439.17            expensive                  1421.41  \n999           1028.18           reasonable                    23.04  \n\n[1000 rows x 27 columns]",
      "text/html": "<div>\n<style scoped>\n    .dataframe tbody tr th:only-of-type {\n        vertical-align: middle;\n    }\n\n    .dataframe tbody tr th {\n        vertical-align: top;\n    }\n\n    .dataframe thead th {\n        text-align: right;\n    }\n</style>\n<table border=\"1\" class=\"dataframe\">\n  <thead>\n    <tr style=\"text-align: right;\">\n      <th></th>\n      <th>id</th>\n      <th>country</th>\n      <th>managed_by</th>\n      <th>fulfill_via</th>\n      <th>vendor_inco_term</th>\n      <th>shipment_mode</th>\n      <th>late_delivery</th>\n      <th>late</th>\n      <th>product_group</th>\n      <th>sub_classification</th>\n      <th>...</th>\n      <th>line_item_quantity</th>\n      <th>line_item_value</th>\n      <th>pack_price</th>\n      <th>unit_price</th>\n      <th>manufacturing_site</th>\n      <th>first_line_designation</th>\n      <th>weight_kilograms</th>\n      <th>freight_cost_usd</th>\n      <th>freight_cost_groups</th>\n      <th>line_item_insurance_usd</th>\n    </tr>\n  </thead>\n  <tbody>\n    <tr>\n      <th>0</th>\n      <td>36203.0</td>\n      <td>Nigeria</td>\n      <td>PMO - US</td>\n      <td>Direct Drop</td>\n      <td>EXW</td>\n      <td>Air</td>\n      <td>1.0</td>\n      <td>Yes</td>\n      <td>HRDT</td>\n      <td>HIV test</td>\n      <td>...</td>\n      <td>2996.0</td>\n      <td>266644.00</td>\n      <td>89.00</td>\n      <td>0.89</td>\n      <td>Alere Medical Co., Ltd.</td>\n      <td>Yes</td>\n      <td>1426.0</td>\n      <td>33279.83</td>\n      <td>expensive</td>\n      <td>373.83</td>\n    </tr>\n    <tr>\n      <th>1</th>\n      <td>30998.0</td>\n      <td>Botswana</td>\n      <td>PMO - US</td>\n      <td>Direct Drop</td>\n      <td>EXW</td>\n      <td>Air</td>\n      <td>0.0</td>\n      <td>No</td>\n      <td>HRDT</td>\n      <td>HIV test</td>\n      <td>...</td>\n      <td>25.0</td>\n      <td>800.00</td>\n      <td>32.00</td>\n      <td>1.60</td>\n      <td>Trinity Biotech, Plc</td>\n      <td>Yes</td>\n      <td>10.0</td>\n      <td>559.89</td>\n      <td>reasonable</td>\n      <td>1.72</td>\n    </tr>\n    <tr>\n      <th>2</th>\n      <td>69871.0</td>\n      <td>Vietnam</td>\n      <td>PMO - US</td>\n      <td>Direct Drop</td>\n      <td>EXW</td>\n      <td>Air</td>\n      <td>0.0</td>\n      <td>No</td>\n      <td>ARV</td>\n      <td>Adult</td>\n      <td>...</td>\n      <td>22925.0</td>\n      <td>110040.00</td>\n      <td>4.80</td>\n      <td>0.08</td>\n      <td>Hetero Unit III Hyderabad IN</td>\n      <td>Yes</td>\n      <td>3723.0</td>\n      <td>19056.13</td>\n      <td>expensive</td>\n      <td>181.57</td>\n    </tr>\n    <tr>\n      <th>3</th>\n      <td>17648.0</td>\n      <td>South Africa</td>\n      <td>PMO - US</td>\n      <td>Direct Drop</td>\n      <td>DDP</td>\n      <td>Ocean</td>\n      <td>0.0</td>\n      <td>No</td>\n      <td>ARV</td>\n      <td>Adult</td>\n      <td>...</td>\n      <td>152535.0</td>\n      <td>361507.95</td>\n      <td>2.37</td>\n      <td>0.04</td>\n      <td>Aurobindo Unit III, India</td>\n      <td>Yes</td>\n      <td>7698.0</td>\n      <td>11372.23</td>\n      <td>expensive</td>\n      <td>779.41</td>\n    </tr>\n    <tr>\n      <th>4</th>\n      <td>5647.0</td>\n      <td>Uganda</td>\n      <td>PMO - US</td>\n      <td>Direct Drop</td>\n      <td>EXW</td>\n      <td>Air</td>\n      <td>0.0</td>\n      <td>No</td>\n      <td>HRDT</td>\n      <td>HIV test - Ancillary</td>\n      <td>...</td>\n      <td>850.0</td>\n      <td>8.50</td>\n      <td>0.01</td>\n      <td>0.00</td>\n      <td>Inverness Japan</td>\n      <td>Yes</td>\n      <td>56.0</td>\n      <td>360.00</td>\n      <td>reasonable</td>\n      <td>0.01</td>\n    </tr>\n    <tr>\n      <th>...</th>\n      <td>...</td>\n      <td>...</td>\n      <td>...</td>\n      <td>...</td>\n      <td>...</td>\n      <td>...</td>\n      <td>...</td>\n      <td>...</td>\n      <td>...</td>\n      <td>...</td>\n      <td>...</td>\n      <td>...</td>\n      <td>...</td>\n      <td>...</td>\n      <td>...</td>\n      <td>...</td>\n      <td>...</td>\n      <td>...</td>\n      <td>...</td>\n      <td>...</td>\n      <td>...</td>\n    </tr>\n    <tr>\n      <th>995</th>\n      <td>13608.0</td>\n      <td>Uganda</td>\n      <td>PMO - US</td>\n      <td>Direct Drop</td>\n      <td>DDP</td>\n      <td>Air</td>\n      <td>0.0</td>\n      <td>No</td>\n      <td>ARV</td>\n      <td>Adult</td>\n      <td>...</td>\n      <td>121.0</td>\n      <td>9075.00</td>\n      <td>75.00</td>\n      <td>0.62</td>\n      <td>Janssen-Cilag, Latina, IT</td>\n      <td>Yes</td>\n      <td>43.0</td>\n      <td>199.00</td>\n      <td>reasonable</td>\n      <td>12.72</td>\n    </tr>\n    <tr>\n      <th>996</th>\n      <td>80394.0</td>\n      <td>Congo, DRC</td>\n      <td>PMO - US</td>\n      <td>Direct Drop</td>\n      <td>EXW</td>\n      <td>Air</td>\n      <td>0.0</td>\n      <td>No</td>\n      <td>HRDT</td>\n      <td>HIV test</td>\n      <td>...</td>\n      <td>292.0</td>\n      <td>9344.00</td>\n      <td>32.00</td>\n      <td>1.60</td>\n      <td>Trinity Biotech, Plc</td>\n      <td>Yes</td>\n      <td>99.0</td>\n      <td>2162.55</td>\n      <td>reasonable</td>\n      <td>13.10</td>\n    </tr>\n    <tr>\n      <th>997</th>\n      <td>61675.0</td>\n      <td>Zambia</td>\n      <td>PMO - US</td>\n      <td>Direct Drop</td>\n      <td>EXW</td>\n      <td>Air</td>\n      <td>1.0</td>\n      <td>Yes</td>\n      <td>HRDT</td>\n      <td>HIV test</td>\n      <td>...</td>\n      <td>2127.0</td>\n      <td>170160.00</td>\n      <td>80.00</td>\n      <td>0.80</td>\n      <td>Alere Medical Co., Ltd.</td>\n      <td>Yes</td>\n      <td>881.0</td>\n      <td>14019.38</td>\n      <td>expensive</td>\n      <td>210.49</td>\n    </tr>\n    <tr>\n      <th>998</th>\n      <td>39182.0</td>\n      <td>South Africa</td>\n      <td>PMO - US</td>\n      <td>Direct Drop</td>\n      <td>DDP</td>\n      <td>Ocean</td>\n      <td>0.0</td>\n      <td>No</td>\n      <td>ARV</td>\n      <td>Adult</td>\n      <td>...</td>\n      <td>191011.0</td>\n      <td>861459.61</td>\n      <td>4.51</td>\n      <td>0.15</td>\n      <td>Aurobindo Unit III, India</td>\n      <td>Yes</td>\n      <td>16234.0</td>\n      <td>14439.17</td>\n      <td>expensive</td>\n      <td>1421.41</td>\n    </tr>\n    <tr>\n      <th>999</th>\n      <td>5645.0</td>\n      <td>Botswana</td>\n      <td>PMO - US</td>\n      <td>Direct Drop</td>\n      <td>EXW</td>\n      <td>Air</td>\n      <td>0.0</td>\n      <td>No</td>\n      <td>HRDT</td>\n      <td>HIV test</td>\n      <td>...</td>\n      <td>200.0</td>\n      <td>14398.00</td>\n      <td>71.99</td>\n      <td>0.72</td>\n      <td>Inverness Japan</td>\n      <td>Yes</td>\n      <td>46.0</td>\n      <td>1028.18</td>\n      <td>reasonable</td>\n      <td>23.04</td>\n    </tr>\n  </tbody>\n</table>\n<p>1000 rows × 27 columns</p>\n</div>"
     },
     "execution_count": 8,
     "metadata": {},
     "output_type": "execute_result"
    }
   ],
   "source": [
    "late_shipments = pd.read_feather(\"data/late_shipments.feather\")\n",
    "late_shipments"
   ],
   "metadata": {
    "collapsed": false,
    "pycharm": {
     "name": "#%%\n"
    }
   }
  },
  {
   "cell_type": "code",
   "execution_count": 9,
   "outputs": [
    {
     "data": {
      "text/plain": "No     0.939\nYes    0.061\nName: late, dtype: float64"
     },
     "execution_count": 9,
     "metadata": {},
     "output_type": "execute_result"
    }
   ],
   "source": [
    "# Calculate the proporation of the late shipments\n",
    "late_prop_samp = late_shipments[\"late\"].value_counts(normalize=True)\n",
    "late_prop_samp"
   ],
   "metadata": {
    "collapsed": false,
    "pycharm": {
     "name": "#%%\n"
    }
   }
  },
  {
   "metadata": {
    "pycharm": {
     "name": "#%% md\n"
    }
   },
   "outputs": [],
   "source": [
    "## Calculating a z-score\n",
    "\n",
    "<p>Since variables have arbitrary ranges and units, we need to standardize them. For example, a hypothesis test that gave different answers if the variables were in Euros instead of US dollars would be of little value. Standardization avoids that.</p>\n",
    "<p>One standardized value of interest in a hypothesis test is called a z-score. To calculate it, you need three numbers: the sample statistic (point estimate), the hypothesized statistic, and the standard error of the statistic (estimated from the bootstrap distribution).</p>\n",
    "<p>The sample statistic is available as <code>late_prop_samp</code>.</p>\n",
    "<p><code>late_shipments_boot_distn</code> is a bootstrap distribution of the proportion of late shipments, available as a list.</p>\n",
    "<p><code>pandas</code> and <code>numpy</code> are loaded with their usual aliases.</p>"
   ],
   "execution_count": null,
   "cell_type": "markdown"
  },
  {
   "cell_type": "code",
   "execution_count": 10,
   "outputs": [],
   "source": [
    "late_shipments_boot_dist =[]\n",
    "for i in range(5000):\n",
    "    late_shipments_boot_dist.append(\n",
    "        late_shipments.sample(frac=1,replace=True)[\"late_delivery\"].mean()\n",
    "    )"
   ],
   "metadata": {
    "collapsed": false,
    "pycharm": {
     "name": "#%%\n"
    }
   }
  },
  {
   "metadata": {
    "pycharm": {
     "name": "#%% md\n"
    }
   },
   "outputs": [],
   "source": [
    "Hypothesize that the proportion of late shipments is 6%."
   ],
   "execution_count": null,
   "cell_type": "markdown"
  },
  {
   "cell_type": "code",
   "execution_count": 11,
   "outputs": [
    {
     "data": {
      "text/plain": "0.061"
     },
     "execution_count": 11,
     "metadata": {},
     "output_type": "execute_result"
    }
   ],
   "source": [
    "late_prop_hyp = .06\n",
    "late_prop_samp = late_prop_samp[1]\n",
    "late_prop_samp"
   ],
   "metadata": {
    "collapsed": false,
    "pycharm": {
     "name": "#%%\n"
    }
   }
  },
  {
   "metadata": {
    "pycharm": {
     "name": "#%% md\n"
    }
   },
   "outputs": [],
   "source": [
    "Calculate the standard error from the standard deviation of the bootstrap distribution."
   ],
   "execution_count": null,
   "cell_type": "markdown"
  },
  {
   "cell_type": "code",
   "execution_count": 12,
   "outputs": [],
   "source": [
    "std_error = np.std(late_shipments_boot_dist,ddof=1)\n"
   ],
   "metadata": {
    "collapsed": false,
    "pycharm": {
     "name": "#%%\n"
    }
   }
  },
  {
   "metadata": {
    "pycharm": {
     "name": "#%% md\n"
    }
   },
   "outputs": [],
   "source": [
    "Calculate the z-score."
   ],
   "execution_count": null,
   "cell_type": "markdown"
  },
  {
   "cell_type": "code",
   "execution_count": 13,
   "outputs": [
    {
     "data": {
      "text/plain": "0.13274452896408367"
     },
     "execution_count": 13,
     "metadata": {},
     "output_type": "execute_result"
    }
   ],
   "source": [
    "z_score = (late_prop_samp - late_prop_hyp)/std_error\n",
    "z_score"
   ],
   "metadata": {
    "collapsed": false,
    "pycharm": {
     "name": "#%%\n"
    }
   }
  },
  {
   "metadata": {
    "pycharm": {
     "name": "#%% md\n"
    }
   },
   "outputs": [],
   "source": [
    "## A tail of two z's"
   ],
   "execution_count": null,
   "cell_type": "markdown"
  },
  {
   "metadata": {
    "pycharm": {
     "name": "#%% md\n"
    }
   },
   "outputs": [],
   "source": [
    "### 1. A tail of two z's\n",
    "\n",
    "Hypothesis tests are like criminal trials."
   ],
   "execution_count": null,
   "cell_type": "markdown"
  },
  {
   "metadata": {
    "pycharm": {
     "name": "#%% md\n"
    }
   },
   "outputs": [],
   "source": [
    "### 2. Criminal trials\n",
    "\n",
    "1. There are two possible true states:\n",
    "      1. the defendant either committed the crime,\n",
    "      2. or didn't.\n",
    "2. There are also two possible outcomes:\n",
    "      1. a guilty or not guilty verdict.\n",
    "3. The initial assumption is that the defendant is not guilty, and\n",
    "4. the prosecution team must present evidence beyond a reasonable doubt that the defendant committed the crime for a guilty verdict to be given."
   ],
   "execution_count": null,
   "cell_type": "markdown"
  },
  {
   "metadata": {
    "pycharm": {
     "name": "#%% md\n"
    }
   },
   "outputs": [],
   "source": [
    "### 3. Age of first programming experience\n",
    "\n",
    "Let's return to the Stack Overflow survey.<br>\n",
    "\n",
    "\n",
    "\n",
    "* The age_first_code_cut variable classifies when the user began programming.\n",
    "    1. If they were 14 or older, they are classified as adult;\n",
    "    2. otherwise, child.\n",
    "* Suppose previous research suggests that 35 percent of software developers programmed as children. This raises a question answerable with our dataset.\n",
    "* Does our sample provide evidence that a greater proportion of data scientists started programming as children?"
   ],
   "execution_count": null,
   "cell_type": "markdown"
  },
  {
   "metadata": {
    "pycharm": {
     "name": "#%% md\n"
    }
   },
   "outputs": [],
   "source": [
    "### 4. Definitions\n",
    "\n",
    "Let's specify some definitions. A hypothesis is a statement about a population parameter. We don't know the true value of this population parameter; we can only make inferences about it from the data. Hypothesis tests compare two competing hypotheses. These two hypotheses are the null hypothesis, representing the existing idea, and the alternative hypothesis, representing a new idea that challenges the existing one. They are denoted H-naught and H-A, respectively. Here, the null hypothesis is that the proportion of data scientists that started programming as children follows the research on software developers, at 35 percent. The alternative hypothesis is that the percentage is greater than 35.\n",
    "<br>\n",
    "<img src=\"image/img_1.png\">"
   ],
   "execution_count": null,
   "cell_type": "markdown"
  },
  {
   "metadata": {
    "pycharm": {
     "name": "#%% md\n"
    }
   },
   "outputs": [],
   "source": [
    "### 5. Criminal trials vs. hypothesis testing\n",
    "\n",
    "Returning to our criminal trial comparison, the defendant can be either guilty or not guilty, and likewise, only one of the hypotheses can be true. Initially, the defendant is assumed to be not guilty and, similarly, we initially assume that the null hypothesis is true. This only changes if the sample provides enough evidence to reject it. Rather than saying we accept the alternative hypothesis, it is convention to refer to rejecting the null hypothesis, or failing to reject the null hypothesis. If the evidence is \"beyond a reasonable doubt\" that the defendant committed the crime, then a \"guilty\" verdict is given. The hypothesis testing equivalent of \"beyond a reasonable doubt\" is known as the significance level - more on this later in the chapter.\n",
    "<br>\n",
    "<img src=\"image/img_2.png\">"
   ],
   "execution_count": null,
   "cell_type": "markdown"
  },
  {
   "metadata": {
    "pycharm": {
     "name": "#%% md\n"
    }
   },
   "outputs": [],
   "source": [
    "### 6. One-tailed and two-tailed tests\n",
    "\n",
    "The tails of a distribution are the left and right edges of its PDF. Hypothesis tests determine whether the sample statistics lie in the tails of the null distribution, which is the distribution of the statistic if the null hypothesis was true. There are three types of tests, and the phrasing of the alternative hypothesis determines which type we should use. If we are checking for a difference compared to a hypothesized value, we look for extreme values in either tail and perform a two-tailed test. If the alternative hypothesis uses language like \"less\" or \"fewer\", we perform a left-tailed test. Words like \"greater\" or \"exceeds\" correspond to a right-tailed test. For the Stack Overflow hypothesis test, we need a right-tailed test since we are looking for extreme values in the right tail.\n",
    "<br>\n",
    "<img src=\"image/img_3.png\">"
   ],
   "execution_count": null,
   "cell_type": "markdown"
  },
  {
   "cell_type": "code",
   "execution_count": 14,
   "outputs": [
    {
     "data": {
      "text/plain": "<Figure size 432x288 with 1 Axes>",
      "image/png": "[encoded data removed]"
     },
     "metadata": {},
     "output_type": "display_data"
    }
   ],
   "source": [
    "tail = [\"r\" if (abs(x)>2) else \"k\" for x in xs]\n",
    "plt.scatter(xs,pdf,c=tail,s=1)\n",
    "plt.text(x=-4,y=0.2,s=\"Left-tail\",fontdict={\"size\":13})\n",
    "plt.text(x=2,y=0.2,s=\"Right-tail\",fontdict={\"size\":13})\n",
    "plt.show()"
   ],
   "metadata": {
    "collapsed": false,
    "pycharm": {
     "name": "#%%\n"
    }
   }
  },
  {
   "metadata": {
    "pycharm": {
     "name": "#%% md\n"
    }
   },
   "outputs": [],
   "source": [
    "### 7. p-values\n",
    "\n",
    "1. p-values measure the strength of support for the null hypothesis, or in other words, they measure the probability of obtaining a result, assuming the null hypothesis is true.\n",
    "2. Large p-values mean our statistic is producing a result that is likely not in a tail of our null distribution, and chance could be a good explanation for the result.\n",
    "3. Small p-values mean our statistic is producing a result likely in the tail of our null distribution. Because p-values are probabilities, they are always between zero and one."
   ],
   "execution_count": null,
   "cell_type": "markdown"
  },
  {
   "cell_type": "code",
   "execution_count": 15,
   "outputs": [],
   "source": [
    "normal = pd.DataFrame({\"x\":xs,\n",
    "                       \"pdf\":pdf})"
   ],
   "metadata": {
    "collapsed": false,
    "pycharm": {
     "name": "#%%\n"
    }
   }
  },
  {
   "cell_type": "code",
   "execution_count": 16,
   "outputs": [
    {
     "data": {
      "text/plain": "<Figure size 432x288 with 1 Axes>",
      "image/png": "[encoded data removed]"
     },
     "metadata": {},
     "output_type": "display_data"
    }
   ],
   "source": [
    "tail = [\"r\" if (abs(x)>2) else \"k\" for x in xs]\n",
    "plt.scatter(xs,pdf,c=tail,s=1)\n",
    "plt.scatter(2.4,norm.pdf(2.4),c=\"b\",s=25)\n",
    "plt.scatter(-.9,norm.pdf(-.9),c=\"b\",s=25)\n",
    "plt.fill_between(normal[normal[\"x\"]>2.4][\"x\"],normal[normal[\"x\"]>2.4][\"pdf\"],facecolor=None)\n",
    "\n",
    "plt.text(x=-4,y=0.2,s=\"Left-tail\",fontdict={\"size\":13})\n",
    "plt.text(x=2,y=0.2,s=\"Right-tail\",fontdict={\"size\":13})\n",
    "plt.show()"
   ],
   "metadata": {
    "collapsed": false,
    "pycharm": {
     "name": "#%%\n"
    }
   }
  },
  {
   "metadata": {
    "pycharm": {
     "name": "#%% md\n"
    }
   },
   "outputs": [],
   "source": [
    "### 8. Calculating the z-score\n",
    "\n",
    "To calculate the p-value, we must first calculate the z-score. We calculate the sample statistic, in this case the proportion of data scientists who started programming as children. The hypothesized value from the null hypothesis is 35 percent. We get the standard error from the standard deviation of the bootstrap distribution, and the z-score is the difference between the proportions, divided by the standard error."
   ],
   "execution_count": null,
   "cell_type": "markdown"
  },
  {
   "cell_type": "code",
   "execution_count": 17,
   "outputs": [
    {
     "data": {
      "text/plain": "0.39141972578505085"
     },
     "execution_count": 17,
     "metadata": {},
     "output_type": "execute_result"
    }
   ],
   "source": [
    "prop_child_samp = (stack_overflow[\"age_first_code_cut\"] == \"child\").mean()\n",
    "prop_child_samp"
   ],
   "metadata": {
    "collapsed": false,
    "pycharm": {
     "name": "#%%\n"
    }
   }
  },
  {
   "cell_type": "code",
   "execution_count": 18,
   "outputs": [],
   "source": [
    "prop_child_hyp = .35\n"
   ],
   "metadata": {
    "collapsed": false,
    "pycharm": {
     "name": "#%%\n"
    }
   }
  },
  {
   "cell_type": "code",
   "execution_count": 19,
   "outputs": [],
   "source": [
    "first_code_boot_dist =[]\n",
    "for i in range(5000):\n",
    "    first_code_boot_dist.append(\n",
    "        (stack_overflow.sample(frac=1,replace=True)[\"age_first_code_cut\"] ==\"child\").mean()\n",
    "    )\n",
    "std_error = np.std(first_code_boot_dist,ddof=1)"
   ],
   "metadata": {
    "collapsed": false,
    "pycharm": {
     "name": "#%%\n"
    }
   }
  },
  {
   "cell_type": "code",
   "execution_count": 20,
   "outputs": [
    {
     "data": {
      "text/plain": "4.082410552448322"
     },
     "execution_count": 20,
     "metadata": {},
     "output_type": "execute_result"
    }
   ],
   "source": [
    "z_score = (prop_child_samp -prop_child_hyp)/std_error\n",
    "z_score"
   ],
   "metadata": {
    "collapsed": false,
    "pycharm": {
     "name": "#%%\n"
    }
   }
  },
  {
   "metadata": {
    "pycharm": {
     "name": "#%% md\n"
    }
   },
   "outputs": [],
   "source": [
    "### 9. Calculating the p-value\n",
    "\n",
    "We pass the z-score to the standard normal CDF, norm-dot-cdf, from scipy-dot-stats with the default values of mean zero and standard deviation of one. As we're performing a right-tail test, not a left-tail test, the p-value is calculated by taking one minus the norm-dot-cdf result. The p-value is three out of 100,000."
   ],
   "execution_count": null,
   "cell_type": "markdown"
  },
  {
   "cell_type": "code",
   "execution_count": 21,
   "outputs": [
    {
     "data": {
      "text/plain": "2.2285484434947378e-05"
     },
     "execution_count": 21,
     "metadata": {},
     "output_type": "execute_result"
    }
   ],
   "source": [
    "1 - norm.cdf(z_score,loc=0,scale=1)"
   ],
   "metadata": {
    "collapsed": false,
    "pycharm": {
     "name": "#%%\n"
    }
   }
  },
  {
   "metadata": {
    "pycharm": {
     "name": "#%% md\n"
    }
   },
   "outputs": [],
   "source": [
    "### 10. Let's practice!\n",
    "\n",
    "Go calculate some p-values!"
   ],
   "execution_count": null,
   "cell_type": "markdown"
  },
  {
   "metadata": {
    "pycharm": {
     "name": "#%% md\n"
    }
   },
   "outputs": [],
   "source": [
    "## Calculating p-values\n",
    "\n",
    "<p>In order to determine whether to choose the null hypothesis or the alternative hypothesis, you need to calculate a p-value from the z-score.</p>\n",
    "<p>You'll now return to the late shipments dataset and the proportion of late shipments.</p>\n",
    "<p>The null hypothesis, <mjx-container class=\"MathJax CtxtMenu_Attached_0\" jax=\"CHTML\" role=\"presentation\" tabindex=\"0\" ctxtmenu_counter=\"2\" style=\"font-size: 116.7%; position: relative;\"><mjx-math class=\"MJX-TEX\" aria-hidden=\"true\"><mjx-msub><mjx-mi class=\"mjx-i\" noic=\"true\"><mjx-c class=\"mjx-c1D43B TEX-I\"></mjx-c></mjx-mi><mjx-script style=\"vertical-align: -0.15em;\"><mjx-texatom size=\"s\" texclass=\"ORD\"><mjx-mn class=\"mjx-n\"><mjx-c class=\"mjx-c30\"></mjx-c></mjx-mn></mjx-texatom></mjx-script></mjx-msub></mjx-math><mjx-assistive-mml role=\"presentation\" unselectable=\"on\" display=\"inline\"><math xmlns=\"http://www.w3.org/1998/Math/MathML\"><msub><mi>H</mi><mrow><mn>0</mn></mrow></msub></math></mjx-assistive-mml></mjx-container>, is that the proportion of late shipments is six percent.</p>\n",
    "<p>The alternative hypothesis, <mjx-container class=\"MathJax CtxtMenu_Attached_0\" jax=\"CHTML\" role=\"presentation\" tabindex=\"0\" ctxtmenu_counter=\"3\" style=\"font-size: 116.7%; position: relative;\"><mjx-math class=\"MJX-TEX\" aria-hidden=\"true\"><mjx-msub><mjx-mi class=\"mjx-i\" noic=\"true\"><mjx-c class=\"mjx-c1D43B TEX-I\"></mjx-c></mjx-mi><mjx-script style=\"vertical-align: -0.153em;\"><mjx-texatom size=\"s\" texclass=\"ORD\"><mjx-mi class=\"mjx-i\"><mjx-c class=\"mjx-c1D434 TEX-I\"></mjx-c></mjx-mi></mjx-texatom></mjx-script></mjx-msub></mjx-math><mjx-assistive-mml role=\"presentation\" unselectable=\"on\" display=\"inline\"><math xmlns=\"http://www.w3.org/1998/Math/MathML\"><msub><mi>H</mi><mrow><mi>A</mi></mrow></msub></math></mjx-assistive-mml></mjx-container>, is that the proportion of late shipments is <strong>greater than</strong> six percent.</p>\n",
    "<p>The observed sample statistic, <code>late_prop_samp</code>, the hypothesized value, <code>late_prop_hyp</code> (6%), and the bootstrap standard error, <code>std_error</code> are available. <code>norm</code> from <code>scipy.stats</code> has also been loaded without an alias.</p>"
   ],
   "execution_count": null,
   "cell_type": "markdown"
  },
  {
   "cell_type": "markdown",
   "source": [
    "$$H_{0}: \\mu = 6 % $$\n",
    "$$H_{0}: \\mu \\gt 6 % $$"
   ],
   "metadata": {
    "collapsed": false,
    "pycharm": {
     "name": "#%% md\n"
    }
   }
  },
  {
   "cell_type": "code",
   "execution_count": 22,
   "outputs": [
    {
     "data": {
      "text/plain": "0.4471977127217758"
     },
     "execution_count": 22,
     "metadata": {},
     "output_type": "execute_result"
    }
   ],
   "source": [
    "std_error = np.std(late_shipments_boot_dist,ddof=1)\n",
    "z_score = (late_prop_samp - late_prop_hyp)/std_error\n",
    "\n",
    "p_value = 1 - norm.cdf(z_score,loc=0,scale=1)\n",
    "p_value"
   ],
   "metadata": {
    "collapsed": false,
    "pycharm": {
     "name": "#%%\n"
    }
   }
  },
  {
   "metadata": {
    "pycharm": {
     "name": "#%% md\n"
    }
   },
   "outputs": [],
   "source": [
    "## Statistically significant other"
   ],
   "execution_count": null,
   "cell_type": "markdown"
  },
  {
   "metadata": {
    "pycharm": {
     "name": "#%% md\n"
    }
   },
   "outputs": [],
   "source": [
    "### 1. Statistically significant other\n",
    "\n",
    "Last time, we introduced p-values."
   ],
   "execution_count": null,
   "cell_type": "markdown"
  },
  {
   "metadata": {
    "pycharm": {
     "name": "#%% md\n"
    }
   },
   "outputs": [],
   "source": [
    "### 2. p-value recap\n",
    "\n",
    "1. p-values quantify how much evidence there is for the null hypothesis.\n",
    "2. Large p-values indicate a lack of evidence for the alternative hypothesis, sticking with the assumed null hypothesis instead.\n",
    "3. Small p-values make us doubt this original assumption in favor of the alternative hypothesis.\n",
    "4. What defines the cutoff point between a small p-value and a large one?"
   ],
   "execution_count": null,
   "cell_type": "markdown"
  },
  {
   "metadata": {
    "pycharm": {
     "name": "#%% md\n"
    }
   },
   "outputs": [],
   "source": [
    "### 3. Significance level\n",
    "\n",
    "**The cutoff point is known as the significance level, and is denoted alpha.** The appropriate significance level depends on the dataset and the discipline worked in. Five percent is the most common choice, but ten percent and one percent are also popular. The significance level gives us a decision process for which hypothesis to support.\n",
    "1. If the p-value is less than or equal to alpha, we reject the null hypothesis.\n",
    "2. Otherwise, we fail to reject it.\n",
    "3. It's important that we decide what the appropriate significance level should be before we run our test. Otherwise, there is a temptation to decide on a significance level that lets us choose the hypothesis we want."
   ],
   "execution_count": null,
   "cell_type": "markdown"
  },
  {
   "metadata": {
    "pycharm": {
     "name": "#%% md\n"
    }
   },
   "outputs": [],
   "source": [
    "### 4. Calculating the p-value\n",
    "\n",
    "The workflow starts with setting the significance level, in this case point-zero-five. Next, we calculate the sample mean and assign the hypothesized mean. For the z-score, we also need the standard error, which we obtain from the bootstrap distribution. Then we calculate the z-score using the sample mean, hypothesized mean, and standard error, and use the standard normal CDF to get the p-value."
   ],
   "execution_count": null,
   "cell_type": "markdown"
  },
  {
   "cell_type": "code",
   "execution_count": 23,
   "outputs": [],
   "source": [
    "alpha = 0.05\n",
    "prop_child_samp = (stack_overflow[\"age_first_code_cut\"] == \"child\").mean()\n",
    "prop_child_hyp = 0.35\n",
    "std_error = np.std(first_code_boot_dist,ddof=1)\n"
   ],
   "metadata": {
    "collapsed": false,
    "pycharm": {
     "name": "#%%\n"
    }
   }
  },
  {
   "cell_type": "code",
   "execution_count": 24,
   "outputs": [
    {
     "data": {
      "text/plain": "2.2285484434947378e-05"
     },
     "execution_count": 24,
     "metadata": {},
     "output_type": "execute_result"
    }
   ],
   "source": [
    "z_score = (prop_child_samp - prop_child_hyp) /std_error\n",
    "p_value = 1 - norm.cdf(z_score ,loc=0,scale=1)\n",
    "p_value"
   ],
   "metadata": {
    "collapsed": false,
    "pycharm": {
     "name": "#%%\n"
    }
   }
  },
  {
   "metadata": {
    "pycharm": {
     "name": "#%% md\n"
    }
   },
   "outputs": [],
   "source": [
    "### 5. Making a decision\n",
    "\n",
    "In this case, the p-value of three times ten to the minus five is less than or equal to point-zero-five, so we reject the null hypothesis. We have strong evidence for the alternative hypothesis that the proportion of data scientists that started programming as children is greater than 35 percent."
   ],
   "execution_count": null,
   "cell_type": "markdown"
  },
  {
   "cell_type": "code",
   "execution_count": 25,
   "outputs": [
    {
     "name": "stdout",
     "output_type": "stream",
     "text": [
      " reject the null hypothesis in favor of alternative hypothesis\n"
     ]
    }
   ],
   "source": [
    "if (p_value <= alpha):\n",
    "    print(f\" reject the null hypothesis in favor of alternative hypothesis\")\n",
    "else:\n",
    "    print(\"fail to reject the null hypothesis\")"
   ],
   "metadata": {
    "collapsed": false,
    "pycharm": {
     "name": "#%%\n"
    }
   }
  },
  {
   "metadata": {
    "pycharm": {
     "name": "#%% md\n"
    }
   },
   "outputs": [],
   "source": [
    "### 6. Confidence intervals\n",
    "\n",
    "To get a sense of the potential values of the population parameter, it's common to choose a confidence interval level of one minus the significance level. For a significance level of point-zero-five, we'd use a 95 percent confidence interval. Here's the calculation using the quantile method. The interval provides a range of plausible values for the population proportion of data scientists that programmed as children."
   ],
   "execution_count": null,
   "cell_type": "markdown"
  },
  {
   "cell_type": "code",
   "execution_count": 26,
   "outputs": [
    {
     "name": "stdout",
     "output_type": "stream",
     "text": [
      "0.3715170278637771 0.41088014153029634\n"
     ]
    }
   ],
   "source": [
    "lower = np.quantile(first_code_boot_dist,0.025)\n",
    "upper = np.quantile(first_code_boot_dist,0.975)\n",
    "print(lower,upper)"
   ],
   "metadata": {
    "collapsed": false,
    "pycharm": {
     "name": "#%%\n"
    }
   }
  },
  {
   "metadata": {
    "pycharm": {
     "name": "#%% md\n"
    }
   },
   "outputs": [],
   "source": [
    "### 7. Types of errors\n",
    "\n",
    "Returning to the criminal trial analogy, there are two possible truth states and two possible test outcomes, amounting to four combinations. Two of these indicate that the verdict was correct. If the defendant didn't commit the crime, but the verdict was guilty, they are wrongfully convicted. If the defendant committed the crime, but the verdict was not guilty, they got away with it. These are both errors in justice. Similarly, for hypothesis testing, there are two ways to get it right, and two types of error. If we support the alternative hypothesis when the null hypothesis was correct, we made a false positive error. If we support the null hypothesis when the alternative hypothesis was correct, we made a false negative error. These errors are sometimes known as type one and type two errors, respectively.\n",
    "<br>\n",
    "<img src=\"image/img_4.png\">"
   ],
   "execution_count": null,
   "cell_type": "markdown"
  },
  {
   "metadata": {
    "pycharm": {
     "name": "#%% md\n"
    }
   },
   "outputs": [],
   "source": [
    "### 8. Possible errors in our example\n",
    "\n",
    "In the case of data scientists coding as children, if we had a p-value less than or equal to the significance level, and rejected the null hypothesis, it's possible we made a false positive error. Although we thought data scientists started coding as children at a higher rate, it may not be true in the whole population. Conversely, if the p-value was greater than the significance level, and we failed to reject the null hypothesis, it's possible we made a false negative error.\n",
    "<br>\n",
    "<img src=\"image/img_5.png\">"
   ],
   "execution_count": null,
   "cell_type": "markdown"
  },
  {
   "metadata": {
    "pycharm": {
     "name": "#%% md\n"
    }
   },
   "outputs": [],
   "source": [
    "### 9. Let's practice!\n",
    "\n",
    "Let's do some significant exercises."
   ],
   "execution_count": null,
   "cell_type": "markdown"
  },
  {
   "metadata": {
    "pycharm": {
     "name": "#%% md\n"
    }
   },
   "outputs": [],
   "source": [
    "## Calculating a confidence interval\n",
    "\n",
    "<p>If you give a single estimate of a sample statistic, you are bound to be wrong by some amount. For example, the hypothesized proportion of late shipments was 6%. Even if evidence suggests the null hypothesis that the proportion of late shipments is equal to this, for any new sample of shipments, the proportion is likely to be a little different due to sampling variability. Consequently, it's a good idea to state a confidence interval. That is, you say, \"we are 95% 'confident' that the proportion of late shipments is between A and B\" (for some value of A and B).</p>\n",
    "<p>Sampling in Python <a href=\"https://campus.datacamp.com/courses/sampling-in-python/pull-your-data-up-by-its-bootstraps-4?ex=10\" target=\"_blank\" rel=\"noopener noreferrer\">demonstrated</a> two methods for calculating confidence intervals. Here, you'll use quantiles of the bootstrap distribution to calculate the confidence interval.</p>\n",
    "<p><code>late_prop_samp</code> and <code>late_shipments_boot_distn</code> are available; <code>pandas</code> and <code>numpy</code> are loaded with their usual aliases.</p>"
   ],
   "execution_count": null,
   "cell_type": "markdown"
  },
  {
   "metadata": {
    "pycharm": {
     "name": "#%% md\n"
    }
   },
   "outputs": [],
   "source": [
    "Calculate a 95% confidence interval from <code>late_shipments_boot_distn</code> using the quantile method, labeling the lower and upper intervals <code>lower</code> and <code>upper</code>."
   ],
   "execution_count": null,
   "cell_type": "markdown"
  },
  {
   "cell_type": "code",
   "execution_count": 27,
   "outputs": [
    {
     "name": "stdout",
     "output_type": "stream",
     "text": [
      "(0.047, 0.076)\n"
     ]
    }
   ],
   "source": [
    "# Calculate 95% confidence interval using quantile method\n",
    "lower = np.quantile(late_shipments_boot_dist,0.025)\n",
    "upper = np.quantile(late_shipments_boot_dist,0.975)\n",
    "\n",
    "# Print the confidence interval\n",
    "print((lower, upper))"
   ],
   "metadata": {
    "collapsed": false,
    "pycharm": {
     "name": "#%%\n"
    }
   }
  },
  {
   "metadata": {
    "pycharm": {
     "name": "#%% md\n"
    }
   },
   "outputs": [],
   "source": [
    "# Pass Me ANOVA Glass of Iced t"
   ],
   "execution_count": null,
   "cell_type": "markdown"
  },
  {
   "metadata": {
    "pycharm": {
     "name": "#%% md\n"
    }
   },
   "outputs": [],
   "source": [
    "## Is this some kind of test statistic?"
   ],
   "execution_count": null,
   "cell_type": "markdown"
  },
  {
   "metadata": {
    "pycharm": {
     "name": "#%% md\n"
    }
   },
   "outputs": [],
   "source": [
    "### 1. Is this some kind of test statistic?\n",
    "\n",
    "In the previous chapter, we calculated the z-score, which was a test statistic for a single variable."
   ],
   "execution_count": null,
   "cell_type": "markdown"
  },
  {
   "metadata": {
    "pycharm": {
     "name": "#%% md\n"
    }
   },
   "outputs": [],
   "source": [
    "### 2. Two-sample problems\n",
    "\n",
    "Here, we'll look at a related problem of comparing sample statistics across groups in a variable. In the Stack Overflow dataset, converted_comp is a numerical variable of annual compensation. age_first_code_cut is a categorical variable with two levels: child and adult, which describe when the user started programming. We can ask questions about differences in compensation across the two age groups, such as, are users who first programmed as a child better compensated than those that started as adults?"
   ],
   "execution_count": null,
   "cell_type": "markdown"
  },
  {
   "metadata": {
    "pycharm": {
     "name": "#%% md\n"
    }
   },
   "outputs": [],
   "source": [
    "### 3. Hypotheses\n",
    "\n",
    "The null hypothesis is that the population mean for the two groups is the same, and the alternative hypothesis is that the population mean for users who started coding as children is greater than for users who started coding as adults. We can write these hypotheses using equations. Mu represents an unknown population mean, and we use subscripts to denote which group the population mean belongs to. An alternate way of writing the equations is to compare the differences in population means to zero. Zero here corresponds to our hypothesized value for the difference in means.\n",
    "<br>\n",
    "<img src=\"image/img_6.png\">\n",
    "\n"
   ],
   "execution_count": null,
   "cell_type": "markdown"
  },
  {
   "metadata": {
    "pycharm": {
     "name": "#%% md\n"
    }
   },
   "outputs": [],
   "source": [
    "### 4. Calculating groupwise summary statistics\n",
    "\n",
    "To calculate summary statistics for each group, we start with the sample, group by the categorical variable, and then compute on the numeric variable. A pandas way of doing this is shown, calculating the mean of the converted_comp column after grouping by age_first_code_cut. Here, the child programmers have a mean compensation of 132,000 dollars compared to around 111,000 for adult programmers. Is that increase statistically significant or could it be explained by sampling variability?"
   ],
   "execution_count": null,
   "cell_type": "markdown"
  },
  {
   "cell_type": "code",
   "execution_count": 28,
   "outputs": [
    {
     "data": {
      "text/plain": "age_first_code_cut\nadult    111313.311047\nchild    132419.570621\nName: converted_comp, dtype: float64"
     },
     "execution_count": 28,
     "metadata": {},
     "output_type": "execute_result"
    }
   ],
   "source": [
    "stack_overflow.groupby(\"age_first_code_cut\")[\"converted_comp\"].mean()"
   ],
   "metadata": {
    "collapsed": false,
    "pycharm": {
     "name": "#%%\n"
    }
   }
  },
  {
   "metadata": {
    "pycharm": {
     "name": "#%% md\n"
    }
   },
   "outputs": [],
   "source": [
    "### 5. Test statistics\n",
    "\n",
    "Although we don't know the population mean, we estimate it using the sample mean. x-bar is used to denote a sample mean. Then we use subscripts to denote which group a sample mean corresponds to. The difference between these two sample means is the test statistic for the hypothesis test. The z-scores we saw in Chapter 1 are a type of standardized test statistic.\n",
    "\n",
    "$$\\bar{x}  - \\mbox{a sample mean}$$\n",
    "$$\\bar{x}_{child} - \\mbox{sample mean compensation for coding first as child}$$\n",
    "$$\\bar{x}_{adult} - \\mbox{sample mean compensation for coding first as adult}$$\n",
    "$$ \\bar{x}_{child} - \\bar{x}_{child}  - \\mbox{a test statistic}$$\n"
   ],
   "execution_count": null,
   "cell_type": "markdown"
  },
  {
   "metadata": {
    "pycharm": {
     "name": "#%% md\n"
    }
   },
   "outputs": [],
   "source": [
    "### 6. Standardizing the test statistic\n",
    "\n",
    "z-scores are calculated by taking the sample statistic, subtracting the mean of this statistic as the population parameter of interest, then dividing by the standard error. In the two sample case, the test statistic, denoted t, uses a similar equation. We take the difference between the sample statistics for the two groups, subtract the population difference between the two groups, then divide by the standard error.\n",
    "\n",
    "$$\\mbox{z value} = \\frac {\\mbox{sample statistic - population parameter value}}{\\mbox{standard error}}$$\n",
    "$$\\mbox{t value} = \\frac {\\mbox{difference sample statistic - difference in population parameter value}}{\\mbox{standard error}}$$\n",
    "\n",
    "$$\\mbox{t value} = \\frac {(\\bar{x}_{child} - \\bar{x}_{adult}) - (\\mu_{child} -\\mu_{adult})}{\\mbox{SE}(\\bar{x}_{child} - \\bar{x}_{adult})}$$"
   ],
   "execution_count": null,
   "cell_type": "markdown"
  },
  {
   "metadata": {
    "pycharm": {
     "name": "#%% md\n"
    }
   },
   "outputs": [],
   "source": [
    "### 7. Standard error\n",
    "\n",
    "To calculate the standard error, needed for the denominator of the test statistic equation, bootstrapping tends to be a good option. However, there is an easier way to approximate it. We calculate the standard deviation of the numeric variable for each group in the sample, and the number of observations in each group. Then enter those values into the equation and compute the result.\n",
    "$${\\mbox{SE}(\\bar{x}_{child} - \\bar{x}_{adult})} \\approx \\sqrt{\\frac{s^2_{child}}{n_{child}} + \\frac{s^2_{adult}}{n_{adult}}}$$\n",
    "\n"
   ],
   "execution_count": null,
   "cell_type": "markdown"
  },
  {
   "metadata": {
    "pycharm": {
     "name": "#%% md\n"
    }
   },
   "outputs": [],
   "source": [
    "### 8. Assuming the null hypothesis is true\n",
    "\n",
    "Here's the test statistic equation again. If we assume that the null hypothesis is true, there's a simplification we can make. The null hypothesis assumes that the population means are equal, and their difference is zero, so the population term in the numerator disappears. Inserting the approximation for the standard error, we now have a way of calculating the test statistic using only calculations on the sample dataset.\n",
    "\n",
    "$$\\mbox{t value} = \\frac {(\\bar{x}_{child} - \\bar{x}_{adult}) - (\\mu_{child} -\\mu_{adult})}{\\mbox{SE}(\\bar{x}_{child} - \\bar{x}_{adult})}$$\n",
    "\n",
    "Since null hypothesis is true : $(\\mu_{child} -\\mu_{adult}) = 0 $\n",
    "\n",
    "then\n",
    "\n",
    "$$\\mbox{t value} = \\frac {(\\bar{x}_{child} - \\bar{x}_{adult}) }{\\sqrt{\\frac{s^2_{child}}{n_{child}} + \\frac{s^2_{adult}}{n_{adult}}}$$"
   ],
   "execution_count": null,
   "cell_type": "markdown"
  },
  {
   "metadata": {
    "pycharm": {
     "name": "#%% md\n"
    }
   },
   "outputs": [],
   "source": [
    "### 9. Calculations assuming the null hypothesis is true\n",
    "\n",
    "We need the mean, standard deviation, and number of observations for each group to fill in the formula for t. We again use groupby and method combinations with mean, std, and count."
   ],
   "execution_count": null,
   "cell_type": "markdown"
  },
  {
   "cell_type": "code",
   "execution_count": 29,
   "outputs": [
    {
     "data": {
      "text/plain": "age_first_code_cut\nadult    111313.311047\nchild    132419.570621\nName: converted_comp, dtype: float64"
     },
     "execution_count": 29,
     "metadata": {},
     "output_type": "execute_result"
    }
   ],
   "source": [
    "x_bar = stack_overflow.groupby('age_first_code_cut')[\"converted_comp\"].mean()\n",
    "x_bar"
   ],
   "metadata": {
    "collapsed": false,
    "pycharm": {
     "name": "#%%\n"
    }
   }
  },
  {
   "cell_type": "code",
   "execution_count": 30,
   "outputs": [
    {
     "data": {
      "text/plain": "age_first_code_cut\nadult    271546.521729\nchild    255585.240115\nName: converted_comp, dtype: float64"
     },
     "execution_count": 30,
     "metadata": {},
     "output_type": "execute_result"
    }
   ],
   "source": [
    "s = stack_overflow.groupby('age_first_code_cut')[\"converted_comp\"].std()\n",
    "\n",
    "s"
   ],
   "metadata": {
    "collapsed": false,
    "pycharm": {
     "name": "#%%\n"
    }
   }
  },
  {
   "cell_type": "code",
   "execution_count": 31,
   "outputs": [
    {
     "data": {
      "text/plain": "age_first_code_cut\nadult    1376\nchild     885\nName: converted_comp, dtype: int64"
     },
     "execution_count": 31,
     "metadata": {},
     "output_type": "execute_result"
    }
   ],
   "source": [
    "n = stack_overflow.groupby('age_first_code_cut')[\"converted_comp\"].count()\n",
    "n"
   ],
   "metadata": {
    "collapsed": false,
    "pycharm": {
     "name": "#%%\n"
    }
   }
  },
  {
   "metadata": {
    "pycharm": {
     "name": "#%% md\n"
    }
   },
   "outputs": [],
   "source": [
    "### 10. Calculating the test statistic\n",
    "\n",
    "Assigning the values to six different variables, the numerator is a subtraction of the sample means, and the denominator is like a weighted hypotenuse. The t-statistic is around one-point-eight-seven. Just as with z-scores, we can't draw any conclusions yet; for that, we'll need to wait for the next video."
   ],
   "execution_count": null,
   "cell_type": "markdown"
  },
  {
   "cell_type": "code",
   "execution_count": 32,
   "outputs": [
    {
     "data": {
      "text/plain": "1.8699313316221844"
     },
     "execution_count": 32,
     "metadata": {},
     "output_type": "execute_result"
    }
   ],
   "source": [
    "numerator = x_bar.child - x_bar.adult\n",
    "denominator = np.sqrt((s.child ** 2 / n.child) + (s.adult ** 2 / n.adult))\n",
    "t_stat = numerator /denominator\n",
    "t_stat"
   ],
   "metadata": {
    "collapsed": false,
    "pycharm": {
     "name": "#%%\n"
    }
   }
  },
  {
   "metadata": {
    "pycharm": {
     "name": "#%% md\n"
    }
   },
   "outputs": [],
   "source": [
    "### 11. Let's practice!\n",
    "\n",
    "In the mean time, let's calculate some test statistics."
   ],
   "execution_count": null,
   "cell_type": "markdown"
  },
  {
   "metadata": {
    "pycharm": {
     "name": "#%% md\n"
    }
   },
   "outputs": [],
   "source": [
    "## Two sample mean test statistic\n",
    "\n",
    "<p>The hypothesis test for determining if there is a difference between the means of two populations uses a different type of test statistic to the z-scores you saw in Chapter 1. It's called \"t\", and it can be calculated from three values from each sample using this equation.</p>\n",
    "$$\\mbox{t value} = \\frac {(\\bar{x}_{child} - \\bar{x}_{adult}) }{\\sqrt{\\frac{s^2_{child}}{n_{child}} + \\frac{s^2_{adult}}{n_{adult}}}$$\n",
    "<p>While trying to determine why some shipments are late, you may wonder if the weight of the shipments that were on time is <strong>less than</strong> the weight of the shipments that were late. The <code>late_shipments</code> dataset has been split into a \"yes\" group, where <code>late == \"Yes\"</code> and a \"no\" group where <code>late == \"No\"</code>. The weight of the shipment is given in the <code>weight_kilograms</code> variable.</p>\n",
    "<p>The sample means for the two groups are available as <code>xbar_no</code> and <code>xbar_yes</code>. The sample standard deviations are <code>s_no</code> and <code>s_yes</code>. The sample sizes are <code>n_no</code> and <code>n_yes</code>. <code>numpy</code> is also loaded as <code>np</code>.</p>\n"
   ],
   "execution_count": null,
   "cell_type": "markdown"
  },
  {
   "cell_type": "code",
   "execution_count": 33,
   "outputs": [
    {
     "data": {
      "text/plain": "late\nNo     1897.791267\nYes    2715.672131\nName: weight_kilograms, dtype: float64"
     },
     "execution_count": 33,
     "metadata": {},
     "output_type": "execute_result"
    }
   ],
   "source": [
    "x_bar = late_shipments.groupby(\"late\")[\"weight_kilograms\"].mean()\n",
    "x_bar"
   ],
   "metadata": {
    "collapsed": false,
    "pycharm": {
     "name": "#%%\n"
    }
   }
  },
  {
   "cell_type": "code",
   "execution_count": 34,
   "outputs": [
    {
     "data": {
      "text/plain": "late\nNo     3154.039507\nYes    2544.688211\nName: weight_kilograms, dtype: float64"
     },
     "execution_count": 34,
     "metadata": {},
     "output_type": "execute_result"
    }
   ],
   "source": [
    "s = late_shipments.groupby(\"late\")[\"weight_kilograms\"].std()\n",
    "x_bar = late_shipments.groupby(\"late\")[\"weight_kilograms\"].mean()\n",
    "n = late_shipments.groupby(\"late\")[\"weight_kilograms\"].count()\n",
    "s"
   ],
   "metadata": {
    "collapsed": false,
    "pycharm": {
     "name": "#%%\n"
    }
   }
  },
  {
   "cell_type": "code",
   "execution_count": 35,
   "outputs": [
    {
     "data": {
      "text/plain": "late\nNo     939\nYes     61\nName: weight_kilograms, dtype: int64"
     },
     "execution_count": 35,
     "metadata": {},
     "output_type": "execute_result"
    }
   ],
   "source": [
    "n = late_shipments.groupby(\"late\")[\"weight_kilograms\"].count()\n",
    "n"
   ],
   "metadata": {
    "collapsed": false,
    "pycharm": {
     "name": "#%%\n"
    }
   }
  },
  {
   "metadata": {
    "pycharm": {
     "name": "#%% md\n"
    }
   },
   "outputs": [],
   "source": [
    "Calculate the numerator of the <mjx-container class=\"MathJax CtxtMenu_Attached_0\" jax=\"CHTML\" role=\"presentation\" tabindex=\"0\" ctxtmenu_counter=\"5\" style=\"font-size: 116.7%; position: relative;\"><mjx-math class=\"MJX-TEX\" aria-hidden=\"true\"><mjx-mi class=\"mjx-i\"><mjx-c class=\"mjx-c1D461 TEX-I\"></mjx-c></mjx-mi></mjx-math><mjx-assistive-mml role=\"presentation\" unselectable=\"on\" display=\"inline\"><math xmlns=\"http://www.w3.org/1998/Math/MathML\"><mi>t</mi></math></mjx-assistive-mml></mjx-container> test statistic."
   ],
   "execution_count": null,
   "cell_type": "markdown"
  },
  {
   "cell_type": "code",
   "execution_count": 36,
   "outputs": [
    {
     "data": {
      "text/plain": "-2.3936661778766433"
     },
     "execution_count": 36,
     "metadata": {},
     "output_type": "execute_result"
    }
   ],
   "source": [
    "numerator = x_bar.No - x_bar.Yes\n",
    "denominator = np.sqrt(s.No ** 2 / n.No  + s.Yes **2 /n.Yes)\n",
    "t_stat = numerator /denominator\n",
    "t_stat"
   ],
   "metadata": {
    "collapsed": false,
    "pycharm": {
     "name": "#%%\n"
    }
   }
  },
  {
   "metadata": {
    "pycharm": {
     "name": "#%% md\n"
    }
   },
   "outputs": [],
   "source": [
    "## Time for t"
   ],
   "execution_count": null,
   "cell_type": "markdown"
  },
  {
   "metadata": {
    "pycharm": {
     "name": "#%% md\n"
    }
   },
   "outputs": [],
   "source": [
    "### 1. Time for t\n",
    "\n",
    "In the previous lesson, we calculated the test statistic t."
   ],
   "execution_count": null,
   "cell_type": "markdown"
  },
  {
   "metadata": {
    "pycharm": {
     "name": "#%% md\n"
    }
   },
   "outputs": [],
   "source": [
    "### 2. t-distributions\n",
    "\n",
    "The test statistic, t, follows a t-distribution. t-distributions have a parameter called the degrees of freedom, or df for short. Here's a line plot of the PDF of a t-distribution with one degree of freedom in yellow, and the PDF of a normal distribution in blue dashes. Notice that the t-distribution for small degrees of freedom has fatter tails than the normal distribution, but otherwise they look similar."
   ],
   "execution_count": null,
   "cell_type": "markdown"
  },
  {
   "cell_type": "code",
   "execution_count": 37,
   "outputs": [
    {
     "data": {
      "text/plain": "<Figure size 432x288 with 1 Axes>",
      "image/png": "[encoded data removed]"
     },
     "metadata": {},
     "output_type": "display_data"
    }
   ],
   "source": [
    "from scipy.stats import  t\n",
    "norm_pdf = norm.pdf(xs)\n",
    "t_pdf = t.pdf(xs,df=1)\n",
    "plt.plot(xs,norm_pdf,ls=\"--\",color=\"b\",label=\"norm\")\n",
    "plt.plot(xs,t_pdf,color=\"y\",label=\"t\")\n",
    "plt.legend()\n",
    "plt.show()"
   ],
   "metadata": {
    "collapsed": false,
    "pycharm": {
     "name": "#%%\n"
    }
   }
  },
  {
   "metadata": {
    "pycharm": {
     "name": "#%% md\n"
    }
   },
   "outputs": [],
   "source": [
    "### 3. Degrees of freedom\n",
    "\n",
    "As we increase the degrees of freedom, the t-distribution gets closer to the normal distribution. In fact, a normal distribution is a t-distribution with infinite degrees of freedom. Degrees of freedom are defined as the maximum number of logically independent values in the data sample. That's a fairly tricky concept, so let's try an example."
   ],
   "execution_count": null,
   "cell_type": "markdown"
  },
  {
   "cell_type": "code",
   "execution_count": 38,
   "outputs": [],
   "source": [
    "def plot_t(dfs):\n",
    "    for df in dfs:\n",
    "        plt.plot(xs,t.pdf(xs,df),label=f\"t: df = {df}\")"
   ],
   "metadata": {
    "collapsed": false,
    "pycharm": {
     "name": "#%%\n"
    }
   }
  },
  {
   "cell_type": "code",
   "execution_count": 39,
   "outputs": [
    {
     "data": {
      "text/plain": "<Figure size 432x288 with 1 Axes>",
      "image/png": "[encoded data removed]"
     },
     "metadata": {},
     "output_type": "display_data"
    }
   ],
   "source": [
    "plt.plot(xs,norm_pdf,ls=\"--\",color=\"b\",label=\"norm\")\n",
    "plot_t([1,2,4,8])\n",
    "plt.legend()\n",
    "plt.show()"
   ],
   "metadata": {
    "collapsed": false,
    "pycharm": {
     "name": "#%%\n"
    }
   }
  },
  {
   "metadata": {
    "pycharm": {
     "name": "#%% md\n"
    }
   },
   "outputs": [],
   "source": [
    "### 4. Calculating degrees of freedom\n",
    "\n",
    "Suppose our dataset has 5 independent observations, and that four of the values are 2, 6, 8, and 5. Suppose we also know the sample mean is 5. With this knowledge, the fifth value is no longer independent; it must be 4. Even though all five observations in the sample were independent, because we know an additional fact about the sample - that is has a mean of 5 - we only have 4 degrees of freedom. In our two sample case, there are as many degrees of freedom as observations, minus two because we know two sample statistics, the means for each group."
   ],
   "execution_count": null,
   "cell_type": "markdown"
  },
  {
   "metadata": {
    "pycharm": {
     "name": "#%% md\n"
    }
   },
   "outputs": [],
   "source": [
    "### 5. Hypotheses\n",
    "\n",
    "Recall the hypotheses for our Stack Overflow question about compensation for the two age groups. Since this is a \"greater than\" alternative hypothesis, we need a right-tailed test."
   ],
   "execution_count": null,
   "cell_type": "markdown"
  },
  {
   "metadata": {
    "pycharm": {
     "name": "#%% md\n"
    }
   },
   "outputs": [],
   "source": [
    "### 6. Significance level\n",
    "\n",
    "We're going to calculate a p-value in a moment, but we first need to decide on a significance level. There are several possibilities; let's use point-one. That means that we reject the null hypothesis in favor of the alternative if the p-value is less-than-or-equal-to point-one."
   ],
   "execution_count": null,
   "cell_type": "markdown"
  },
  {
   "metadata": {
    "pycharm": {
     "name": "#%% md\n"
    }
   },
   "outputs": [],
   "source": [
    "### 7. Calculating p-values: one proportion vs. a value\n",
    "\n",
    "In Chapter 1, to get the p-value, we transformed the z-score with the normal CDF. Since it was a right-tailed test, we subtracted the result from one. In the previous video, we used an approximation for the test statistic standard error using sample information. Using this approximation adds more uncertainty and that's why this is a t instead of a z problem. The t distribution allows for more uncertainty when using multiple estimates in a single statistic calculation. Here, the multiple estimates correspond to the sample mean and the sample standard deviation."
   ],
   "execution_count": null,
   "cell_type": "markdown"
  },
  {
   "metadata": {
    "pycharm": {
     "name": "#%% md\n"
    }
   },
   "outputs": [],
   "source": [
    "### 8. Calculating p-values: two means from different groups\n",
    "\n",
    "Now we are calculating means rather than proportions, the z-score is replaced with a t test statistic. This is the value calculated in the previous video. The calculation also needs the degrees of freedom, which is the total number of observations in both groups, minus two."
   ],
   "execution_count": null,
   "cell_type": "markdown"
  },
  {
   "cell_type": "code",
   "execution_count": 40,
   "outputs": [],
   "source": [
    "x_bar = stack_overflow.groupby('age_first_code_cut')[\"converted_comp\"].mean()\n",
    "s = stack_overflow.groupby('age_first_code_cut')[\"converted_comp\"].std()\n",
    "n = stack_overflow.groupby('age_first_code_cut')[\"converted_comp\"].count()"
   ],
   "metadata": {
    "collapsed": false,
    "pycharm": {
     "name": "#%%\n"
    }
   }
  },
  {
   "cell_type": "code",
   "execution_count": 41,
   "outputs": [
    {
     "data": {
      "text/plain": "1.8699313316221844"
     },
     "execution_count": 41,
     "metadata": {},
     "output_type": "execute_result"
    }
   ],
   "source": [
    "numerator = x_bar.child - x_bar.adult\n",
    "denominator = np.sqrt((s.child ** 2 / n.child) + (s.adult ** 2 / n.adult))\n",
    "t_stat = numerator /denominator\n",
    "t_stat"
   ],
   "metadata": {
    "collapsed": false,
    "pycharm": {
     "name": "#%%\n"
    }
   }
  },
  {
   "cell_type": "code",
   "execution_count": 42,
   "outputs": [
    {
     "data": {
      "text/plain": "2259"
     },
     "execution_count": 42,
     "metadata": {},
     "output_type": "execute_result"
    }
   ],
   "source": [
    "degrees_of_freedom = n.child + n.adult -2\n",
    "degrees_of_freedom"
   ],
   "metadata": {
    "collapsed": false,
    "pycharm": {
     "name": "#%%\n"
    }
   }
  },
  {
   "metadata": {
    "pycharm": {
     "name": "#%% md\n"
    }
   },
   "outputs": [],
   "source": [
    "### 9. Calculating p-values: two means from different groups\n",
    "\n",
    "To calculate the p-value, we need to transform the test statistic using the t-distribution CDF instead of the normal distribution CDF. Notice the use of t-dot-cdf instead of norm-dot-cdf, and that the df argument is set to the degrees of freedom. This p-value is less than the significance level of point-one, so we should reject the null hypothesis in favor of the alternative hypothesis that Stack Overflow data scientists who started coding as children earn more."
   ],
   "execution_count": null,
   "cell_type": "markdown"
  },
  {
   "cell_type": "code",
   "execution_count": 43,
   "outputs": [
    {
     "data": {
      "text/plain": "0.030811302165157595"
     },
     "execution_count": 43,
     "metadata": {},
     "output_type": "execute_result"
    }
   ],
   "source": [
    "1 - t.cdf(t_stat,df=degrees_of_freedom)"
   ],
   "metadata": {
    "collapsed": false,
    "pycharm": {
     "name": "#%%\n"
    }
   }
  },
  {
   "metadata": {
    "pycharm": {
     "name": "#%% md\n"
    }
   },
   "outputs": [],
   "source": [
    "### 10. Let's practice!\n",
    "\n",
    "While I reevaluate my own childhood and wonder why I didn't start programming earlier, time for you to do some exercises."
   ],
   "execution_count": null,
   "cell_type": "markdown"
  },
  {
   "metadata": {
    "pycharm": {
     "name": "#%% md\n"
    }
   },
   "outputs": [],
   "source": [
    "## From t to p\n",
    "\n",
    "<p>Previously, you calculated the test statistic for the two-sample problem of whether the mean weight of shipments is smaller for shipments that weren't late (<code>late == \"No\"</code>) compared to shipments that were late (<code>late == \"Yes\"</code>). In order to make decisions about it, you need to transform the test statistic with a cumulative distribution function to get a p-value.</p>\n",
    "<p>Recall the hypotheses:</p>\n",
    "<p><mjx-container class=\"MathJax CtxtMenu_Attached_0\" jax=\"CHTML\" role=\"presentation\" tabindex=\"0\" ctxtmenu_counter=\"2\" style=\"font-size: 116.7%; position: relative;\"><mjx-math class=\"MJX-TEX\" aria-hidden=\"true\"><mjx-msub><mjx-mi class=\"mjx-i\" noic=\"true\"><mjx-c class=\"mjx-c1D43B TEX-I\"></mjx-c></mjx-mi><mjx-script style=\"vertical-align: -0.15em;\"><mjx-texatom size=\"s\" texclass=\"ORD\"><mjx-mn class=\"mjx-n\"><mjx-c class=\"mjx-c30\"></mjx-c></mjx-mn></mjx-texatom></mjx-script></mjx-msub></mjx-math><mjx-assistive-mml role=\"presentation\" unselectable=\"on\" display=\"inline\"><math xmlns=\"http://www.w3.org/1998/Math/MathML\"><msub><mi>H</mi><mrow><mn>0</mn></mrow></msub></math></mjx-assistive-mml></mjx-container>: The mean weight of shipments that weren't late is the same as the mean weight of shipments that were late.</p>\n",
    "<p><mjx-container class=\"MathJax CtxtMenu_Attached_0\" jax=\"CHTML\" role=\"presentation\" tabindex=\"0\" ctxtmenu_counter=\"3\" style=\"font-size: 116.7%; position: relative;\"><mjx-math class=\"MJX-TEX\" aria-hidden=\"true\"><mjx-msub><mjx-mi class=\"mjx-i\" noic=\"true\"><mjx-c class=\"mjx-c1D43B TEX-I\"></mjx-c></mjx-mi><mjx-script style=\"vertical-align: -0.153em;\"><mjx-texatom size=\"s\" texclass=\"ORD\"><mjx-mi class=\"mjx-i\"><mjx-c class=\"mjx-c1D434 TEX-I\"></mjx-c></mjx-mi></mjx-texatom></mjx-script></mjx-msub></mjx-math><mjx-assistive-mml role=\"presentation\" unselectable=\"on\" display=\"inline\"><math xmlns=\"http://www.w3.org/1998/Math/MathML\"><msub><mi>H</mi><mrow><mi>A</mi></mrow></msub></math></mjx-assistive-mml></mjx-container>: The mean weight of shipments that weren't late is less than the mean weight of shipments that were late.</p>\n",
    "<p>The test statistic, <code>t_stat</code>, is available, as are the samples sizes for each group, <code>n_no</code> and <code>n_yes</code>. Use a significance level of <code>alpha = 0.05</code>.</p>\n",
    "<p><code>t</code> has also been imported from <code>scipy.stats</code>.</p>"
   ],
   "execution_count": null,
   "cell_type": "markdown"
  },
  {
   "cell_type": "code",
   "execution_count": 44,
   "outputs": [
    {
     "data": {
      "text/plain": "-2.3936661778766433"
     },
     "execution_count": 44,
     "metadata": {},
     "output_type": "execute_result"
    }
   ],
   "source": [
    "s = late_shipments.groupby(\"late\")[\"weight_kilograms\"].std()\n",
    "x_bar = late_shipments.groupby(\"late\")[\"weight_kilograms\"].mean()\n",
    "n = late_shipments.groupby(\"late\")[\"weight_kilograms\"].count()\n",
    "numerator = x_bar.No - x_bar.Yes\n",
    "denominator = np.sqrt(s.No ** 2 / n.No  + s.Yes **2 /n.Yes)\n",
    "t_stat = numerator /denominator\n",
    "t_stat"
   ],
   "metadata": {
    "collapsed": false,
    "pycharm": {
     "name": "#%%\n"
    }
   }
  },
  {
   "cell_type": "code",
   "execution_count": 45,
   "outputs": [
    {
     "data": {
      "text/plain": "0.008432382146249523"
     },
     "execution_count": 45,
     "metadata": {},
     "output_type": "execute_result"
    }
   ],
   "source": [
    "degrees_of_freedom = n.No + n.Yes -2\n",
    "p_value = t.cdf(t_stat,df=degrees_of_freedom)\n",
    "p_value"
   ],
   "metadata": {
    "collapsed": false,
    "pycharm": {
     "name": "#%%\n"
    }
   }
  },
  {
   "metadata": {
    "pycharm": {
     "name": "#%% md\n"
    }
   },
   "outputs": [],
   "source": [
    "## Pairing is caring"
   ],
   "execution_count": null,
   "cell_type": "markdown"
  },
  {
   "metadata": {
    "pycharm": {
     "name": "#%% md\n"
    }
   },
   "outputs": [],
   "source": [
    "### 1. Pairing is caring\n",
    "\n",
    "Previously, we used the t-distribution to compute a p-value from a standardized test statistic related to the difference in means across two groups."
   ],
   "execution_count": null,
   "cell_type": "markdown"
  },
  {
   "metadata": {
    "pycharm": {
     "name": "#%% md\n"
    }
   },
   "outputs": [],
   "source": [
    "### 2. US Republican presidents dataset\n",
    "\n",
    "Here's a dataset of US presidential elections. Each row represents a presidential election at the county level. The variables in the dataset are the US state, the county within that state, and the percentage of votes for the Republican candidate in 2008, and in 2012."
   ],
   "execution_count": null,
   "cell_type": "markdown"
  },
  {
   "cell_type": "code",
   "execution_count": 46,
   "outputs": [
    {
     "data": {
      "text/plain": "        state   county  repub_percent_08  repub_percent_12\n0     Alabama     Hale         38.957877         37.139882\n1    Arkansas   Nevada         56.726272         58.983452\n2  California     Lake         38.896719         39.331367\n3  California  Ventura         42.923190         45.250693\n4    Colorado  Lincoln         74.522569         73.764757",
      "text/html": "<div>\n<style scoped>\n    .dataframe tbody tr th:only-of-type {\n        vertical-align: middle;\n    }\n\n    .dataframe tbody tr th {\n        vertical-align: top;\n    }\n\n    .dataframe thead th {\n        text-align: right;\n    }\n</style>\n<table border=\"1\" class=\"dataframe\">\n  <thead>\n    <tr style=\"text-align: right;\">\n      <th></th>\n      <th>state</th>\n      <th>county</th>\n      <th>repub_percent_08</th>\n      <th>repub_percent_12</th>\n    </tr>\n  </thead>\n  <tbody>\n    <tr>\n      <th>0</th>\n      <td>Alabama</td>\n      <td>Hale</td>\n      <td>38.957877</td>\n      <td>37.139882</td>\n    </tr>\n    <tr>\n      <th>1</th>\n      <td>Arkansas</td>\n      <td>Nevada</td>\n      <td>56.726272</td>\n      <td>58.983452</td>\n    </tr>\n    <tr>\n      <th>2</th>\n      <td>California</td>\n      <td>Lake</td>\n      <td>38.896719</td>\n      <td>39.331367</td>\n    </tr>\n    <tr>\n      <th>3</th>\n      <td>California</td>\n      <td>Ventura</td>\n      <td>42.923190</td>\n      <td>45.250693</td>\n    </tr>\n    <tr>\n      <th>4</th>\n      <td>Colorado</td>\n      <td>Lincoln</td>\n      <td>74.522569</td>\n      <td>73.764757</td>\n    </tr>\n  </tbody>\n</table>\n</div>"
     },
     "execution_count": 46,
     "metadata": {},
     "output_type": "execute_result"
    }
   ],
   "source": [
    "repub_votes_potus_08_12 = pd.read_feather(\"data/repub_votes_potus_08_12.feather\")\n",
    "repub_votes_potus_08_12.head()"
   ],
   "metadata": {
    "collapsed": false,
    "pycharm": {
     "name": "#%%\n"
    }
   }
  },
  {
   "metadata": {
    "pycharm": {
     "name": "#%% md\n"
    }
   },
   "outputs": [],
   "source": [
    "### 3. Hypotheses\n",
    "\n",
    "One question : **whether the percentage of votes for the Republican candidate was lower in 2008 compared to 2012?**\n",
    "\n",
    "\n",
    "To test this, we form hypotheses. As before, the null hypothesis is that our hunch is wrong, and that the population parameters are the same in each year group. The alternative hypothesis is that the parameter in 2008 was lower than in 2012. Let's set a significance level of point-zero-five. One feature of this dataset is that the 2008 votes and the 2012 votes are paired, which means they aren't independent, since they both refer to the same county. This means voting patterns may occur due to county-level demographics and local politics, and we want to capture this pairing in our model.\n",
    "\n",
    "$$H_0 : \\mu_{2008} - \\mu_{2012} = 0$$\n",
    "$$H_A : \\mu_{2008} - \\mu_{2012} \\lt 0$$\n",
    "\n",
    "$$\\alpha = 0.05$$\n"
   ],
   "execution_count": null,
   "cell_type": "markdown"
  },
  {
   "cell_type": "code",
   "execution_count": 46,
   "outputs": [],
   "source": [],
   "metadata": {
    "collapsed": false,
    "pycharm": {
     "name": "#%%\n"
    }
   }
  },
  {
   "metadata": {
    "pycharm": {
     "name": "#%% md\n"
    }
   },
   "outputs": [],
   "source": [
    "### 4. From two samples to one\n",
    "\n",
    "For paired analyses, rather than considering the two variables separately, we can consider a single variable of the difference. This is stored in a DataFrame called sample_data with a column named diff. In this histogram of the difference, most values are between minus ten and ten, with at least one outlier."
   ],
   "execution_count": null,
   "cell_type": "markdown"
  },
  {
   "cell_type": "code",
   "execution_count": 47,
   "outputs": [],
   "source": [
    "sample_data = repub_votes_potus_08_12"
   ],
   "metadata": {
    "collapsed": false,
    "pycharm": {
     "name": "#%%\n"
    }
   }
  },
  {
   "cell_type": "code",
   "execution_count": 48,
   "outputs": [
    {
     "data": {
      "text/plain": "<Figure size 432x288 with 1 Axes>",
      "image/png": "[encoded data removed]"
     },
     "metadata": {},
     "output_type": "display_data"
    }
   ],
   "source": [
    "\n",
    "sample_data[\"diff\"] = sample_data[\"repub_percent_08\"] - sample_data[\"repub_percent_12\"]\n",
    "sample_data[\"diff\"].hist(bins=20)\n",
    "plt.show()"
   ],
   "metadata": {
    "collapsed": false,
    "pycharm": {
     "name": "#%%\n"
    }
   }
  },
  {
   "metadata": {
    "pycharm": {
     "name": "#%% md\n"
    }
   },
   "outputs": [],
   "source": [
    "### 5. Calculate sample statistics of the difference\n",
    "\n",
    "The sample mean, x-bar, is calculated from this difference. It is around minus two-point-eight-eight."
   ],
   "execution_count": null,
   "cell_type": "markdown"
  },
  {
   "cell_type": "code",
   "execution_count": 49,
   "outputs": [
    {
     "data": {
      "text/plain": "-2.8771090412429454"
     },
     "execution_count": 49,
     "metadata": {},
     "output_type": "execute_result"
    }
   ],
   "source": [
    "x_bar_diff = sample_data[\"diff\"].mean()\n",
    "x_bar_diff"
   ],
   "metadata": {
    "collapsed": false,
    "pycharm": {
     "name": "#%%\n"
    }
   }
  },
  {
   "metadata": {
    "pycharm": {
     "name": "#%% md\n"
    }
   },
   "outputs": [],
   "source": [
    "### 6. Revised hypotheses\n",
    "\n",
    "We can restate the hypotheses in terms of the single population mean, mu-diff, being equal to or less than zero. The test statistic, t, has a slightly simpler equation compared to the two sample case. We have one statistic, so the number of degrees of freedom is the number of pairs minus one.\n",
    "\n",
    "Old Hypo :\n",
    "\n",
    "$$H_0 : \\mu_{2008} - \\mu_{2012} = 0$$\n",
    "$$H_A : \\mu_{2008} - \\mu_{2012} \\lt 0$$\n",
    "\n",
    "New Hypo:\n",
    "$$H_0 : \\mu_{diff} = 0$$\n",
    "$$H_A : \\mu_{diff} \\lt 0$$"
   ],
   "execution_count": null,
   "cell_type": "markdown"
  },
  {
   "cell_type": "code",
   "execution_count": 50,
   "outputs": [
    {
     "data": {
      "text/plain": "-5.601043121928492"
     },
     "execution_count": 50,
     "metadata": {},
     "output_type": "execute_result"
    }
   ],
   "source": [
    "n_diff = len(sample_data)\n",
    "s_diff = sample_data[\"diff\"].std()\n",
    "t_stat = x_bar_diff / np.sqrt((s_diff**2) /n_diff)\n",
    "t_stat"
   ],
   "metadata": {
    "collapsed": false,
    "pycharm": {
     "name": "#%%\n"
    }
   }
  },
  {
   "cell_type": "code",
   "execution_count": 51,
   "outputs": [
    {
     "data": {
      "text/plain": "9.572537285272304e-08"
     },
     "execution_count": 51,
     "metadata": {},
     "output_type": "execute_result"
    }
   ],
   "source": [
    "p_value =t.cdf(t_stat,df = (n_diff  -1 ))\n",
    "p_value"
   ],
   "metadata": {
    "collapsed": false,
    "pycharm": {
     "name": "#%%\n"
    }
   }
  },
  {
   "metadata": {
    "pycharm": {
     "name": "#%% md\n"
    }
   },
   "outputs": [],
   "source": [
    "### 8. Testing differences between two means using ttest()\n",
    "\n",
    "That was a lot of calculating. Fortunately, there's an easier way. The pinguoin package provides a variety of different methods for hypothesis testing and returns the results as a pandas DataFrame. Its output can be a little friendlier to work with than similar methods from scipy-dot-stats. One method from pingouin is ttest and it works with array-like objects, so the first argument is the Series of differences. For a converted one sample test like this, y specifies the hypothesized difference value from the null hypothesis, which is zero. The type of alternative hypothesis can be specified as two-sided, less, or greater, corresponding to two-tailed, left-tailed, and right-tailed tests, respectively. Here's the output. We can recognize the value of the test statistic, the degrees of freedom, the alternative direction, and the p-value. The additional output refers to more advanced statistical concepts that are outside the scope of this course."
   ],
   "execution_count": null,
   "cell_type": "markdown"
  },
  {
   "cell_type": "code",
   "execution_count": 52,
   "outputs": [
    {
     "data": {
      "text/plain": "               T  dof alternative         p-val          CI95%   cohen-d  \\\nT-test -5.601043   99        less  9.572537e-08  [-inf, -2.02]  0.560104   \n\n             BF10  power  \nT-test  1.323e+05    1.0  ",
      "text/html": "<div>\n<style scoped>\n    .dataframe tbody tr th:only-of-type {\n        vertical-align: middle;\n    }\n\n    .dataframe tbody tr th {\n        vertical-align: top;\n    }\n\n    .dataframe thead th {\n        text-align: right;\n    }\n</style>\n<table border=\"1\" class=\"dataframe\">\n  <thead>\n    <tr style=\"text-align: right;\">\n      <th></th>\n      <th>T</th>\n      <th>dof</th>\n      <th>alternative</th>\n      <th>p-val</th>\n      <th>CI95%</th>\n      <th>cohen-d</th>\n      <th>BF10</th>\n      <th>power</th>\n    </tr>\n  </thead>\n  <tbody>\n    <tr>\n      <th>T-test</th>\n      <td>-5.601043</td>\n      <td>99</td>\n      <td>less</td>\n      <td>9.572537e-08</td>\n      <td>[-inf, -2.02]</td>\n      <td>0.560104</td>\n      <td>1.323e+05</td>\n      <td>1.0</td>\n    </tr>\n  </tbody>\n</table>\n</div>"
     },
     "execution_count": 52,
     "metadata": {},
     "output_type": "execute_result"
    }
   ],
   "source": [
    "import pingouin\n",
    "pingouin.ttest(x=sample_data[\"diff\"],\n",
    "               y=0,\n",
    "               alternative=\"less\")"
   ],
   "metadata": {
    "collapsed": false,
    "pycharm": {
     "name": "#%%\n"
    }
   }
  },
  {
   "metadata": {
    "pycharm": {
     "name": "#%% md\n"
    }
   },
   "outputs": [],
   "source": [
    "### 9. ttest() with paired=True\n",
    "\n",
    "There's a variation of ttest for paired data that requires even less work. Rather than calculating the difference between the two paired variables, we can just pass them both directly to ttest as x and y, and set paired to True. Notice that the results in the first four columns are the same as before."
   ],
   "execution_count": null,
   "cell_type": "markdown"
  },
  {
   "cell_type": "code",
   "execution_count": 53,
   "outputs": [
    {
     "data": {
      "text/plain": "               T  dof alternative         p-val          CI95%   cohen-d  \\\nT-test -5.601043   99        less  9.572537e-08  [-inf, -2.02]  0.217364   \n\n             BF10     power  \nT-test  1.323e+05  0.696338  ",
      "text/html": "<div>\n<style scoped>\n    .dataframe tbody tr th:only-of-type {\n        vertical-align: middle;\n    }\n\n    .dataframe tbody tr th {\n        vertical-align: top;\n    }\n\n    .dataframe thead th {\n        text-align: right;\n    }\n</style>\n<table border=\"1\" class=\"dataframe\">\n  <thead>\n    <tr style=\"text-align: right;\">\n      <th></th>\n      <th>T</th>\n      <th>dof</th>\n      <th>alternative</th>\n      <th>p-val</th>\n      <th>CI95%</th>\n      <th>cohen-d</th>\n      <th>BF10</th>\n      <th>power</th>\n    </tr>\n  </thead>\n  <tbody>\n    <tr>\n      <th>T-test</th>\n      <td>-5.601043</td>\n      <td>99</td>\n      <td>less</td>\n      <td>9.572537e-08</td>\n      <td>[-inf, -2.02]</td>\n      <td>0.217364</td>\n      <td>1.323e+05</td>\n      <td>0.696338</td>\n    </tr>\n  </tbody>\n</table>\n</div>"
     },
     "execution_count": 53,
     "metadata": {},
     "output_type": "execute_result"
    }
   ],
   "source": [
    "pingouin.ttest(x=sample_data[\"repub_percent_08\"],\n",
    "               y=sample_data[\"repub_percent_12\"],\n",
    "               paired=True,\n",
    "               alternative=\"less\")"
   ],
   "metadata": {
    "collapsed": false,
    "pycharm": {
     "name": "#%%\n"
    }
   }
  },
  {
   "metadata": {
    "pycharm": {
     "name": "#%% md\n"
    }
   },
   "outputs": [],
   "source": [
    "### 10. Unpaired ttest()\n",
    "\n",
    "If we don't set paired to True and instead perform an unpaired t-test, then the numbers change. The test statistic is closer to zero, there are more degrees of freedom, and the p-value is much larger. Performing an unpaired t-test when our data is paired increases the chances of false negative errors."
   ],
   "execution_count": null,
   "cell_type": "markdown"
  },
  {
   "cell_type": "code",
   "execution_count": 54,
   "outputs": [
    {
     "data": {
      "text/plain": "               T  dof alternative     p-val         CI95%   cohen-d   BF10  \\\nT-test -1.536997  198        less  0.062945  [-inf, 0.22]  0.217364  0.927   \n\n           power  \nT-test  0.454972  ",
      "text/html": "<div>\n<style scoped>\n    .dataframe tbody tr th:only-of-type {\n        vertical-align: middle;\n    }\n\n    .dataframe tbody tr th {\n        vertical-align: top;\n    }\n\n    .dataframe thead th {\n        text-align: right;\n    }\n</style>\n<table border=\"1\" class=\"dataframe\">\n  <thead>\n    <tr style=\"text-align: right;\">\n      <th></th>\n      <th>T</th>\n      <th>dof</th>\n      <th>alternative</th>\n      <th>p-val</th>\n      <th>CI95%</th>\n      <th>cohen-d</th>\n      <th>BF10</th>\n      <th>power</th>\n    </tr>\n  </thead>\n  <tbody>\n    <tr>\n      <th>T-test</th>\n      <td>-1.536997</td>\n      <td>198</td>\n      <td>less</td>\n      <td>0.062945</td>\n      <td>[-inf, 0.22]</td>\n      <td>0.217364</td>\n      <td>0.927</td>\n      <td>0.454972</td>\n    </tr>\n  </tbody>\n</table>\n</div>"
     },
     "execution_count": 54,
     "metadata": {},
     "output_type": "execute_result"
    }
   ],
   "source": [
    "pingouin.ttest(x=sample_data[\"repub_percent_08\"],\n",
    "               y=sample_data[\"repub_percent_12\"],\n",
    "               paired=False,\n",
    "               alternative=\"less\")"
   ],
   "metadata": {
    "collapsed": false,
    "pycharm": {
     "name": "#%%\n"
    }
   }
  },
  {
   "metadata": {
    "pycharm": {
     "name": "#%% md\n"
    }
   },
   "outputs": [],
   "source": [
    "### 11. Let's practice!\n",
    "\n",
    "Time to perform some pairing."
   ],
   "execution_count": null,
   "cell_type": "markdown"
  },
  {
   "metadata": {
    "pycharm": {
     "name": "#%% md\n"
    }
   },
   "outputs": [],
   "source": [
    "## Visualizing the difference\n",
    "\n",
    "<p>Before you start running hypothesis tests, it's a great idea to perform some exploratory data analysis; that is, calculating summary statistics and visualizing distributions.</p>\n",
    "<p>Here, you'll look at the proportion of county-level votes for the Democratic candidate in 2012 and 2016, <code>sample_dem_data</code>. Since the counties are the same in both years, these samples are paired. The columns containing the samples are <code>dem_percent_12</code> and <code>dem_percent_16</code>.</p>\n",
    "<p><code>dem_votes_potus_12_16</code> is available as <code>sample_dem_data</code>. <code>pandas</code> and <code>matplotlib.pyplot</code> are loaded with their usual aliases.</p>"
   ],
   "execution_count": null,
   "cell_type": "markdown"
  },
  {
   "cell_type": "code",
   "execution_count": 55,
   "outputs": [],
   "source": [
    "sample_dem_data = pd.read_feather(\"data/dem_votes_potus_12_16.feather\")"
   ],
   "metadata": {
    "collapsed": false,
    "pycharm": {
     "name": "#%%\n"
    }
   }
  },
  {
   "metadata": {
    "pycharm": {
     "name": "#%% md\n"
    }
   },
   "outputs": [],
   "source": [
    "Create a new <code>diff</code> column containing the percentage of votes for the democratic candidate in 2012 minus the percentage of votes for the democratic candidate in 2016."
   ],
   "execution_count": null,
   "cell_type": "markdown"
  },
  {
   "cell_type": "code",
   "execution_count": 56,
   "outputs": [
    {
     "data": {
      "text/plain": "<Figure size 432x288 with 1 Axes>",
      "image/png": "[encoded data removed]"
     },
     "metadata": {},
     "output_type": "display_data"
    }
   ],
   "source": [
    "# Calculate the differences from 2012 to 2016\n",
    "sample_dem_data['diff'] = sample_dem_data['dem_percent_12'] - sample_dem_data['dem_percent_16']\n",
    "\n",
    "# Find the mean of the diff column\n",
    "xbar_diff = sample_dem_data['diff'].mean()\n",
    "\n",
    "# Find the standard deviation of the diff column\n",
    "s_diff = sample_dem_data['diff'].std()\n",
    "\n",
    "# Plot a histogram of diff with 20 bins\n",
    "sample_dem_data[\"diff\"].hist(bins=20)\n",
    "plt.show()"
   ],
   "metadata": {
    "collapsed": false,
    "pycharm": {
     "name": "#%%\n"
    }
   }
  },
  {
   "metadata": {
    "pycharm": {
     "name": "#%% md\n"
    }
   },
   "outputs": [],
   "source": [
    "## Using ttest()\n",
    "\n",
    "<p>Manually calculating test statistics and transforming them with a CDF to get a p-value is a lot of effort to compare two sample means. The comparison of two sample means is called a t-test, and the <code>pingouin</code> Python package has a <code>.ttest()</code> method to accomplish it. This method provides some flexibility in how you perform the test.</p>\n",
    "<p>As in the previous exercise, you'll explore the difference between the proportion of county-level votes for the Democratic candidate in 2012 and 2016 to identify if the difference is significant.</p>\n",
    "<p><code>sample_dem_data</code> is available and has the columns <code>diff</code>, <code>dem_percent_12</code>, and <code>dem_percent_16</code> in addition to the <code>state</code> and <code>county</code> names. <code>pingouin</code> and has been loaded along with <code>pandas</code> as <code>pd</code>.</p>"
   ],
   "execution_count": null,
   "cell_type": "markdown"
  },
  {
   "metadata": {
    "pycharm": {
     "name": "#%% md\n"
    }
   },
   "outputs": [],
   "source": [
    "Conduct a t-test on the sample differences (the <code>diff</code> column of <code>sample_dem_data</code>), using an appropriate alternative hypothesis chosen from <code>\"two-sided\"</code>, <code>\"less\"</code>, and <code>\"greater\"</code>."
   ],
   "execution_count": null,
   "cell_type": "markdown"
  },
  {
   "cell_type": "code",
   "execution_count": 57,
   "outputs": [
    {
     "data": {
      "text/plain": "                T  dof alternative          p-val         CI95%   cohen-d  \\\nT-test  30.298384  499   two-sided  3.600634e-115  [6.39, 7.27]  1.354985   \n\n              BF10  power  \nT-test  2.246e+111    1.0  ",
      "text/html": "<div>\n<style scoped>\n    .dataframe tbody tr th:only-of-type {\n        vertical-align: middle;\n    }\n\n    .dataframe tbody tr th {\n        vertical-align: top;\n    }\n\n    .dataframe thead th {\n        text-align: right;\n    }\n</style>\n<table border=\"1\" class=\"dataframe\">\n  <thead>\n    <tr style=\"text-align: right;\">\n      <th></th>\n      <th>T</th>\n      <th>dof</th>\n      <th>alternative</th>\n      <th>p-val</th>\n      <th>CI95%</th>\n      <th>cohen-d</th>\n      <th>BF10</th>\n      <th>power</th>\n    </tr>\n  </thead>\n  <tbody>\n    <tr>\n      <th>T-test</th>\n      <td>30.298384</td>\n      <td>499</td>\n      <td>two-sided</td>\n      <td>3.600634e-115</td>\n      <td>[6.39, 7.27]</td>\n      <td>1.354985</td>\n      <td>2.246e+111</td>\n      <td>1.0</td>\n    </tr>\n  </tbody>\n</table>\n</div>"
     },
     "execution_count": 57,
     "metadata": {},
     "output_type": "execute_result"
    }
   ],
   "source": [
    "# Conduct a t-test on diff\n",
    "test_results = pingouin.ttest(x=sample_dem_data[\"diff\"],y=0,alternative=\"two-sided\")\n",
    "\n",
    "test_results"
   ],
   "metadata": {
    "collapsed": false,
    "pycharm": {
     "name": "#%%\n"
    }
   }
  },
  {
   "cell_type": "code",
   "execution_count": 58,
   "outputs": [
    {
     "name": "stdout",
     "output_type": "stream",
     "text": [
      "                T  dof alternative          p-val         CI95%   cohen-d  \\\n",
      "T-test  30.298384  499   two-sided  3.600634e-115  [6.39, 7.27]  0.454202   \n",
      "\n",
      "              BF10  power  \n",
      "T-test  2.246e+111    1.0  \n"
     ]
    }
   ],
   "source": [
    "# Conduct a t-test on diff\n",
    "test_results = pingouin.ttest(x=sample_dem_data['diff'],\n",
    "                              y=0,\n",
    "                              alternative=\"two-sided\")\n",
    "\n",
    "# Conduct a paired t-test on dem_percent_12 and dem_percent_16\n",
    "paired_test_results = pingouin.ttest(x=sample_dem_data[\"dem_percent_12\"],\n",
    "                                     y=sample_dem_data[\"dem_percent_16\"],\n",
    "                                     paired=True,\n",
    "                                     alternative=\"two-sided\")\n",
    "\n",
    "\n",
    "\n",
    "\n",
    "# Print the paired test results\n",
    "print(paired_test_results)"
   ],
   "metadata": {
    "collapsed": false,
    "pycharm": {
     "name": "#%%\n"
    }
   }
  },
  {
   "metadata": {
    "pycharm": {
     "name": "#%% md\n"
    }
   },
   "outputs": [],
   "source": [
    "## P-hacked to pieces"
   ],
   "execution_count": null,
   "cell_type": "markdown"
  },
  {
   "metadata": {
    "pycharm": {
     "name": "#%% md\n"
    }
   },
   "outputs": [],
   "source": [
    "### 1. P-hacked to pieces\n",
    "\n",
    "We've seen how to compare two groups in the unpaired and paired cases. But what if there are more than two groups?"
   ],
   "execution_count": null,
   "cell_type": "markdown"
  },
  {
   "metadata": {
    "pycharm": {
     "name": "#%% md\n"
    }
   },
   "outputs": [],
   "source": [
    "### 2. Job satisfaction: 5 categories\n",
    "\n",
    "The Stack Overflow survey includes a job satisfaction variable, with five categories from \"Very satisfied\" down to \"Very dissatisfied\"."
   ],
   "execution_count": null,
   "cell_type": "markdown"
  },
  {
   "cell_type": "code",
   "execution_count": 59,
   "outputs": [
    {
     "data": {
      "text/plain": "Very satisfied           879\nSlightly satisfied       680\nSlightly dissatisfied    342\nNeither                  201\nVery dissatisfied        159\nName: job_sat, dtype: int64"
     },
     "execution_count": 59,
     "metadata": {},
     "output_type": "execute_result"
    }
   ],
   "source": [
    "stack_overflow[\"job_sat\"].value_counts()"
   ],
   "metadata": {
    "collapsed": false,
    "pycharm": {
     "name": "#%%\n"
    }
   }
  },
  {
   "metadata": {
    "pycharm": {
     "name": "#%% md\n"
    }
   },
   "outputs": [],
   "source": [
    "### 3. Visualizing multiple distributions\n",
    "\n",
    "Suppose we want to know if mean annual compensation is different for each of the levels of job satisfaction. The first thing to do is visualize the distributions with box plots. Seaborn's boxplot method provides a nice option here with converted_comp on the horizontal axis and job_sat on the vertical axis using the stack_overflow data. \"Very satisfied\" looks slightly higher than the others, but to see if they are significantly different, we'll need to use hypothesis tests."
   ],
   "execution_count": null,
   "cell_type": "markdown"
  },
  {
   "cell_type": "code",
   "execution_count": 60,
   "outputs": [
    {
     "data": {
      "text/plain": "<Figure size 432x288 with 1 Axes>",
      "image/png": "[encoded data removed]"
     },
     "metadata": {},
     "output_type": "display_data"
    }
   ],
   "source": [
    "import seaborn as sns\n",
    "sns.boxplot(data=stack_overflow,\n",
    "            x=\"converted_comp\",\n",
    "            y=\"job_sat\")\n",
    "plt.show()"
   ],
   "metadata": {
    "collapsed": false,
    "pycharm": {
     "name": "#%%\n"
    }
   }
  },
  {
   "metadata": {
    "pycharm": {
     "name": "#%% md\n"
    }
   },
   "outputs": [],
   "source": [
    "### 4. Analysis of variance (ANOVA)\n",
    "\n",
    "ANOVA tests determine whether there are differences between the groups. We begin by setting our significance level to point-two. This value is larger than in many situations but will help us understand the implications on comparing different numbers of groups later on. We use the pinguoin anova method to compare values across multiple groups. We specify the data as stack_overflow, the dependent variable, dv, as converted_comp, and the column of groups to calculate between as job_sat. The p-value is stored in the p-unc column, which is point-zero-zero-one-three, which is smaller than alpha at 20 percent. That means that at least two of the categories of job satisfaction have significant differences between their compensation levels, but this doesn't tell us which two categories they are."
   ],
   "execution_count": null,
   "cell_type": "markdown"
  },
  {
   "cell_type": "code",
   "execution_count": 61,
   "outputs": [
    {
     "data": {
      "text/plain": "    Source  ddof1  ddof2         F     p-unc       np2\n0  job_sat      4   2256  4.480485  0.001315  0.007882",
      "text/html": "<div>\n<style scoped>\n    .dataframe tbody tr th:only-of-type {\n        vertical-align: middle;\n    }\n\n    .dataframe tbody tr th {\n        vertical-align: top;\n    }\n\n    .dataframe thead th {\n        text-align: right;\n    }\n</style>\n<table border=\"1\" class=\"dataframe\">\n  <thead>\n    <tr style=\"text-align: right;\">\n      <th></th>\n      <th>Source</th>\n      <th>ddof1</th>\n      <th>ddof2</th>\n      <th>F</th>\n      <th>p-unc</th>\n      <th>np2</th>\n    </tr>\n  </thead>\n  <tbody>\n    <tr>\n      <th>0</th>\n      <td>job_sat</td>\n      <td>4</td>\n      <td>2256</td>\n      <td>4.480485</td>\n      <td>0.001315</td>\n      <td>0.007882</td>\n    </tr>\n  </tbody>\n</table>\n</div>"
     },
     "execution_count": 61,
     "metadata": {},
     "output_type": "execute_result"
    }
   ],
   "source": [
    "pingouin.anova(data=stack_overflow,\n",
    "               dv=\"converted_comp\",\n",
    "               between=\"job_sat\")"
   ],
   "metadata": {
    "collapsed": false,
    "pycharm": {
     "name": "#%%\n"
    }
   }
  },
  {
   "metadata": {
    "pycharm": {
     "name": "#%% md\n"
    }
   },
   "outputs": [],
   "source": [
    "### 5. Pairwise tests\n",
    "\n",
    "To identify which categories are different, we compare all five job satisfaction categories, testing on each pair in turn. There are ten ways of choosing two items from a set of five, so we have ten tests to perform. Our significance level is still point-two."
   ],
   "execution_count": null,
   "cell_type": "markdown"
  },
  {
   "metadata": {
    "pycharm": {
     "name": "#%% md\n"
    }
   },
   "outputs": [],
   "source": [
    "### 6. pairwise_ttests()\n",
    "\n",
    "To run all these hypothesis tests in one go, we can use pairwise_ttests. The first three arguments of data, dv, and between are the same as the anova method. We'll discuss p-adjust shortly. The result shows a DataFrame where A and B are the two levels being compared on each row. Next, we look at the p-unc column of p-values. Three of these are less than our significance level of point-two."
   ],
   "execution_count": null,
   "cell_type": "markdown"
  },
  {
   "cell_type": "code",
   "execution_count": 62,
   "outputs": [
    {
     "name": "stderr",
     "output_type": "stream",
     "text": [
      "C:\\Users\\Lenovo\\anaconda3\\lib\\site-packages\\pingouin\\pairwise.py:27: UserWarning: pairwise_ttests is deprecated, use pairwise_tests instead.\n",
      "  warnings.warn(\"pairwise_ttests is deprecated, use pairwise_tests instead.\", UserWarning)\n"
     ]
    },
    {
     "data": {
      "text/plain": "  Contrast                   A                      B  Paired  Parametric  \\\n0  job_sat  Slightly satisfied         Very satisfied   False        True   \n1  job_sat  Slightly satisfied                Neither   False        True   \n2  job_sat  Slightly satisfied      Very dissatisfied   False        True   \n3  job_sat  Slightly satisfied  Slightly dissatisfied   False        True   \n4  job_sat      Very satisfied                Neither   False        True   \n5  job_sat      Very satisfied      Very dissatisfied   False        True   \n6  job_sat      Very satisfied  Slightly dissatisfied   False        True   \n7  job_sat             Neither      Very dissatisfied   False        True   \n8  job_sat             Neither  Slightly dissatisfied   False        True   \n9  job_sat   Very dissatisfied  Slightly dissatisfied   False        True   \n\n          T          dof alternative     p-unc     BF10    hedges  \n0 -4.009935  1478.622799   two-sided  0.000064  158.564 -0.192931  \n1 -0.700752   258.204546   two-sided  0.484088    0.114 -0.068513  \n2 -1.243665   187.153329   two-sided  0.215179    0.208 -0.145624  \n3 -0.038264   569.926329   two-sided  0.969491    0.074 -0.002719  \n4  1.662901   328.326639   two-sided  0.097286    0.337  0.120115  \n5  0.747379   221.666205   two-sided  0.455627    0.126  0.063479  \n6  3.076222   821.303063   two-sided  0.002166     7.43  0.173247  \n7 -0.545948   321.165726   two-sided  0.585481    0.135 -0.058537  \n8  0.602209   367.730081   two-sided  0.547406    0.118  0.055707  \n9  1.129951   247.570187   two-sided  0.259590    0.197  0.119131  ",
      "text/html": "<div>\n<style scoped>\n    .dataframe tbody tr th:only-of-type {\n        vertical-align: middle;\n    }\n\n    .dataframe tbody tr th {\n        vertical-align: top;\n    }\n\n    .dataframe thead th {\n        text-align: right;\n    }\n</style>\n<table border=\"1\" class=\"dataframe\">\n  <thead>\n    <tr style=\"text-align: right;\">\n      <th></th>\n      <th>Contrast</th>\n      <th>A</th>\n      <th>B</th>\n      <th>Paired</th>\n      <th>Parametric</th>\n      <th>T</th>\n      <th>dof</th>\n      <th>alternative</th>\n      <th>p-unc</th>\n      <th>BF10</th>\n      <th>hedges</th>\n    </tr>\n  </thead>\n  <tbody>\n    <tr>\n      <th>0</th>\n      <td>job_sat</td>\n      <td>Slightly satisfied</td>\n      <td>Very satisfied</td>\n      <td>False</td>\n      <td>True</td>\n      <td>-4.009935</td>\n      <td>1478.622799</td>\n      <td>two-sided</td>\n      <td>0.000064</td>\n      <td>158.564</td>\n      <td>-0.192931</td>\n    </tr>\n    <tr>\n      <th>1</th>\n      <td>job_sat</td>\n      <td>Slightly satisfied</td>\n      <td>Neither</td>\n      <td>False</td>\n      <td>True</td>\n      <td>-0.700752</td>\n      <td>258.204546</td>\n      <td>two-sided</td>\n      <td>0.484088</td>\n      <td>0.114</td>\n      <td>-0.068513</td>\n    </tr>\n    <tr>\n      <th>2</th>\n      <td>job_sat</td>\n      <td>Slightly satisfied</td>\n      <td>Very dissatisfied</td>\n      <td>False</td>\n      <td>True</td>\n      <td>-1.243665</td>\n      <td>187.153329</td>\n      <td>two-sided</td>\n      <td>0.215179</td>\n      <td>0.208</td>\n      <td>-0.145624</td>\n    </tr>\n    <tr>\n      <th>3</th>\n      <td>job_sat</td>\n      <td>Slightly satisfied</td>\n      <td>Slightly dissatisfied</td>\n      <td>False</td>\n      <td>True</td>\n      <td>-0.038264</td>\n      <td>569.926329</td>\n      <td>two-sided</td>\n      <td>0.969491</td>\n      <td>0.074</td>\n      <td>-0.002719</td>\n    </tr>\n    <tr>\n      <th>4</th>\n      <td>job_sat</td>\n      <td>Very satisfied</td>\n      <td>Neither</td>\n      <td>False</td>\n      <td>True</td>\n      <td>1.662901</td>\n      <td>328.326639</td>\n      <td>two-sided</td>\n      <td>0.097286</td>\n      <td>0.337</td>\n      <td>0.120115</td>\n    </tr>\n    <tr>\n      <th>5</th>\n      <td>job_sat</td>\n      <td>Very satisfied</td>\n      <td>Very dissatisfied</td>\n      <td>False</td>\n      <td>True</td>\n      <td>0.747379</td>\n      <td>221.666205</td>\n      <td>two-sided</td>\n      <td>0.455627</td>\n      <td>0.126</td>\n      <td>0.063479</td>\n    </tr>\n    <tr>\n      <th>6</th>\n      <td>job_sat</td>\n      <td>Very satisfied</td>\n      <td>Slightly dissatisfied</td>\n      <td>False</td>\n      <td>True</td>\n      <td>3.076222</td>\n      <td>821.303063</td>\n      <td>two-sided</td>\n      <td>0.002166</td>\n      <td>7.43</td>\n      <td>0.173247</td>\n    </tr>\n    <tr>\n      <th>7</th>\n      <td>job_sat</td>\n      <td>Neither</td>\n      <td>Very dissatisfied</td>\n      <td>False</td>\n      <td>True</td>\n      <td>-0.545948</td>\n      <td>321.165726</td>\n      <td>two-sided</td>\n      <td>0.585481</td>\n      <td>0.135</td>\n      <td>-0.058537</td>\n    </tr>\n    <tr>\n      <th>8</th>\n      <td>job_sat</td>\n      <td>Neither</td>\n      <td>Slightly dissatisfied</td>\n      <td>False</td>\n      <td>True</td>\n      <td>0.602209</td>\n      <td>367.730081</td>\n      <td>two-sided</td>\n      <td>0.547406</td>\n      <td>0.118</td>\n      <td>0.055707</td>\n    </tr>\n    <tr>\n      <th>9</th>\n      <td>job_sat</td>\n      <td>Very dissatisfied</td>\n      <td>Slightly dissatisfied</td>\n      <td>False</td>\n      <td>True</td>\n      <td>1.129951</td>\n      <td>247.570187</td>\n      <td>two-sided</td>\n      <td>0.259590</td>\n      <td>0.197</td>\n      <td>0.119131</td>\n    </tr>\n  </tbody>\n</table>\n</div>"
     },
     "execution_count": 62,
     "metadata": {},
     "output_type": "execute_result"
    }
   ],
   "source": [
    "pingouin.pairwise_ttests(data=stack_overflow,\n",
    "                         dv=\"converted_comp\",\n",
    "                         between=\"job_sat\",\n",
    "                         padjust=\"none\")"
   ],
   "metadata": {
    "collapsed": false,
    "pycharm": {
     "name": "#%%\n"
    }
   }
  },
  {
   "metadata": {
    "pycharm": {
     "name": "#%% md\n"
    }
   },
   "outputs": [],
   "source": [
    "### 7. As the number of groups increases...\n",
    "\n",
    "In this case we have five groups, resulting in ten pairs. As the number of groups increases, the number of pairs - and hence the number of hypothesis tests we must perform - increases quadratically. The more tests we run, the higher the chance that at least one of them will give a false positive significant result. With a significance level of point-two, if we run one test, the chance of a false positive result is point-two. With five groups and ten tests, the probability of at least one false positive is around point-seven. With twenty groups, it's almost guaranteed that we'll get at least one false positive.\n",
    "<br>\n",
    "<img src=\"image/img_7.png\">"
   ],
   "execution_count": null,
   "cell_type": "markdown"
  },
  {
   "metadata": {
    "pycharm": {
     "name": "#%% md\n"
    }
   },
   "outputs": [],
   "source": [
    "### 8. Bonferroni correction\n",
    "\n",
    "The solution to this is to apply an adjustment to increase the p-values, reducing the chance of getting a false positive. One common adjustment is the Bonferroni correction. Looking at the p-corr column corresponding to corrected p-values, as opposed to the p-unc column for uncorrected, only two of the pairs appear to have significant differences."
   ],
   "execution_count": null,
   "cell_type": "markdown"
  },
  {
   "cell_type": "code",
   "execution_count": 63,
   "outputs": [
    {
     "data": {
      "text/plain": "  Contrast                   A                      B  Paired  Parametric  \\\n0  job_sat  Slightly satisfied         Very satisfied   False        True   \n1  job_sat  Slightly satisfied                Neither   False        True   \n2  job_sat  Slightly satisfied      Very dissatisfied   False        True   \n3  job_sat  Slightly satisfied  Slightly dissatisfied   False        True   \n4  job_sat      Very satisfied                Neither   False        True   \n5  job_sat      Very satisfied      Very dissatisfied   False        True   \n6  job_sat      Very satisfied  Slightly dissatisfied   False        True   \n7  job_sat             Neither      Very dissatisfied   False        True   \n8  job_sat             Neither  Slightly dissatisfied   False        True   \n9  job_sat   Very dissatisfied  Slightly dissatisfied   False        True   \n\n          T          dof alternative     p-unc    p-corr p-adjust     BF10  \\\n0 -4.009935  1478.622799   two-sided  0.000064  0.000638     bonf  158.564   \n1 -0.700752   258.204546   two-sided  0.484088  1.000000     bonf    0.114   \n2 -1.243665   187.153329   two-sided  0.215179  1.000000     bonf    0.208   \n3 -0.038264   569.926329   two-sided  0.969491  1.000000     bonf    0.074   \n4  1.662901   328.326639   two-sided  0.097286  0.972864     bonf    0.337   \n5  0.747379   221.666205   two-sided  0.455627  1.000000     bonf    0.126   \n6  3.076222   821.303063   two-sided  0.002166  0.021659     bonf     7.43   \n7 -0.545948   321.165726   two-sided  0.585481  1.000000     bonf    0.135   \n8  0.602209   367.730081   two-sided  0.547406  1.000000     bonf    0.118   \n9  1.129951   247.570187   two-sided  0.259590  1.000000     bonf    0.197   \n\n     hedges  \n0 -0.192931  \n1 -0.068513  \n2 -0.145624  \n3 -0.002719  \n4  0.120115  \n5  0.063479  \n6  0.173247  \n7 -0.058537  \n8  0.055707  \n9  0.119131  ",
      "text/html": "<div>\n<style scoped>\n    .dataframe tbody tr th:only-of-type {\n        vertical-align: middle;\n    }\n\n    .dataframe tbody tr th {\n        vertical-align: top;\n    }\n\n    .dataframe thead th {\n        text-align: right;\n    }\n</style>\n<table border=\"1\" class=\"dataframe\">\n  <thead>\n    <tr style=\"text-align: right;\">\n      <th></th>\n      <th>Contrast</th>\n      <th>A</th>\n      <th>B</th>\n      <th>Paired</th>\n      <th>Parametric</th>\n      <th>T</th>\n      <th>dof</th>\n      <th>alternative</th>\n      <th>p-unc</th>\n      <th>p-corr</th>\n      <th>p-adjust</th>\n      <th>BF10</th>\n      <th>hedges</th>\n    </tr>\n  </thead>\n  <tbody>\n    <tr>\n      <th>0</th>\n      <td>job_sat</td>\n      <td>Slightly satisfied</td>\n      <td>Very satisfied</td>\n      <td>False</td>\n      <td>True</td>\n      <td>-4.009935</td>\n      <td>1478.622799</td>\n      <td>two-sided</td>\n      <td>0.000064</td>\n      <td>0.000638</td>\n      <td>bonf</td>\n      <td>158.564</td>\n      <td>-0.192931</td>\n    </tr>\n    <tr>\n      <th>1</th>\n      <td>job_sat</td>\n      <td>Slightly satisfied</td>\n      <td>Neither</td>\n      <td>False</td>\n      <td>True</td>\n      <td>-0.700752</td>\n      <td>258.204546</td>\n      <td>two-sided</td>\n      <td>0.484088</td>\n      <td>1.000000</td>\n      <td>bonf</td>\n      <td>0.114</td>\n      <td>-0.068513</td>\n    </tr>\n    <tr>\n      <th>2</th>\n      <td>job_sat</td>\n      <td>Slightly satisfied</td>\n      <td>Very dissatisfied</td>\n      <td>False</td>\n      <td>True</td>\n      <td>-1.243665</td>\n      <td>187.153329</td>\n      <td>two-sided</td>\n      <td>0.215179</td>\n      <td>1.000000</td>\n      <td>bonf</td>\n      <td>0.208</td>\n      <td>-0.145624</td>\n    </tr>\n    <tr>\n      <th>3</th>\n      <td>job_sat</td>\n      <td>Slightly satisfied</td>\n      <td>Slightly dissatisfied</td>\n      <td>False</td>\n      <td>True</td>\n      <td>-0.038264</td>\n      <td>569.926329</td>\n      <td>two-sided</td>\n      <td>0.969491</td>\n      <td>1.000000</td>\n      <td>bonf</td>\n      <td>0.074</td>\n      <td>-0.002719</td>\n    </tr>\n    <tr>\n      <th>4</th>\n      <td>job_sat</td>\n      <td>Very satisfied</td>\n      <td>Neither</td>\n      <td>False</td>\n      <td>True</td>\n      <td>1.662901</td>\n      <td>328.326639</td>\n      <td>two-sided</td>\n      <td>0.097286</td>\n      <td>0.972864</td>\n      <td>bonf</td>\n      <td>0.337</td>\n      <td>0.120115</td>\n    </tr>\n    <tr>\n      <th>5</th>\n      <td>job_sat</td>\n      <td>Very satisfied</td>\n      <td>Very dissatisfied</td>\n      <td>False</td>\n      <td>True</td>\n      <td>0.747379</td>\n      <td>221.666205</td>\n      <td>two-sided</td>\n      <td>0.455627</td>\n      <td>1.000000</td>\n      <td>bonf</td>\n      <td>0.126</td>\n      <td>0.063479</td>\n    </tr>\n    <tr>\n      <th>6</th>\n      <td>job_sat</td>\n      <td>Very satisfied</td>\n      <td>Slightly dissatisfied</td>\n      <td>False</td>\n      <td>True</td>\n      <td>3.076222</td>\n      <td>821.303063</td>\n      <td>two-sided</td>\n      <td>0.002166</td>\n      <td>0.021659</td>\n      <td>bonf</td>\n      <td>7.43</td>\n      <td>0.173247</td>\n    </tr>\n    <tr>\n      <th>7</th>\n      <td>job_sat</td>\n      <td>Neither</td>\n      <td>Very dissatisfied</td>\n      <td>False</td>\n      <td>True</td>\n      <td>-0.545948</td>\n      <td>321.165726</td>\n      <td>two-sided</td>\n      <td>0.585481</td>\n      <td>1.000000</td>\n      <td>bonf</td>\n      <td>0.135</td>\n      <td>-0.058537</td>\n    </tr>\n    <tr>\n      <th>8</th>\n      <td>job_sat</td>\n      <td>Neither</td>\n      <td>Slightly dissatisfied</td>\n      <td>False</td>\n      <td>True</td>\n      <td>0.602209</td>\n      <td>367.730081</td>\n      <td>two-sided</td>\n      <td>0.547406</td>\n      <td>1.000000</td>\n      <td>bonf</td>\n      <td>0.118</td>\n      <td>0.055707</td>\n    </tr>\n    <tr>\n      <th>9</th>\n      <td>job_sat</td>\n      <td>Very dissatisfied</td>\n      <td>Slightly dissatisfied</td>\n      <td>False</td>\n      <td>True</td>\n      <td>1.129951</td>\n      <td>247.570187</td>\n      <td>two-sided</td>\n      <td>0.259590</td>\n      <td>1.000000</td>\n      <td>bonf</td>\n      <td>0.197</td>\n      <td>0.119131</td>\n    </tr>\n  </tbody>\n</table>\n</div>"
     },
     "execution_count": 63,
     "metadata": {},
     "output_type": "execute_result"
    }
   ],
   "source": [
    "pingouin.pairwise_tests(data=stack_overflow,\n",
    "                         dv=\"converted_comp\",\n",
    "                         between=\"job_sat\",\n",
    "                         padjust=\"bonf\")"
   ],
   "metadata": {
    "collapsed": false,
    "pycharm": {
     "name": "#%%\n"
    }
   }
  },
  {
   "metadata": {
    "pycharm": {
     "name": "#%% md\n"
    }
   },
   "outputs": [],
   "source": [
    "### 9. More methods\n",
    "\n",
    "pingouin provides several options for adjusting the p-values with some being more conservative than others. No adjustment with none is the default, but in almost all pairwise t-testing situations choosing a correction method is more appropriate."
   ],
   "execution_count": null,
   "cell_type": "markdown"
  },
  {
   "metadata": {
    "pycharm": {
     "name": "#%% md\n"
    }
   },
   "outputs": [],
   "source": [
    "### 10. Let's practice!\n",
    "\n",
    "Let's run lots of tests."
   ],
   "execution_count": null,
   "cell_type": "markdown"
  },
  {
   "metadata": {
    "pycharm": {
     "name": "#%% md\n"
    }
   },
   "outputs": [],
   "source": [
    "## Visualizing many categories\n",
    "\n",
    "<p>So far in this chapter, we've only considered the case of differences in a numeric variable between two categories. Of course, many datasets contain more categories. Before you get to conducting tests on many categories, it's often helpful to perform exploratory data analysis (EDA), calculating summary statistics for each group and visualizing the distributions of the numeric variable for each category using box plots.</p>\n",
    "<p>Here, we'll return to the late shipments data, and how the price of each package (<code>pack_price</code>) varies between the three shipment modes (<code>shipment_mode</code>): <code>\"Air\"</code>, <code>\"Air Charter\"</code>, and <code>\"Ocean\"</code>.</p>\n",
    "<p><code>late_shipments</code> is available; <code>pandas</code> and <code>matplotlib.pyplot</code> are loaded with their standard aliases, and <code>seaborn</code> is loaded as <code>sns</code>.</p>"
   ],
   "execution_count": null,
   "cell_type": "markdown"
  },
  {
   "metadata": {
    "pycharm": {
     "name": "#%% md\n"
    }
   },
   "outputs": [],
   "source": [
    "Group <code>late_shipments</code> by <code>shipment_mode</code> and calculate the mean <code>pack_price</code> for each group, storing the result in <code>xbar_pack_by_mode</code>."
   ],
   "execution_count": null,
   "cell_type": "markdown"
  },
  {
   "cell_type": "code",
   "execution_count": 64,
   "outputs": [
    {
     "name": "stdout",
     "output_type": "stream",
     "text": [
      "shipment_mode\n",
      "Air            39.712395\n",
      "Air Charter     4.226667\n",
      "Ocean           6.432273\n",
      "Name: pack_price, dtype: float64\n"
     ]
    }
   ],
   "source": [
    "# Calculate the mean pack_price for each shipment_mode\n",
    "xbar_pack_by_mode = late_shipments.groupby(\"shipment_mode\")[\"pack_price\"].mean()\n",
    "\n",
    "# Print the grouped means\n",
    "print(xbar_pack_by_mode)"
   ],
   "metadata": {
    "collapsed": false,
    "pycharm": {
     "name": "#%%\n"
    }
   }
  },
  {
   "cell_type": "code",
   "execution_count": 65,
   "outputs": [
    {
     "data": {
      "text/plain": "shipment_mode\nAir            48.932861\nAir Charter     0.992969\nOcean           5.303047\nName: pack_price, dtype: float64"
     },
     "execution_count": 65,
     "metadata": {},
     "output_type": "execute_result"
    }
   ],
   "source": [
    "\n",
    "# Calculate the standard deviation of the pack_price for each shipment_mode\n",
    "s_pack_by_mode = late_shipments.groupby(\"shipment_mode\")['pack_price'].std()\n",
    "s_pack_by_mode"
   ],
   "metadata": {
    "collapsed": false,
    "pycharm": {
     "name": "#%%\n"
    }
   }
  },
  {
   "cell_type": "code",
   "execution_count": 66,
   "outputs": [
    {
     "data": {
      "text/plain": "<Figure size 432x288 with 1 Axes>",
      "image/png": "[encoded data removed]"
     },
     "metadata": {},
     "output_type": "display_data"
    }
   ],
   "source": [
    "# Boxplot of shipment_mode vs. pack_price\n",
    "sns.boxplot(data=late_shipments,x=\"pack_price\",y=\"shipment_mode\")\n",
    "plt.show()"
   ],
   "metadata": {
    "collapsed": false,
    "pycharm": {
     "name": "#%%\n"
    }
   }
  },
  {
   "metadata": {
    "pycharm": {
     "name": "#%% md\n"
    }
   },
   "outputs": [],
   "source": [
    "## ANOVA\n",
    "\n",
    "<p>The box plots made it look like the distribution of pack price was different for each of the three shipment modes. However, it didn't tell us whether the mean pack price was different in each category. To determine that, we can use an ANOVA test. The null and alternative hypotheses can be written as follows.</p>\n",
    "<p><mjx-container class=\"MathJax CtxtMenu_Attached_0\" jax=\"CHTML\" role=\"presentation\" tabindex=\"0\" ctxtmenu_counter=\"2\" style=\"font-size: 116.7%; position: relative;\"><mjx-math class=\"MJX-TEX\" aria-hidden=\"true\"><mjx-msub><mjx-mi class=\"mjx-i\" noic=\"true\"><mjx-c class=\"mjx-c1D43B TEX-I\"></mjx-c></mjx-mi><mjx-script style=\"vertical-align: -0.15em;\"><mjx-texatom size=\"s\" texclass=\"ORD\"><mjx-mn class=\"mjx-n\"><mjx-c class=\"mjx-c30\"></mjx-c></mjx-mn></mjx-texatom></mjx-script></mjx-msub></mjx-math><mjx-assistive-mml role=\"presentation\" unselectable=\"on\" display=\"inline\"><math xmlns=\"http://www.w3.org/1998/Math/MathML\"><msub><mi>H</mi><mrow><mn>0</mn></mrow></msub></math></mjx-assistive-mml></mjx-container>: Pack prices for every category of shipment mode are the same.</p>\n",
    "<p><mjx-container class=\"MathJax CtxtMenu_Attached_0\" jax=\"CHTML\" role=\"presentation\" tabindex=\"0\" ctxtmenu_counter=\"3\" style=\"font-size: 116.7%; position: relative;\"><mjx-math class=\"MJX-TEX\" aria-hidden=\"true\"><mjx-msub><mjx-mi class=\"mjx-i\" noic=\"true\"><mjx-c class=\"mjx-c1D43B TEX-I\"></mjx-c></mjx-mi><mjx-script style=\"vertical-align: -0.153em;\"><mjx-texatom size=\"s\" texclass=\"ORD\"><mjx-mi class=\"mjx-i\"><mjx-c class=\"mjx-c1D434 TEX-I\"></mjx-c></mjx-mi></mjx-texatom></mjx-script></mjx-msub></mjx-math><mjx-assistive-mml role=\"presentation\" unselectable=\"on\" display=\"inline\"><math xmlns=\"http://www.w3.org/1998/Math/MathML\"><msub><mi>H</mi><mrow><mi>A</mi></mrow></msub></math></mjx-assistive-mml></mjx-container>: Pack prices for some categories of shipment mode are different.</p>\n",
    "<p>We'll set a significance level of 0.1.</p>\n",
    "<p><code>late_shipments</code> is available and <code>pingouin</code> has been loaded.</p>"
   ],
   "execution_count": null,
   "cell_type": "markdown"
  },
  {
   "metadata": {
    "pycharm": {
     "name": "#%% md\n"
    }
   },
   "outputs": [],
   "source": [
    "Run an ANOVA on <code>late_shipments</code> investigating <code>'pack_price'</code> (the dependent variable) between the groups of <code>'shipment_mode'</code>."
   ],
   "execution_count": null,
   "cell_type": "markdown"
  },
  {
   "cell_type": "code",
   "execution_count": 67,
   "outputs": [
    {
     "name": "stdout",
     "output_type": "stream",
     "text": [
      "          Source  ddof1  ddof2        F         p-unc       np2\n",
      "0  shipment_mode      2    997  21.8646  5.089479e-10  0.042018\n"
     ]
    }
   ],
   "source": [
    "# Run an ANOVA for pack_price across shipment_mode\n",
    "anova_results =pingouin.anova(data=late_shipments,dv=\"pack_price\",between=\"shipment_mode\")\n",
    "\n",
    "\n",
    "\n",
    "# Print anova_results\n",
    "print(anova_results)"
   ],
   "metadata": {
    "collapsed": false,
    "pycharm": {
     "name": "#%%\n"
    }
   }
  },
  {
   "cell_type": "markdown",
   "source": [
    "There is a significant difference in pack prices between the shipment modes. However, we don't know which shipment modes this applies to"
   ],
   "metadata": {
    "collapsed": false,
    "pycharm": {
     "name": "#%% md\n"
    }
   }
  },
  {
   "metadata": {
    "pycharm": {
     "name": "#%% md\n"
    }
   },
   "outputs": [],
   "source": [
    "## Pairwise t-tests\n",
    "\n",
    "<p>The ANOVA test didn't tell you which categories of shipment mode had significant differences in pack prices. To pinpoint which categories had differences, you could instead use pairwise t-tests.</p>\n",
    "<p><code>late_shipments</code> is available and <code>pingouin</code> has been loaded.</p>"
   ],
   "execution_count": null,
   "cell_type": "markdown"
  },
  {
   "metadata": {
    "pycharm": {
     "name": "#%% md\n"
    }
   },
   "outputs": [],
   "source": [
    "Perform pairwise t-tests on <code>late_shipments</code>'s <code>pack_price</code> variable, grouped by <code>shipment_mode</code>, without doing any p-value adjustment."
   ],
   "execution_count": null,
   "cell_type": "markdown"
  },
  {
   "cell_type": "code",
   "execution_count": 68,
   "outputs": [
    {
     "name": "stdout",
     "output_type": "stream",
     "text": [
      "        Contrast            A            B  Paired  Parametric          T  \\\n",
      "0  shipment_mode          Air  Air Charter   False        True  21.179625   \n",
      "1  shipment_mode          Air        Ocean   False        True  19.335760   \n",
      "2  shipment_mode  Air Charter        Ocean   False        True  -3.170654   \n",
      "\n",
      "          dof alternative         p-unc       BF10    hedges  \n",
      "0  600.685682   two-sided  8.748346e-75  5.809e+76  0.726592  \n",
      "1  986.979785   two-sided  6.934555e-71  1.129e+67  0.711119  \n",
      "2   35.615026   two-sided  3.123012e-03     15.277 -0.423775  \n"
     ]
    },
    {
     "name": "stderr",
     "output_type": "stream",
     "text": [
      "C:\\Users\\Lenovo\\anaconda3\\lib\\site-packages\\pingouin\\pairwise.py:27: UserWarning: pairwise_ttests is deprecated, use pairwise_tests instead.\n",
      "  warnings.warn(\"pairwise_ttests is deprecated, use pairwise_tests instead.\", UserWarning)\n"
     ]
    }
   ],
   "source": [
    "# Perform a pairwise t-test on pack price, grouped by shipment mode\n",
    "pairwise_results = pingouin.pairwise_ttests(data=late_shipments,dv=\"pack_price\",between=\"shipment_mode\",padjust=None)\n",
    "\n",
    "\n",
    "\n",
    "\n",
    "# Print pairwise_results\n",
    "print(pairwise_results)"
   ],
   "metadata": {
    "collapsed": false,
    "pycharm": {
     "name": "#%%\n"
    }
   }
  },
  {
   "cell_type": "code",
   "execution_count": 69,
   "outputs": [
    {
     "name": "stdout",
     "output_type": "stream",
     "text": [
      "        Contrast            A            B  Paired  Parametric          T  \\\n",
      "0  shipment_mode          Air  Air Charter   False        True  21.179625   \n",
      "1  shipment_mode          Air        Ocean   False        True  19.335760   \n",
      "2  shipment_mode  Air Charter        Ocean   False        True  -3.170654   \n",
      "\n",
      "          dof alternative         p-unc        p-corr p-adjust       BF10  \\\n",
      "0  600.685682   two-sided  8.748346e-75  2.624504e-74     bonf  5.809e+76   \n",
      "1  986.979785   two-sided  6.934555e-71  2.080367e-70     bonf  1.129e+67   \n",
      "2   35.615026   two-sided  3.123012e-03  9.369037e-03     bonf     15.277   \n",
      "\n",
      "     hedges  \n",
      "0  0.726592  \n",
      "1  0.711119  \n",
      "2 -0.423775  \n"
     ]
    }
   ],
   "source": [
    "# Modify the pairwise t-tests to use Bonferroni p-value adjustment\n",
    "pairwise_results = pingouin.pairwise_tests(data=late_shipments,\n",
    "                                            dv=\"pack_price\",\n",
    "                                            between=\"shipment_mode\",\n",
    "                                            padjust=\"bonf\")\n",
    "\n",
    "# Print pairwise_results\n",
    "print(pairwise_results)"
   ],
   "metadata": {
    "collapsed": false,
    "pycharm": {
     "name": "#%%\n"
    }
   }
  },
  {
   "metadata": {
    "pycharm": {
     "name": "#%% md\n"
    }
   },
   "outputs": [],
   "source": [
    "# Letting the Categoricals Out of the Bag"
   ],
   "execution_count": null,
   "cell_type": "markdown"
  },
  {
   "metadata": {
    "pycharm": {
     "name": "#%% md\n"
    }
   },
   "outputs": [],
   "source": [
    "## Difference strokes for proportions, folks"
   ],
   "execution_count": null,
   "cell_type": "markdown"
  },
  {
   "metadata": {
    "pycharm": {
     "name": "#%% md\n"
    }
   },
   "outputs": [],
   "source": [
    "### 1. Difference strokes for proportions, folks\n",
    "\n",
    "Let’s return to thinking about testing proportions, as we did in Chapter 1."
   ],
   "execution_count": null,
   "cell_type": "markdown"
  },
  {
   "metadata": {
    "pycharm": {
     "name": "#%% md\n"
    }
   },
   "outputs": [],
   "source": [
    "### 2. Chapter 1 recap\n",
    "\n",
    "The hypothesis tests in Chapter 1 measured whether or not an unknown population proportion was equal to some value. We used bootstrapping on the sample to estimate the standard error of the sample statistic. The standard error was then used to calculate a standardized test statistic, the z-score, which was used to get a p-value, so we could decide whether or not to reject the null hypothesis. A bootstrap distribution can be computationally intensive to calculate, so this time we'll instead calculate the test statistic without it."
   ],
   "execution_count": null,
   "cell_type": "markdown"
  },
  {
   "metadata": {
    "pycharm": {
     "name": "#%% md\n"
    }
   },
   "outputs": [],
   "source": [
    "### 3. Standardized test statistic for proportions\n",
    "\n",
    "An unknown population parameter that is a proportion, or population proportion for short, is denoted p. The sample proportion is denoted p-hat, and the hypothesized value for the population proportion is denoted p-zero. As in Chapter 1, the standardized test statistic is a z-score. We calculate it by starting with the sample statistic, subtracting its mean, then dividing by its standard error. p-hat minus the mean of p-hat, divided by the standard error of p-hat. Recall from Sampling in Python that the mean of a sampling distribution of sample means, denoted by p-hat, is p, the population proportion. Under the null hypothesis, the unknown proportion p is assumed to be the hypothesized population proportion p-zero. The z-score is now p-hat minus p-zero, divided by the standard error of p-hat.\n",
    "\n",
    "$$z = \\frac{\\hat{p} - p_0}{\\mbox{SE}({\\hat{p}})}$$"
   ],
   "execution_count": null,
   "cell_type": "markdown"
  },
  {
   "metadata": {
    "pycharm": {
     "name": "#%% md\n"
    }
   },
   "outputs": [],
   "source": [
    "### 4. Simplifying the standard error calculations\n",
    "\n",
    "For proportions, under H-naught, the standard error of p-hat equation can be simplified to p-zero times one minus p-zero, divided by the number of observations, then square-rooted. We can substitute this into our equation for the z-score. This is easier to calculate because it only uses p-hat and n, which we get from the sample, and p-zero, which we chose.\n",
    "\n",
    "$$\\mbox{SE} = \\sqrt{\\frac{p_0 * (1 - p_o)}{n}}$$"
   ],
   "execution_count": null,
   "cell_type": "markdown"
  },
  {
   "metadata": {
    "pycharm": {
     "name": "#%% md\n"
    }
   },
   "outputs": [],
   "source": [
    "### 5. Why z instead of t?\n",
    "\n",
    "We might wonder why we used a z-distribution here, but a t-distribution in Chapter 2. This is the test statistic equation for the two sample mean case. The standard deviation of the sample, s, is calculated from the sample mean, x-bar. That means that x-bar is used in the numerator to estimate the population mean, and in the denominator to estimate the population standard deviation. This dual usage increases the uncertainty in our estimate of the population parameter. Since t-distributions are effectively a normal distribution with fatter tails, we can use them to account for this extra uncertainty. In effect, the t-distribution provides extra caution against mistakenly rejecting the null hypothesis. For proportions, we only use p-hat in the numerator, thus avoiding the problem with uncertainty, and a z-distribution is fine."
   ],
   "execution_count": null,
   "cell_type": "markdown"
  },
  {
   "metadata": {
    "pycharm": {
     "name": "#%% md\n"
    }
   },
   "outputs": [],
   "source": [
    "### 6. Stack Overflow age categories\n",
    "\n",
    "Returning to the Stack Overflow survey, let's hypothesize that half of the users in the population are under thirty and check for a difference. Let's set a significance level of point-zero-one. In the sample, just over half the users are under thirty.\n",
    "\n",
    "$$H_0: \\mbox{Proportion of stack overflow user under thirty} = 0.5$$\n",
    "$$H_A: \\mbox{Proportion of stack overflow user under thirty} \\neq 0.5$$\n"
   ],
   "execution_count": null,
   "cell_type": "markdown"
  },
  {
   "cell_type": "code",
   "execution_count": 70,
   "outputs": [
    {
     "data": {
      "text/plain": "Under 30       0.535604\nAt least 30    0.464396\nName: age_cat, dtype: float64"
     },
     "execution_count": 70,
     "metadata": {},
     "output_type": "execute_result"
    }
   ],
   "source": [
    "alpha =0.01\n",
    "stack_overflow[\"age_cat\"].value_counts(normalize=True)"
   ],
   "metadata": {
    "collapsed": false,
    "pycharm": {
     "name": "#%%\n"
    }
   }
  },
  {
   "metadata": {
    "pycharm": {
     "name": "#%% md\n"
    }
   },
   "outputs": [],
   "source": [
    "### 7. Variables for z\n",
    "\n",
    "Let's get the numbers needed for the z-score. p-hat is the proportion of sample rows where age_cat equals under thirty. p-zero is point-five according to the null hypothesis. n is the number of rows in the dataset."
   ],
   "execution_count": null,
   "cell_type": "markdown"
  },
  {
   "cell_type": "code",
   "execution_count": 71,
   "outputs": [],
   "source": [
    "p_hat = (stack_overflow[\"age_cat\"] == \"Under 30\").mean()\n",
    "p_0 = 0.50\n",
    "n = len(stack_overflow)"
   ],
   "metadata": {
    "collapsed": false,
    "pycharm": {
     "name": "#%%\n"
    }
   }
  },
  {
   "metadata": {
    "pycharm": {
     "name": "#%% md\n"
    }
   },
   "outputs": [],
   "source": [
    "### 8. Calculating the z-score\n",
    "\n",
    "Inserting the values we calculated into the z-score equation yields a z-score of around three-point-four."
   ],
   "execution_count": null,
   "cell_type": "markdown"
  },
  {
   "cell_type": "code",
   "execution_count": 72,
   "outputs": [
    {
     "data": {
      "text/plain": "3.385911440783663"
     },
     "execution_count": 72,
     "metadata": {},
     "output_type": "execute_result"
    }
   ],
   "source": [
    "numerator = p_hat - p_0\n",
    "denominator = np.sqrt((p_0 * (1 - p_0))/n)\n",
    "z_score = numerator /denominator\n",
    "z_score"
   ],
   "metadata": {
    "collapsed": false,
    "pycharm": {
     "name": "#%%\n"
    }
   }
  },
  {
   "metadata": {
    "pycharm": {
     "name": "#%% md\n"
    }
   },
   "outputs": [],
   "source": [
    "### 9. Calculating the p-value\n",
    "\n",
    "For left-tailed alternative hypotheses, we transform the z-score into a p-value using norm-dot-cdf. For right-tailed alternative hypotheses, we subtract the norm-dot-cdf result from one. For two-tailed alternative hypotheses, we check whether the test statistic lies in either tail, so the p-value is the sum of these two values: one corresponding to the z-score and the other to its negative on the other side of the distribution. Since the normal distribution PDF is symmetric, this simplifies to twice the right-tailed p-value since the z-score is positive. Here, the p-value is less than the significance level of point-zero-one, so we reject the null hypothesis, concluding that the proportion of users under thirty is not equal to point-five."
   ],
   "execution_count": null,
   "cell_type": "markdown"
  },
  {
   "cell_type": "code",
   "execution_count": 73,
   "outputs": [
    {
     "data": {
      "text/plain": "<Figure size 432x288 with 1 Axes>",
      "image/png": "[encoded data removed]"
     },
     "metadata": {},
     "output_type": "display_data"
    }
   ],
   "source": [
    "normal[\"cdf\"] = norm.cdf(normal[\"x\"])\n",
    "normal.head()\n",
    "color = [\"r\" if abs(x)>2 else \"k\" for x in normal[\"x\"]]\n",
    "plt.scatter(normal[\"x\"],normal[\"cdf\"],c=color,s=1)\n",
    "plt.show()"
   ],
   "metadata": {
    "collapsed": false,
    "pycharm": {
     "name": "#%%\n"
    }
   }
  },
  {
   "cell_type": "code",
   "execution_count": 74,
   "outputs": [
    {
     "data": {
      "text/plain": "0.999645288631595"
     },
     "execution_count": 74,
     "metadata": {},
     "output_type": "execute_result"
    }
   ],
   "source": [
    "# left tails for (less than)\n",
    "norm.cdf(z_score)"
   ],
   "metadata": {
    "collapsed": false,
    "pycharm": {
     "name": "#%%\n"
    }
   }
  },
  {
   "cell_type": "code",
   "execution_count": 75,
   "outputs": [
    {
     "data": {
      "text/plain": "0.00035471136840503625"
     },
     "execution_count": 75,
     "metadata": {},
     "output_type": "execute_result"
    }
   ],
   "source": [
    "# right tail for (grater that)\n",
    "1 - norm.cdf(z_score)"
   ],
   "metadata": {
    "collapsed": false,
    "pycharm": {
     "name": "#%%\n"
    }
   }
  },
  {
   "cell_type": "code",
   "execution_count": 76,
   "outputs": [
    {
     "data": {
      "text/plain": "0.0007094227368100725"
     },
     "execution_count": 76,
     "metadata": {},
     "output_type": "execute_result"
    }
   ],
   "source": [
    "# two side test for the not equal\n",
    "p_value = 2 * (1 - norm.cdf(z_score))\n",
    "p_value\n"
   ],
   "metadata": {
    "collapsed": false,
    "pycharm": {
     "name": "#%%\n"
    }
   }
  },
  {
   "cell_type": "code",
   "execution_count": 77,
   "outputs": [
    {
     "data": {
      "text/plain": "True"
     },
     "execution_count": 77,
     "metadata": {},
     "output_type": "execute_result"
    }
   ],
   "source": [
    "p_value <= alpha"
   ],
   "metadata": {
    "collapsed": false,
    "pycharm": {
     "name": "#%%\n"
    }
   }
  },
  {
   "cell_type": "markdown",
   "source": [
    "Since p_value is less than the alpha value ,we reject the null hypothesis so we conclude that\n",
    "proportion of StackOverflow user under thirty is not equal to 0.5"
   ],
   "metadata": {
    "collapsed": false,
    "pycharm": {
     "name": "#%% md\n"
    }
   }
  },
  {
   "metadata": {
    "pycharm": {
     "name": "#%% md\n"
    }
   },
   "outputs": [],
   "source": [
    "### 10. Let's practice!\n",
    "\n",
    "Let's try an example."
   ],
   "execution_count": null,
   "cell_type": "markdown"
  },
  {
   "metadata": {
    "pycharm": {
     "name": "#%% md\n"
    }
   },
   "outputs": [],
   "source": [
    "## Test for single proportions\n",
    "\n",
    "<p>In Chapter 1, you calculated a p-value for a test hypothesizing that the proportion of late shipments was <strong>greater than</strong> 6%. In that chapter, you used a bootstrap distribution to estimate the standard error of the statistic. An alternative is to use an equation for the standard error based on the sample proportion, hypothesized proportion, and sample size.</p>\n",
    "<p><mjx-container class=\"MathJax CtxtMenu_Attached_0\" jax=\"CHTML\" role=\"presentation\" tabindex=\"0\" ctxtmenu_counter=\"1\" style=\"font-size: 116.7%; position: relative;\"><mjx-math class=\"MJX-TEX\" aria-hidden=\"true\"><mjx-mi class=\"mjx-i\"><mjx-c class=\"mjx-c1D467 TEX-I\"></mjx-c></mjx-mi><mjx-mo class=\"mjx-n\" space=\"4\"><mjx-c class=\"mjx-c3D\"></mjx-c></mjx-mo><mjx-mstyle space=\"4\"><mjx-mfrac><mjx-frac type=\"d\"><mjx-num><mjx-nstrut type=\"d\"></mjx-nstrut><mjx-mrow><mjx-texatom texclass=\"ORD\"><mjx-mover><mjx-over style=\"padding-bottom: 0.06em; padding-left: 0.085em; margin-bottom: -0.531em;\"><mjx-mo class=\"mjx-n\"><mjx-c class=\"mjx-c5E\"></mjx-c></mjx-mo></mjx-over><mjx-base><mjx-mi class=\"mjx-i\"><mjx-c class=\"mjx-c1D45D TEX-I\"></mjx-c></mjx-mi></mjx-base></mjx-mover></mjx-texatom><mjx-mo class=\"mjx-n\" space=\"3\"><mjx-c class=\"mjx-c2212\"></mjx-c></mjx-mo><mjx-msub space=\"3\"><mjx-mi class=\"mjx-i\" noic=\"true\"><mjx-c class=\"mjx-c1D45D TEX-I\"></mjx-c></mjx-mi><mjx-script style=\"vertical-align: -0.15em;\"><mjx-texatom size=\"s\" texclass=\"ORD\"><mjx-mn class=\"mjx-n\"><mjx-c class=\"mjx-c30\"></mjx-c></mjx-mn></mjx-texatom></mjx-script></mjx-msub></mjx-mrow></mjx-num><mjx-dbox><mjx-dtable><mjx-line type=\"d\"></mjx-line><mjx-row><mjx-den><mjx-dstrut type=\"d\"></mjx-dstrut><mjx-msqrt><mjx-sqrt><mjx-surd><mjx-mo class=\"mjx-s3\"><mjx-c class=\"mjx-c221A TEX-S3\"></mjx-c></mjx-mo></mjx-surd><mjx-box style=\"padding-top: 0.129em;\"><mjx-mstyle><mjx-mfrac><mjx-frac type=\"d\"><mjx-num><mjx-nstrut type=\"d\"></mjx-nstrut><mjx-mrow><mjx-msub><mjx-mi class=\"mjx-i\" noic=\"true\"><mjx-c class=\"mjx-c1D45D TEX-I\"></mjx-c></mjx-mi><mjx-script style=\"vertical-align: -0.15em;\"><mjx-texatom size=\"s\" texclass=\"ORD\"><mjx-mn class=\"mjx-n\"><mjx-c class=\"mjx-c30\"></mjx-c></mjx-mn></mjx-texatom></mjx-script></mjx-msub><mjx-mo class=\"mjx-n\" space=\"3\"><mjx-c class=\"mjx-c2217\"></mjx-c></mjx-mo><mjx-mo class=\"mjx-n\" space=\"3\"><mjx-c class=\"mjx-c28\"></mjx-c></mjx-mo><mjx-mn class=\"mjx-n\"><mjx-c class=\"mjx-c31\"></mjx-c></mjx-mn><mjx-mo class=\"mjx-n\" space=\"3\"><mjx-c class=\"mjx-c2212\"></mjx-c></mjx-mo><mjx-msub space=\"3\"><mjx-mi class=\"mjx-i\" noic=\"true\"><mjx-c class=\"mjx-c1D45D TEX-I\"></mjx-c></mjx-mi><mjx-script style=\"vertical-align: -0.15em;\"><mjx-texatom size=\"s\" texclass=\"ORD\"><mjx-mn class=\"mjx-n\"><mjx-c class=\"mjx-c30\"></mjx-c></mjx-mn></mjx-texatom></mjx-script></mjx-msub><mjx-mo class=\"mjx-n\"><mjx-c class=\"mjx-c29\"></mjx-c></mjx-mo></mjx-mrow></mjx-num><mjx-dbox><mjx-dtable><mjx-line type=\"d\"></mjx-line><mjx-row><mjx-den><mjx-dstrut type=\"d\"></mjx-dstrut><mjx-mi class=\"mjx-i\"><mjx-c class=\"mjx-c1D45B TEX-I\"></mjx-c></mjx-mi></mjx-den></mjx-row></mjx-dtable></mjx-dbox></mjx-frac></mjx-mfrac></mjx-mstyle></mjx-box></mjx-sqrt></mjx-msqrt></mjx-den></mjx-row></mjx-dtable></mjx-dbox></mjx-frac></mjx-mfrac></mjx-mstyle></mjx-math><mjx-assistive-mml role=\"presentation\" unselectable=\"on\" display=\"inline\"><math xmlns=\"http://www.w3.org/1998/Math/MathML\"><mi>z</mi><mo>=</mo><mstyle displaystyle=\"true\" scriptlevel=\"0\"><mfrac><mrow><mrow><mover><mi>p</mi><mo stretchy=\"false\">^</mo></mover></mrow><mo>−</mo><msub><mi>p</mi><mrow><mn>0</mn></mrow></msub></mrow><msqrt><mstyle displaystyle=\"true\" scriptlevel=\"0\"><mfrac><mrow><msub><mi>p</mi><mrow><mn>0</mn></mrow></msub><mo>∗</mo><mo stretchy=\"false\">(</mo><mn>1</mn><mo>−</mo><msub><mi>p</mi><mrow><mn>0</mn></mrow></msub><mo stretchy=\"false\">)</mo></mrow><mi>n</mi></mfrac></mstyle></msqrt></mfrac></mstyle></math></mjx-assistive-mml></mjx-container></p>\n",
    "<p>You'll revisit the p-value using this simpler calculation.</p>\n",
    "<p><code>late_shipments</code> is available. <code>pandas</code> and <code>numpy</code> are available under their usual aliases, and <code>norm</code> is loaded from <code>scipy.stats</code>.</p>"
   ],
   "execution_count": null,
   "cell_type": "markdown"
  },
  {
   "cell_type": "code",
   "execution_count": 78,
   "outputs": [
    {
     "data": {
      "text/plain": "        id       country managed_by  fulfill_via vendor_inco_term  \\\n0  36203.0       Nigeria   PMO - US  Direct Drop              EXW   \n1  30998.0      Botswana   PMO - US  Direct Drop              EXW   \n2  69871.0       Vietnam   PMO - US  Direct Drop              EXW   \n3  17648.0  South Africa   PMO - US  Direct Drop              DDP   \n4   5647.0        Uganda   PMO - US  Direct Drop              EXW   \n\n  shipment_mode  late_delivery late product_group    sub_classification  ...  \\\n0           Air            1.0  Yes          HRDT              HIV test  ...   \n1           Air            0.0   No          HRDT              HIV test  ...   \n2           Air            0.0   No           ARV                 Adult  ...   \n3         Ocean            0.0   No           ARV                 Adult  ...   \n4           Air            0.0   No          HRDT  HIV test - Ancillary  ...   \n\n  line_item_quantity line_item_value pack_price unit_price  \\\n0             2996.0       266644.00      89.00       0.89   \n1               25.0          800.00      32.00       1.60   \n2            22925.0       110040.00       4.80       0.08   \n3           152535.0       361507.95       2.37       0.04   \n4              850.0            8.50       0.01       0.00   \n\n             manufacturing_site first_line_designation  weight_kilograms  \\\n0       Alere Medical Co., Ltd.                    Yes            1426.0   \n1          Trinity Biotech, Plc                    Yes              10.0   \n2  Hetero Unit III Hyderabad IN                    Yes            3723.0   \n3     Aurobindo Unit III, India                    Yes            7698.0   \n4               Inverness Japan                    Yes              56.0   \n\n   freight_cost_usd  freight_cost_groups  line_item_insurance_usd  \n0          33279.83            expensive                   373.83  \n1            559.89           reasonable                     1.72  \n2          19056.13            expensive                   181.57  \n3          11372.23            expensive                   779.41  \n4            360.00           reasonable                     0.01  \n\n[5 rows x 27 columns]",
      "text/html": "<div>\n<style scoped>\n    .dataframe tbody tr th:only-of-type {\n        vertical-align: middle;\n    }\n\n    .dataframe tbody tr th {\n        vertical-align: top;\n    }\n\n    .dataframe thead th {\n        text-align: right;\n    }\n</style>\n<table border=\"1\" class=\"dataframe\">\n  <thead>\n    <tr style=\"text-align: right;\">\n      <th></th>\n      <th>id</th>\n      <th>country</th>\n      <th>managed_by</th>\n      <th>fulfill_via</th>\n      <th>vendor_inco_term</th>\n      <th>shipment_mode</th>\n      <th>late_delivery</th>\n      <th>late</th>\n      <th>product_group</th>\n      <th>sub_classification</th>\n      <th>...</th>\n      <th>line_item_quantity</th>\n      <th>line_item_value</th>\n      <th>pack_price</th>\n      <th>unit_price</th>\n      <th>manufacturing_site</th>\n      <th>first_line_designation</th>\n      <th>weight_kilograms</th>\n      <th>freight_cost_usd</th>\n      <th>freight_cost_groups</th>\n      <th>line_item_insurance_usd</th>\n    </tr>\n  </thead>\n  <tbody>\n    <tr>\n      <th>0</th>\n      <td>36203.0</td>\n      <td>Nigeria</td>\n      <td>PMO - US</td>\n      <td>Direct Drop</td>\n      <td>EXW</td>\n      <td>Air</td>\n      <td>1.0</td>\n      <td>Yes</td>\n      <td>HRDT</td>\n      <td>HIV test</td>\n      <td>...</td>\n      <td>2996.0</td>\n      <td>266644.00</td>\n      <td>89.00</td>\n      <td>0.89</td>\n      <td>Alere Medical Co., Ltd.</td>\n      <td>Yes</td>\n      <td>1426.0</td>\n      <td>33279.83</td>\n      <td>expensive</td>\n      <td>373.83</td>\n    </tr>\n    <tr>\n      <th>1</th>\n      <td>30998.0</td>\n      <td>Botswana</td>\n      <td>PMO - US</td>\n      <td>Direct Drop</td>\n      <td>EXW</td>\n      <td>Air</td>\n      <td>0.0</td>\n      <td>No</td>\n      <td>HRDT</td>\n      <td>HIV test</td>\n      <td>...</td>\n      <td>25.0</td>\n      <td>800.00</td>\n      <td>32.00</td>\n      <td>1.60</td>\n      <td>Trinity Biotech, Plc</td>\n      <td>Yes</td>\n      <td>10.0</td>\n      <td>559.89</td>\n      <td>reasonable</td>\n      <td>1.72</td>\n    </tr>\n    <tr>\n      <th>2</th>\n      <td>69871.0</td>\n      <td>Vietnam</td>\n      <td>PMO - US</td>\n      <td>Direct Drop</td>\n      <td>EXW</td>\n      <td>Air</td>\n      <td>0.0</td>\n      <td>No</td>\n      <td>ARV</td>\n      <td>Adult</td>\n      <td>...</td>\n      <td>22925.0</td>\n      <td>110040.00</td>\n      <td>4.80</td>\n      <td>0.08</td>\n      <td>Hetero Unit III Hyderabad IN</td>\n      <td>Yes</td>\n      <td>3723.0</td>\n      <td>19056.13</td>\n      <td>expensive</td>\n      <td>181.57</td>\n    </tr>\n    <tr>\n      <th>3</th>\n      <td>17648.0</td>\n      <td>South Africa</td>\n      <td>PMO - US</td>\n      <td>Direct Drop</td>\n      <td>DDP</td>\n      <td>Ocean</td>\n      <td>0.0</td>\n      <td>No</td>\n      <td>ARV</td>\n      <td>Adult</td>\n      <td>...</td>\n      <td>152535.0</td>\n      <td>361507.95</td>\n      <td>2.37</td>\n      <td>0.04</td>\n      <td>Aurobindo Unit III, India</td>\n      <td>Yes</td>\n      <td>7698.0</td>\n      <td>11372.23</td>\n      <td>expensive</td>\n      <td>779.41</td>\n    </tr>\n    <tr>\n      <th>4</th>\n      <td>5647.0</td>\n      <td>Uganda</td>\n      <td>PMO - US</td>\n      <td>Direct Drop</td>\n      <td>EXW</td>\n      <td>Air</td>\n      <td>0.0</td>\n      <td>No</td>\n      <td>HRDT</td>\n      <td>HIV test - Ancillary</td>\n      <td>...</td>\n      <td>850.0</td>\n      <td>8.50</td>\n      <td>0.01</td>\n      <td>0.00</td>\n      <td>Inverness Japan</td>\n      <td>Yes</td>\n      <td>56.0</td>\n      <td>360.00</td>\n      <td>reasonable</td>\n      <td>0.01</td>\n    </tr>\n  </tbody>\n</table>\n<p>5 rows × 27 columns</p>\n</div>"
     },
     "execution_count": 78,
     "metadata": {},
     "output_type": "execute_result"
    }
   ],
   "source": [
    "late_shipments.head()"
   ],
   "metadata": {
    "collapsed": false,
    "pycharm": {
     "name": "#%%\n"
    }
   }
  },
  {
   "metadata": {
    "pycharm": {
     "name": "#%% md\n"
    }
   },
   "outputs": [],
   "source": [
    "Hypothesize that the proportion of late shipments is 6%."
   ],
   "execution_count": null,
   "cell_type": "markdown"
  },
  {
   "metadata": {
    "pycharm": {
     "name": "#%% md\n"
    }
   },
   "outputs": [],
   "source": [
    "Calculate the sample proportion of shipments where <code>late</code> equals <code>\"Yes\"</code>."
   ],
   "execution_count": null,
   "cell_type": "markdown"
  },
  {
   "metadata": {
    "pycharm": {
     "name": "#%% md\n"
    }
   },
   "outputs": [],
   "source": [
    "Calculate the number of observations in the sample."
   ],
   "execution_count": null,
   "cell_type": "markdown"
  },
  {
   "cell_type": "markdown",
   "source": [
    "$$H_0: \\mbox{Proportion of late shipment} = 0.6$$\n",
    "$$H_A: \\mbox{Proportion of late shipment} \\gt 0.6$$"
   ],
   "metadata": {
    "collapsed": false,
    "pycharm": {
     "name": "#%% md\n"
    }
   }
  },
  {
   "cell_type": "code",
   "execution_count": 79,
   "outputs": [
    {
     "name": "stdout",
     "output_type": "stream",
     "text": [
      "0.061 1000\n"
     ]
    }
   ],
   "source": [
    "# Hypothesize that the proportion of late shipments is 6%\n",
    "p_0 = 0.06\n",
    "\n",
    "# Calculate the sample proportion of late shipments\n",
    "p_hat = (late_shipments[\"late\"] == \"Yes\").mean()\n",
    "\n",
    "# Calculate the sample size\n",
    "n = len(late_shipments)\n",
    "\n",
    "# Print p_hat and n\n",
    "print(p_hat, n)"
   ],
   "metadata": {
    "collapsed": false,
    "pycharm": {
     "name": "#%%\n"
    }
   }
  },
  {
   "cell_type": "code",
   "execution_count": 80,
   "outputs": [
    {
     "data": {
      "text/plain": "0.13315591032282698"
     },
     "execution_count": 80,
     "metadata": {},
     "output_type": "execute_result"
    }
   ],
   "source": [
    "# Calculate the numerator and denominator of the test statistic\n",
    "numerator = p_hat - p_0\n",
    "denominator = np.sqrt(p_0 * (1 - p_0) / n)\n",
    "\n",
    "# Calculate the test statistic\n",
    "z_score = numerator / denominator\n",
    "z_score"
   ],
   "metadata": {
    "collapsed": false,
    "pycharm": {
     "name": "#%%\n"
    }
   }
  },
  {
   "cell_type": "code",
   "execution_count": 81,
   "outputs": [
    {
     "name": "stdout",
     "output_type": "stream",
     "text": [
      "0.44703503936503364\n"
     ]
    }
   ],
   "source": [
    "# Calculate the p-value from the z-score\n",
    "p_value = 1 - norm.cdf(z_score)\n",
    "\n",
    "# Print the p-value\n",
    "print(p_value)"
   ],
   "metadata": {
    "collapsed": false,
    "pycharm": {
     "name": "#%%\n"
    }
   }
  },
  {
   "metadata": {
    "pycharm": {
     "name": "#%% md\n"
    }
   },
   "outputs": [],
   "source": [
    "## A sense of proportion"
   ],
   "execution_count": null,
   "cell_type": "markdown"
  },
  {
   "metadata": {
    "pycharm": {
     "name": "#%% md\n"
    }
   },
   "outputs": [],
   "source": [
    "### 1. A sense of proportion\n",
    "\n",
    "The previous lesson tested a single proportion against a specific value. As with means, we can also test differences between proportions in two populations."
   ],
   "execution_count": null,
   "cell_type": "markdown"
  },
  {
   "metadata": {
    "pycharm": {
     "name": "#%% md\n"
    }
   },
   "outputs": [],
   "source": [
    "### 2. Comparing two proportions\n",
    "\n",
    "The Stack Overflow survey contains a hobbyist variable. The value \"Yes\" means the user described themselves as a hobbyist and \"No\" means they described themselves as a professional. We can hypothesize that the proportion of hobbyist users is the same for the under thirty age category as the thirty or over category. We again test for a difference in a two-tailed test. More formally, the null hypothesis is that the difference between the population parameters for each group is zero. Let's set a significance level of point-zero-five.\n",
    "\n",
    "$$H_0: \\mbox{Proportion of hobbyist user is the same for those under thirty as those at least thirty} $$\n",
    "$$H_0 : p_{>30} - p_{<30} = 0$$\n",
    "$$H_A:\\mbox{ Proportion of hobbyist user is the different for those under thirty as those at least thirty} $$\n",
    "$$H_A : p_{>30} - p_{<30} \\neq 0$$"
   ],
   "execution_count": null,
   "cell_type": "markdown"
  },
  {
   "cell_type": "code",
   "execution_count": 82,
   "outputs": [],
   "source": [
    "alpha = 0.05"
   ],
   "metadata": {
    "collapsed": false,
    "pycharm": {
     "name": "#%%\n"
    }
   }
  },
  {
   "metadata": {
    "pycharm": {
     "name": "#%% md\n"
    }
   },
   "outputs": [],
   "source": [
    "### 3. Calculating the z-score\n",
    "\n",
    "Let's break down this z-score equation. The sample statistic is the difference in the proportions for each category. That's the two p-hat values on the numerator. We subtract the hypothesized value of the population parameter, and assuming the null hypothesis is true, it's zero, so the term disappears. The denominator is the standard error of the sample statistic. Again, we can avoid having to generate a bootstrap distribution to calculate the standard error. The equation for the standard error is a slightly more complicated version than the one sample case. In this equation, note that p-hat is the sample proportion for the whole dataset, not for each category. This whole dataset p-hat is known as a pooled estimate of the population proportion. We need one final equation to calculate p-hat. It's a weighted mean of the p-hats for each category. This looks horrendous, but Python is great at handling arithmetic. We now only need four numbers from the sample dataset to do these calculations and calculate the z-score.\n",
    "\n",
    "$$z = \\frac{\\hat{p}_{\\geq 30} - \\hat{p}_{<30}} {\\mbox{SE}(\\hat{p}_{\\geq 30} - \\hat{p}_{<30})}$$\n",
    "$${\\mbox{SE}(\\hat{p}_{\\geq 30} - \\hat{p}_{<30})} = \\sqrt{\\frac{\\hat{p} * 1 - \\hat{p}}{n_{\\geq30}} + \\frac{\\hat{p} * 1 - \\hat{p}}{n_{\\leq30}}}$$\n",
    "\n",
    "\n",
    "$\\hat{p}$ - pooled estimate for p (common unknown proportion of success)\n",
    "\n",
    "$$ \\hat{p} = \\frac{n_{\\geq 30} * \\hat{p}_{\\geq 30} + n_{\\lt 30} * \\hat{p}_{\\lt 30}}{n_{\\geq 30} + n_{\\lt 30}}$$"
   ],
   "execution_count": null,
   "cell_type": "markdown"
  },
  {
   "metadata": {
    "pycharm": {
     "name": "#%% md\n"
    }
   },
   "outputs": [],
   "source": [
    "### 4. Getting the numbers for the z-score\n",
    "\n",
    "To calculate these four numbers, we group by the age category, and calculate the sample proportion using dot-value_counts with normalize as True, and the row counts using dot-count. We'll focus on the hobbyist Yes rows."
   ],
   "execution_count": null,
   "cell_type": "markdown"
  },
  {
   "cell_type": "code",
   "execution_count": 83,
   "outputs": [
    {
     "data": {
      "text/plain": "age_cat      hobbyist\nAt least 30  Yes         0.773333\n             No          0.226667\nUnder 30     Yes         0.843105\n             No          0.156895\nName: hobbyist, dtype: float64"
     },
     "execution_count": 83,
     "metadata": {},
     "output_type": "execute_result"
    }
   ],
   "source": [
    "p_hats = stack_overflow.groupby(\"age_cat\")[\"hobbyist\"].value_counts(normalize=True)\n",
    "p_hats"
   ],
   "metadata": {
    "collapsed": false,
    "pycharm": {
     "name": "#%%\n"
    }
   }
  },
  {
   "cell_type": "code",
   "execution_count": 84,
   "outputs": [
    {
     "data": {
      "text/plain": "age_cat\nAt least 30    1050\nUnder 30       1211\nName: hobbyist, dtype: int64"
     },
     "execution_count": 84,
     "metadata": {},
     "output_type": "execute_result"
    }
   ],
   "source": [
    "n = stack_overflow.groupby(\"age_cat\")[\"hobbyist\"].count()\n",
    "n"
   ],
   "metadata": {
    "collapsed": false,
    "pycharm": {
     "name": "#%%\n"
    }
   }
  },
  {
   "metadata": {
    "pycharm": {
     "name": "#%% md\n"
    }
   },
   "outputs": [],
   "source": [
    "### 5. Getting the numbers for the z-score\n",
    "\n",
    "To isolate the success counts from p_hats, we can use pandas multiIndex subsetting, passing a tuple of the outer column and inner column values. There are 812 yes values in the at least thirty group, and 1021 in the under thirty group."
   ],
   "execution_count": null,
   "cell_type": "markdown"
  },
  {
   "cell_type": "code",
   "execution_count": 85,
   "outputs": [],
   "source": [
    "p_hat_at_least_30 = p_hats[(\"At least 30\",\"Yes\")]\n",
    "p_hat_under_30 = p_hats[(\"Under 30\",\"Yes\")]\n",
    "n_at_least_30 = n[\"At least 30\"]\n",
    "n_under_30 = n[\"Under 30\"]"
   ],
   "metadata": {
    "collapsed": false,
    "pycharm": {
     "name": "#%%\n"
    }
   }
  },
  {
   "metadata": {
    "pycharm": {
     "name": "#%% md\n"
    }
   },
   "outputs": [],
   "source": [
    "### 6. Getting the numbers for the z-score\n",
    "\n",
    "The overall group counts can be extracted with simpler subsetting. There are 1050 rows overall for the at least thirty group and 1211 for the under 30 group."
   ],
   "execution_count": null,
   "cell_type": "markdown"
  },
  {
   "cell_type": "code",
   "execution_count": 86,
   "outputs": [
    {
     "data": {
      "text/plain": "-4.223691463320559"
     },
     "execution_count": 86,
     "metadata": {},
     "output_type": "execute_result"
    }
   ],
   "source": [
    "p_hat = ((n_under_30 * p_hat_under_30) + (n_at_least_30 * p_hat_at_least_30)) / (n_at_least_30 + n_under_30)\n",
    "std_error = np.sqrt(((p_hat * (1 - p_hat) )/ n_under_30) + ((p_hat * (1 - p_hat)) / n_at_least_30))\n",
    "z_score =( p_hat_at_least_30 - p_hat_under_30) / std_error\n",
    "z_score"
   ],
   "metadata": {
    "collapsed": false,
    "pycharm": {
     "name": "#%%\n"
    }
   }
  },
  {
   "cell_type": "code",
   "execution_count": 87,
   "outputs": [
    {
     "data": {
      "text/plain": "2.403330142685068e-05"
     },
     "execution_count": 87,
     "metadata": {},
     "output_type": "execute_result"
    }
   ],
   "source": [
    "p_value =(norm.cdf(z_score))*2\n",
    "p_value"
   ],
   "metadata": {
    "collapsed": false,
    "pycharm": {
     "name": "#%%\n"
    }
   }
  },
  {
   "metadata": {
    "pycharm": {
     "name": "#%% md\n"
    }
   },
   "outputs": [],
   "source": [
    "### 7. Getting the numbers for the z-score\n",
    "\n",
    "After that, we can do the arithmetic using our equations for p_hat, the standard error, and the z-score to get the test statistic. The z-score is minus four-point-two-two. Luckily, we can avoid this math."
   ],
   "execution_count": null,
   "cell_type": "markdown"
  },
  {
   "metadata": {
    "pycharm": {
     "name": "#%% md\n"
    }
   },
   "outputs": [],
   "source": [
    "### 8. Proportion tests using proportions_ztest()\n",
    "\n",
    "We can use proportions_ztest from statsmodels-dot-stats-dot-proportion to calculate this z-score more directly. This method requires two objects as NumPy arrays. The first being how many Yes's we have in each group and the second is the total number of rows in each age group. We can get these numbers from dot-value_counts on hobbyist grouped by age_cat. Next, we pass these values to the count and nobs arguments of the proportions_ztest method. We are testing for a difference, so we specify that this is a two-sided test. The method returns a z-score and a p-value, which we have stored in stat and p_value, respectively. The p-value is smaller than the five percent significance level we specified, so we can conclude that there is a difference in the proportion of Stack Overflow hobbyists between the under and over thirty groups."
   ],
   "execution_count": null,
   "cell_type": "markdown"
  },
  {
   "cell_type": "code",
   "execution_count": 88,
   "outputs": [
    {
     "data": {
      "text/plain": "hobbyist  age_cat    \nNo        At least 30     238\n          Under 30        190\nYes       Under 30       1021\n          At least 30     812\nName: age_cat, dtype: int64"
     },
     "execution_count": 88,
     "metadata": {},
     "output_type": "execute_result"
    }
   ],
   "source": [
    "hobbyist_by_age = stack_overflow.groupby(\"hobbyist\")[\"age_cat\"].value_counts()\n",
    "hobbyist_by_age"
   ],
   "metadata": {
    "collapsed": false,
    "pycharm": {
     "name": "#%%\n"
    }
   }
  },
  {
   "cell_type": "code",
   "execution_count": 89,
   "outputs": [
    {
     "data": {
      "text/plain": "age_cat   At least 30  Under 30\nhobbyist                       \nNo                238       190\nYes               812      1021",
      "text/html": "<div>\n<style scoped>\n    .dataframe tbody tr th:only-of-type {\n        vertical-align: middle;\n    }\n\n    .dataframe tbody tr th {\n        vertical-align: top;\n    }\n\n    .dataframe thead th {\n        text-align: right;\n    }\n</style>\n<table border=\"1\" class=\"dataframe\">\n  <thead>\n    <tr style=\"text-align: right;\">\n      <th>age_cat</th>\n      <th>At least 30</th>\n      <th>Under 30</th>\n    </tr>\n    <tr>\n      <th>hobbyist</th>\n      <th></th>\n      <th></th>\n    </tr>\n  </thead>\n  <tbody>\n    <tr>\n      <th>No</th>\n      <td>238</td>\n      <td>190</td>\n    </tr>\n    <tr>\n      <th>Yes</th>\n      <td>812</td>\n      <td>1021</td>\n    </tr>\n  </tbody>\n</table>\n</div>"
     },
     "execution_count": 89,
     "metadata": {},
     "output_type": "execute_result"
    }
   ],
   "source": [
    "hobbyist_by_age = stack_overflow.groupby(\"hobbyist\")[\"age_cat\"].value_counts()\n",
    "hobbyist_by_age = hobbyist_by_age.unstack()\n",
    "hobbyist_by_age"
   ],
   "metadata": {
    "collapsed": false,
    "pycharm": {
     "name": "#%%\n"
    }
   }
  },
  {
   "cell_type": "code",
   "execution_count": 90,
   "outputs": [
    {
     "data": {
      "text/plain": "age_cat\nAt least 30    1050\nUnder 30       1211\ndtype: int64"
     },
     "execution_count": 90,
     "metadata": {},
     "output_type": "execute_result"
    }
   ],
   "source": [
    "hobbyist_by_age.sum()"
   ],
   "metadata": {
    "collapsed": false,
    "pycharm": {
     "name": "#%%\n"
    }
   }
  },
  {
   "cell_type": "code",
   "execution_count": 91,
   "outputs": [
    {
     "data": {
      "text/plain": "(-4.223691463320559, 2.403330142685068e-05)"
     },
     "execution_count": 91,
     "metadata": {},
     "output_type": "execute_result"
    }
   ],
   "source": [
    "from statsmodels.stats.proportion import proportions_ztest\n",
    "hobbyist_by_age = stack_overflow.groupby(\"hobbyist\")[\"age_cat\"].value_counts()\n",
    "hobbyist_by_age = hobbyist_by_age.unstack()\n",
    "success_counts = hobbyist_by_age.loc[\"Yes\"].to_numpy()\n",
    "n = hobbyist_by_age.sum().to_numpy()\n",
    "proportions_ztest(count=success_counts,nobs = n,alternative=\"two-sided\")"
   ],
   "metadata": {
    "collapsed": false,
    "pycharm": {
     "name": "#%%\n"
    }
   }
  },
  {
   "metadata": {
    "pycharm": {
     "name": "#%% md\n"
    }
   },
   "outputs": [],
   "source": [
    "### 9. Let's practice!\n",
    "\n",
    "Time for some proportion tests."
   ],
   "execution_count": null,
   "cell_type": "markdown"
  },
  {
   "metadata": {
    "pycharm": {
     "name": "#%% md\n"
    }
   },
   "outputs": [],
   "source": [
    "## Test for two proportions\n",
    "\n",
    "<p>You may wonder if the amount paid for freight affects whether or not the shipment was late. Recall that in the <code>late_shipments</code> dataset, whether or not the shipment was late is stored in the <code>late</code> column. Freight costs are stored in the <code>freight_cost_group</code> column, and the categories are <code>\"expensive\"</code> and <code>\"reasonable\"</code>.</p>\n",
    "<p>The hypotheses to test, with <code>\"late\"</code> corresponding to the proportion of late shipments for that group, are</p>\n",
    "$$H_0 : \\mbox{late}_{\\mbox{expensive}} - \\mbox{late}_{\\mbox{resonable}} = 0 $$\n",
    "$$H_A : \\mbox{late}_{\\mbox{expensive}} - \\mbox{late}_{\\mbox{resonable}} \\gt 0 $$\n",
    "<p><code>p_hats</code> contains the estimates of population proportions (sample proportions) for the <code>\"expensive\"</code> and <code>\"reasonable\"</code> groups. <code>ns</code> contains the sample sizes for these groups. <code>p_hats</code> and <code>ns</code> have been printed for you.</p>\n",
    "<p><code>pandas</code> and <code>numpy</code> have been imported under their usual aliases, and <code>norm</code> is available from <code>scipy.stats</code>.</p>"
   ],
   "execution_count": null,
   "cell_type": "markdown"
  },
  {
   "cell_type": "code",
   "execution_count": 92,
   "outputs": [
    {
     "data": {
      "text/plain": "        id       country managed_by  fulfill_via vendor_inco_term  \\\n0  36203.0       Nigeria   PMO - US  Direct Drop              EXW   \n1  30998.0      Botswana   PMO - US  Direct Drop              EXW   \n2  69871.0       Vietnam   PMO - US  Direct Drop              EXW   \n3  17648.0  South Africa   PMO - US  Direct Drop              DDP   \n4   5647.0        Uganda   PMO - US  Direct Drop              EXW   \n\n  shipment_mode  late_delivery late product_group    sub_classification  ...  \\\n0           Air            1.0  Yes          HRDT              HIV test  ...   \n1           Air            0.0   No          HRDT              HIV test  ...   \n2           Air            0.0   No           ARV                 Adult  ...   \n3         Ocean            0.0   No           ARV                 Adult  ...   \n4           Air            0.0   No          HRDT  HIV test - Ancillary  ...   \n\n  line_item_quantity line_item_value pack_price unit_price  \\\n0             2996.0       266644.00      89.00       0.89   \n1               25.0          800.00      32.00       1.60   \n2            22925.0       110040.00       4.80       0.08   \n3           152535.0       361507.95       2.37       0.04   \n4              850.0            8.50       0.01       0.00   \n\n             manufacturing_site first_line_designation  weight_kilograms  \\\n0       Alere Medical Co., Ltd.                    Yes            1426.0   \n1          Trinity Biotech, Plc                    Yes              10.0   \n2  Hetero Unit III Hyderabad IN                    Yes            3723.0   \n3     Aurobindo Unit III, India                    Yes            7698.0   \n4               Inverness Japan                    Yes              56.0   \n\n   freight_cost_usd  freight_cost_groups  line_item_insurance_usd  \n0          33279.83            expensive                   373.83  \n1            559.89           reasonable                     1.72  \n2          19056.13            expensive                   181.57  \n3          11372.23            expensive                   779.41  \n4            360.00           reasonable                     0.01  \n\n[5 rows x 27 columns]",
      "text/html": "<div>\n<style scoped>\n    .dataframe tbody tr th:only-of-type {\n        vertical-align: middle;\n    }\n\n    .dataframe tbody tr th {\n        vertical-align: top;\n    }\n\n    .dataframe thead th {\n        text-align: right;\n    }\n</style>\n<table border=\"1\" class=\"dataframe\">\n  <thead>\n    <tr style=\"text-align: right;\">\n      <th></th>\n      <th>id</th>\n      <th>country</th>\n      <th>managed_by</th>\n      <th>fulfill_via</th>\n      <th>vendor_inco_term</th>\n      <th>shipment_mode</th>\n      <th>late_delivery</th>\n      <th>late</th>\n      <th>product_group</th>\n      <th>sub_classification</th>\n      <th>...</th>\n      <th>line_item_quantity</th>\n      <th>line_item_value</th>\n      <th>pack_price</th>\n      <th>unit_price</th>\n      <th>manufacturing_site</th>\n      <th>first_line_designation</th>\n      <th>weight_kilograms</th>\n      <th>freight_cost_usd</th>\n      <th>freight_cost_groups</th>\n      <th>line_item_insurance_usd</th>\n    </tr>\n  </thead>\n  <tbody>\n    <tr>\n      <th>0</th>\n      <td>36203.0</td>\n      <td>Nigeria</td>\n      <td>PMO - US</td>\n      <td>Direct Drop</td>\n      <td>EXW</td>\n      <td>Air</td>\n      <td>1.0</td>\n      <td>Yes</td>\n      <td>HRDT</td>\n      <td>HIV test</td>\n      <td>...</td>\n      <td>2996.0</td>\n      <td>266644.00</td>\n      <td>89.00</td>\n      <td>0.89</td>\n      <td>Alere Medical Co., Ltd.</td>\n      <td>Yes</td>\n      <td>1426.0</td>\n      <td>33279.83</td>\n      <td>expensive</td>\n      <td>373.83</td>\n    </tr>\n    <tr>\n      <th>1</th>\n      <td>30998.0</td>\n      <td>Botswana</td>\n      <td>PMO - US</td>\n      <td>Direct Drop</td>\n      <td>EXW</td>\n      <td>Air</td>\n      <td>0.0</td>\n      <td>No</td>\n      <td>HRDT</td>\n      <td>HIV test</td>\n      <td>...</td>\n      <td>25.0</td>\n      <td>800.00</td>\n      <td>32.00</td>\n      <td>1.60</td>\n      <td>Trinity Biotech, Plc</td>\n      <td>Yes</td>\n      <td>10.0</td>\n      <td>559.89</td>\n      <td>reasonable</td>\n      <td>1.72</td>\n    </tr>\n    <tr>\n      <th>2</th>\n      <td>69871.0</td>\n      <td>Vietnam</td>\n      <td>PMO - US</td>\n      <td>Direct Drop</td>\n      <td>EXW</td>\n      <td>Air</td>\n      <td>0.0</td>\n      <td>No</td>\n      <td>ARV</td>\n      <td>Adult</td>\n      <td>...</td>\n      <td>22925.0</td>\n      <td>110040.00</td>\n      <td>4.80</td>\n      <td>0.08</td>\n      <td>Hetero Unit III Hyderabad IN</td>\n      <td>Yes</td>\n      <td>3723.0</td>\n      <td>19056.13</td>\n      <td>expensive</td>\n      <td>181.57</td>\n    </tr>\n    <tr>\n      <th>3</th>\n      <td>17648.0</td>\n      <td>South Africa</td>\n      <td>PMO - US</td>\n      <td>Direct Drop</td>\n      <td>DDP</td>\n      <td>Ocean</td>\n      <td>0.0</td>\n      <td>No</td>\n      <td>ARV</td>\n      <td>Adult</td>\n      <td>...</td>\n      <td>152535.0</td>\n      <td>361507.95</td>\n      <td>2.37</td>\n      <td>0.04</td>\n      <td>Aurobindo Unit III, India</td>\n      <td>Yes</td>\n      <td>7698.0</td>\n      <td>11372.23</td>\n      <td>expensive</td>\n      <td>779.41</td>\n    </tr>\n    <tr>\n      <th>4</th>\n      <td>5647.0</td>\n      <td>Uganda</td>\n      <td>PMO - US</td>\n      <td>Direct Drop</td>\n      <td>EXW</td>\n      <td>Air</td>\n      <td>0.0</td>\n      <td>No</td>\n      <td>HRDT</td>\n      <td>HIV test - Ancillary</td>\n      <td>...</td>\n      <td>850.0</td>\n      <td>8.50</td>\n      <td>0.01</td>\n      <td>0.00</td>\n      <td>Inverness Japan</td>\n      <td>Yes</td>\n      <td>56.0</td>\n      <td>360.00</td>\n      <td>reasonable</td>\n      <td>0.01</td>\n    </tr>\n  </tbody>\n</table>\n<p>5 rows × 27 columns</p>\n</div>"
     },
     "execution_count": 92,
     "metadata": {},
     "output_type": "execute_result"
    }
   ],
   "source": [
    "late_shipments.head()"
   ],
   "metadata": {
    "collapsed": false,
    "pycharm": {
     "name": "#%%\n"
    }
   }
  },
  {
   "cell_type": "code",
   "execution_count": 93,
   "outputs": [
    {
     "data": {
      "text/plain": "freight_cost_groups\nexpensive     0.724138\nreasonable    0.275862\nName: freight_cost_groups, dtype: float64"
     },
     "execution_count": 93,
     "metadata": {},
     "output_type": "execute_result"
    }
   ],
   "source": [
    "p_hats = late_shipments.groupby(\"late\")[\"freight_cost_groups\"].value_counts(normalize=True)[\"Yes\"]\n",
    "p_hats"
   ],
   "metadata": {
    "collapsed": false,
    "pycharm": {
     "name": "#%%\n"
    }
   }
  },
  {
   "cell_type": "code",
   "execution_count": 94,
   "outputs": [
    {
     "data": {
      "text/plain": "freight_cost_groups\nexpensive     531\nreasonable    455\nName: late, dtype: int64"
     },
     "execution_count": 94,
     "metadata": {},
     "output_type": "execute_result"
    }
   ],
   "source": [
    "ns = late_shipments.groupby(\"freight_cost_groups\")[\"late\"].count()\n",
    "ns"
   ],
   "metadata": {
    "collapsed": false,
    "pycharm": {
     "name": "#%%\n"
    }
   }
  },
  {
   "metadata": {
    "pycharm": {
     "name": "#%% md\n"
    }
   },
   "outputs": [],
   "source": [
    "Calculate the pooled sample proportion, <mjx-container class=\"MathJax CtxtMenu_Attached_0\" jax=\"CHTML\" role=\"presentation\" tabindex=\"0\" ctxtmenu_counter=\"10\" style=\"font-size: 116.7%; position: relative;\"><mjx-math class=\"MJX-TEX\" aria-hidden=\"true\"><mjx-texatom texclass=\"ORD\"><mjx-mover><mjx-over style=\"padding-bottom: 0.06em; padding-left: 0.085em; margin-bottom: -0.531em;\"><mjx-mo class=\"mjx-n\"><mjx-c class=\"mjx-c5E\"></mjx-c></mjx-mo></mjx-over><mjx-base><mjx-mi class=\"mjx-i\"><mjx-c class=\"mjx-c1D45D TEX-I\"></mjx-c></mjx-mi></mjx-base></mjx-mover></mjx-texatom></mjx-math><mjx-assistive-mml role=\"presentation\" unselectable=\"on\" display=\"inline\"><math xmlns=\"http://www.w3.org/1998/Math/MathML\"><mrow><mover><mi>p</mi><mo stretchy=\"false\">^</mo></mover></mrow></math></mjx-assistive-mml></mjx-container>, from <code>p_hats</code> and <code>ns</code>."
   ],
   "execution_count": null,
   "cell_type": "markdown"
  },
  {
   "cell_type": "code",
   "execution_count": 95,
   "outputs": [
    {
     "name": "stdout",
     "output_type": "stream",
     "text": [
      "0.5172763516821711\n"
     ]
    }
   ],
   "source": [
    "# Calculate the pooled estimate of the population proportion\n",
    "p_hat = (ns.expensive * p_hats.expensive + ns.reasonable * p_hats.reasonable) / (ns.expensive + ns.reasonable)\n",
    "\n",
    "# Print the result\n",
    "print(p_hat)"
   ],
   "metadata": {
    "collapsed": false,
    "pycharm": {
     "name": "#%%\n"
    }
   }
  },
  {
   "cell_type": "code",
   "execution_count": 96,
   "outputs": [],
   "source": [
    "\n",
    "# Calculate p_hat one minus p_hat\n",
    "p_hat_times_not_p_hat = (1 - p_hat) * p_hat"
   ],
   "metadata": {
    "collapsed": false,
    "pycharm": {
     "name": "#%%\n"
    }
   }
  },
  {
   "cell_type": "code",
   "execution_count": 97,
   "outputs": [
    {
     "data": {
      "text/plain": "0.0010190422643783787"
     },
     "execution_count": 97,
     "metadata": {},
     "output_type": "execute_result"
    }
   ],
   "source": [
    "\n",
    "# Divide this by each of the sample sizes and then sum\n",
    "p_hat_times_not_p_hat_over_ns = (p_hat_times_not_p_hat / ns).sum()\n",
    "p_hat_times_not_p_hat_over_ns.sum()"
   ],
   "metadata": {
    "collapsed": false,
    "pycharm": {
     "name": "#%%\n"
    }
   }
  },
  {
   "cell_type": "code",
   "execution_count": 98,
   "outputs": [
    {
     "name": "stdout",
     "output_type": "stream",
     "text": [
      "0.0319224413912592\n"
     ]
    }
   ],
   "source": [
    "\n",
    "# Calculate the standard error\n",
    "std_error = np.sqrt(p_hat_times_not_p_hat_over_ns)\n",
    "\n",
    "\n",
    "# Print the result\n",
    "print(std_error)"
   ],
   "metadata": {
    "collapsed": false,
    "pycharm": {
     "name": "#%%\n"
    }
   }
  },
  {
   "cell_type": "code",
   "execution_count": 99,
   "outputs": [
    {
     "name": "stdout",
     "output_type": "stream",
     "text": [
      "0.0\n"
     ]
    }
   ],
   "source": [
    "\n",
    "# Calculate the z-score\n",
    "z_score = (p_hats[\"expensive\"] - p_hats[\"reasonable\"]) / std_error\n",
    "\n",
    "# Calculate the p-value from the z-score\n",
    "p_value = 1 - norm.cdf(z_score)\n",
    "\n",
    "# Print p_value\n",
    "print(p_value)"
   ],
   "metadata": {
    "collapsed": false,
    "pycharm": {
     "name": "#%%\n"
    }
   }
  },
  {
   "metadata": {
    "pycharm": {
     "name": "#%% md\n"
    }
   },
   "outputs": [],
   "source": [
    "## proportions_ztest() for two samples\n",
    "\n",
    "<p>That took a lot of effort to calculate the p-value, so while it is useful to see how the calculations work, it isn't practical to do in real-world analyses. For daily usage, it's better to use the <code>statsmodels</code> package.</p>\n",
    "<p>Recall the hypotheses.</p>\n",
    "\n",
    "$$H_0 : \\mbox{late}_{\\mbox{expensive}} - \\mbox{late}_{\\mbox{resonable}} = 0 $$\n",
    "$$H_A : \\mbox{late}_{\\mbox{expensive}} - \\mbox{late}_{\\mbox{resonable}} \\gt 0 $$\n",
    "\n",
    "<p><code>late_shipments</code> is available, containing the <code>freight_cost_group</code> column. <code>numpy</code> and <code>pandas</code> have been loaded under their standard aliases, and <code>proportions_ztest</code> has been loaded from <code>statsmodels.stats.proportion</code>.</p>"
   ],
   "execution_count": null,
   "cell_type": "markdown"
  },
  {
   "metadata": {
    "pycharm": {
     "name": "#%% md\n"
    }
   },
   "outputs": [],
   "source": [
    "Get the counts of the <code>late</code> column grouped by <code>freight_cost_group</code>."
   ],
   "execution_count": null,
   "cell_type": "markdown"
  },
  {
   "cell_type": "code",
   "execution_count": 100,
   "outputs": [
    {
     "name": "stdout",
     "output_type": "stream",
     "text": [
      "3.1190401865206128 0.0009072060637051224\n"
     ]
    }
   ],
   "source": [
    "# Count the late column values for each freight_cost_group\n",
    "late_by_freight_cost_group = late_shipments.groupby(\"freight_cost_groups\")['late'].value_counts()\n",
    "\n",
    "# Put the two \"Yes\" counts into an array\n",
    "success_counts = np.array([45,16])\n",
    "\n",
    "# Put the two group counts into an array\n",
    "n = np.array([500+45,439+16])\n",
    "\n",
    "# Run a z-test on the two proportions\n",
    "stat, p_value = proportions_ztest(count=success_counts,nobs=n,\n",
    "                                  alternative=\"larger\")\n",
    "\n",
    "\n",
    "# Print the results\n",
    "print(stat, p_value)"
   ],
   "metadata": {
    "collapsed": false,
    "pycharm": {
     "name": "#%%\n"
    }
   }
  },
  {
   "metadata": {
    "pycharm": {
     "name": "#%% md\n"
    }
   },
   "outputs": [],
   "source": [
    "## Declaration of independence"
   ],
   "execution_count": null,
   "cell_type": "markdown"
  },
  {
   "metadata": {
    "pycharm": {
     "name": "#%% md\n"
    }
   },
   "outputs": [],
   "source": [
    "### 1. Declaration of independence\n",
    "\n",
    "Just as ANOVA extends t-tests to more than two groups, chi-square tests of independence extend proportion tests to more than two groups."
   ],
   "execution_count": null,
   "cell_type": "markdown"
  },
  {
   "metadata": {
    "pycharm": {
     "name": "#%% md\n"
    }
   },
   "outputs": [],
   "source": [
    "### 2. Revisiting the proportion test\n",
    "\n",
    "Here's the proportions test from the last video. The test statistic is the z-score of minus four-point-two-two."
   ],
   "execution_count": null,
   "cell_type": "markdown"
  },
  {
   "cell_type": "code",
   "execution_count": 101,
   "outputs": [
    {
     "data": {
      "text/plain": "(-4.223691463320559, 2.403330142685068e-05)"
     },
     "execution_count": 101,
     "metadata": {},
     "output_type": "execute_result"
    }
   ],
   "source": [
    "hobbyist_by_age = stack_overflow.groupby(\"hobbyist\")[\"age_cat\"].value_counts()\n",
    "hobbyist_by_age = hobbyist_by_age.unstack()\n",
    "success_counts = hobbyist_by_age.loc[\"Yes\"].to_numpy()\n",
    "n = hobbyist_by_age.sum().to_numpy()\n",
    "proportions_ztest(count=success_counts,nobs = n,alternative=\"two-sided\")"
   ],
   "metadata": {
    "collapsed": false,
    "pycharm": {
     "name": "#%%\n"
    }
   }
  },
  {
   "metadata": {
    "pycharm": {
     "name": "#%% md\n"
    }
   },
   "outputs": [],
   "source": [
    "### 3. Independence of variables\n",
    "\n",
    "That proportion test had a positive result. The small p-value suggested that there was evidence that the hobbyist and age category variables had an association. If the proportion of hobbyists was the same for each age category, the variables would be considered statistically independent. More formally, two categorical variables are consider statistically independent when the proportion of successes in the response variable is the same across all categories of the explanatory variable."
   ],
   "execution_count": null,
   "cell_type": "markdown"
  },
  {
   "metadata": {
    "pycharm": {
     "name": "#%% md\n"
    }
   },
   "outputs": [],
   "source": [
    "### 4. Test for independence of variables\n",
    "\n",
    "The pinguoin package has an indirect way of testing the difference in the proportions from the previous video. To the chi2_independence method, we pass stack_overflow as data, hobbyist as x, and age_cat as y. The correction argument specifies whether or not to apply Yates' continuity correction, which is a fudge factor for when the sample size is very small and the degrees of freedom is one. Since each group has over one hundred observations, we don't need it here. The method returns three different pandas DataFrames: the expected counts, the observed counts, and statistics related to the test. Let's look at stats and focus on the pearson test row and the chi2 and pval columns. The p-value is the same as we had with the z-test of around two in one hundred thousand. The chi2 value is the squared result of our z-score seen in the previous video."
   ],
   "execution_count": null,
   "cell_type": "markdown"
  },
  {
   "cell_type": "code",
   "execution_count": 102,
   "outputs": [
    {
     "data": {
      "text/plain": "                 test    lambda       chi2  dof      pval    cramer     power\n0             pearson  1.000000  17.839570  1.0  0.000024  0.088826  0.988205\n1        cressie-read  0.666667  17.818114  1.0  0.000024  0.088773  0.988126\n2      log-likelihood  0.000000  17.802653  1.0  0.000025  0.088734  0.988069\n3       freeman-tukey -0.500000  17.815060  1.0  0.000024  0.088765  0.988115\n4  mod-log-likelihood -1.000000  17.848099  1.0  0.000024  0.088848  0.988236\n5              neyman -2.000000  17.976656  1.0  0.000022  0.089167  0.988694",
      "text/html": "<div>\n<style scoped>\n    .dataframe tbody tr th:only-of-type {\n        vertical-align: middle;\n    }\n\n    .dataframe tbody tr th {\n        vertical-align: top;\n    }\n\n    .dataframe thead th {\n        text-align: right;\n    }\n</style>\n<table border=\"1\" class=\"dataframe\">\n  <thead>\n    <tr style=\"text-align: right;\">\n      <th></th>\n      <th>test</th>\n      <th>lambda</th>\n      <th>chi2</th>\n      <th>dof</th>\n      <th>pval</th>\n      <th>cramer</th>\n      <th>power</th>\n    </tr>\n  </thead>\n  <tbody>\n    <tr>\n      <th>0</th>\n      <td>pearson</td>\n      <td>1.000000</td>\n      <td>17.839570</td>\n      <td>1.0</td>\n      <td>0.000024</td>\n      <td>0.088826</td>\n      <td>0.988205</td>\n    </tr>\n    <tr>\n      <th>1</th>\n      <td>cressie-read</td>\n      <td>0.666667</td>\n      <td>17.818114</td>\n      <td>1.0</td>\n      <td>0.000024</td>\n      <td>0.088773</td>\n      <td>0.988126</td>\n    </tr>\n    <tr>\n      <th>2</th>\n      <td>log-likelihood</td>\n      <td>0.000000</td>\n      <td>17.802653</td>\n      <td>1.0</td>\n      <td>0.000025</td>\n      <td>0.088734</td>\n      <td>0.988069</td>\n    </tr>\n    <tr>\n      <th>3</th>\n      <td>freeman-tukey</td>\n      <td>-0.500000</td>\n      <td>17.815060</td>\n      <td>1.0</td>\n      <td>0.000024</td>\n      <td>0.088765</td>\n      <td>0.988115</td>\n    </tr>\n    <tr>\n      <th>4</th>\n      <td>mod-log-likelihood</td>\n      <td>-1.000000</td>\n      <td>17.848099</td>\n      <td>1.0</td>\n      <td>0.000024</td>\n      <td>0.088848</td>\n      <td>0.988236</td>\n    </tr>\n    <tr>\n      <th>5</th>\n      <td>neyman</td>\n      <td>-2.000000</td>\n      <td>17.976656</td>\n      <td>1.0</td>\n      <td>0.000022</td>\n      <td>0.089167</td>\n      <td>0.988694</td>\n    </tr>\n  </tbody>\n</table>\n</div>"
     },
     "execution_count": 102,
     "metadata": {},
     "output_type": "execute_result"
    }
   ],
   "source": [
    "expected , observed ,stats = pingouin.chi2_independence(data=stack_overflow,\n",
    "                                                        x=\"hobbyist\",y=\"age_cat\",correction=False)\n",
    "stats"
   ],
   "metadata": {
    "collapsed": false,
    "pycharm": {
     "name": "#%%\n"
    }
   }
  },
  {
   "metadata": {
    "pycharm": {
     "name": "#%% md\n"
    }
   },
   "outputs": [],
   "source": [
    "### 5. Job satisfaction and age category\n",
    "\n",
    "Let's try another example. Recall that the Stack Overflow sample has an age category variable with two categories and a job satisfaction variable with five categories."
   ],
   "execution_count": null,
   "cell_type": "markdown"
  },
  {
   "cell_type": "code",
   "execution_count": 103,
   "outputs": [
    {
     "data": {
      "text/plain": "Under 30       1211\nAt least 30    1050\nName: age_cat, dtype: int64"
     },
     "execution_count": 103,
     "metadata": {},
     "output_type": "execute_result"
    }
   ],
   "source": [
    "stack_overflow[\"age_cat\"].value_counts()"
   ],
   "metadata": {
    "collapsed": false,
    "pycharm": {
     "name": "#%%\n"
    }
   }
  },
  {
   "cell_type": "code",
   "execution_count": 104,
   "outputs": [
    {
     "data": {
      "text/plain": "Very satisfied           879\nSlightly satisfied       680\nSlightly dissatisfied    342\nNeither                  201\nVery dissatisfied        159\nName: job_sat, dtype: int64"
     },
     "execution_count": 104,
     "metadata": {},
     "output_type": "execute_result"
    }
   ],
   "source": [
    "stack_overflow[\"job_sat\"].value_counts()"
   ],
   "metadata": {
    "collapsed": false,
    "pycharm": {
     "name": "#%%\n"
    }
   }
  },
  {
   "metadata": {
    "pycharm": {
     "name": "#%% md\n"
    }
   },
   "outputs": [],
   "source": [
    "### 6. Declaring the hypotheses\n",
    "\n",
    "We can declare hypotheses to test for independence of these variables. Here, age category is the response variable, and job satisfaction is the explanatory variable. The null hypothesis is that independence occurs. Let's use a significance level of point-one. The test statistic is denoted chi-square. It quantifies how far away the observed results are from the expected values if independence was true."
   ],
   "execution_count": null,
   "cell_type": "markdown"
  },
  {
   "metadata": {
    "pycharm": {
     "name": "#%% md\n"
    }
   },
   "outputs": [],
   "source": [
    "### 7. Exploratory visualization: proportional stacked bar plot\n",
    "\n",
    "Let's explore the data using a proportional stacked bar plot. We begin by calculating the proportions in each age group. Next, we use the unstack method to convert this table into wide format. Using the plot method and setting kind to bar and stacked to True produces a proportional stacked bar plot.\n",
    "\n",
    "$$H_0 : \\mbox{Age categories are independent of job levels}$$\n",
    "$$H_0 : \\mbox{Age categories are not independent of job levels}$$"
   ],
   "execution_count": null,
   "cell_type": "markdown"
  },
  {
   "cell_type": "code",
   "execution_count": 105,
   "outputs": [],
   "source": [
    "alpha = 0.1"
   ],
   "metadata": {
    "collapsed": false,
    "pycharm": {
     "name": "#%%\n"
    }
   }
  },
  {
   "metadata": {
    "pycharm": {
     "name": "#%% md\n"
    }
   },
   "outputs": [],
   "source": [
    "### 8. Exploratory visualization: proportional stacked bar plot\n",
    "\n",
    "If the age category was independent of job satisfaction, the split between the age categories would be at the same height in each of the five bars. There's some variation here, but we'll need a chi-square independence test to determine whether it's a significant difference."
   ],
   "execution_count": null,
   "cell_type": "markdown"
  },
  {
   "cell_type": "code",
   "execution_count": 106,
   "outputs": [
    {
     "data": {
      "text/plain": "age_cat                At least 30  Under 30\njob_sat                                     \nVery dissatisfied         0.490566  0.509434\nSlightly dissatisfied     0.467836  0.532164\nNeither                   0.432836  0.567164\nSlightly satisfied        0.435294  0.564706\nVery satisfied            0.488055  0.511945",
      "text/html": "<div>\n<style scoped>\n    .dataframe tbody tr th:only-of-type {\n        vertical-align: middle;\n    }\n\n    .dataframe tbody tr th {\n        vertical-align: top;\n    }\n\n    .dataframe thead th {\n        text-align: right;\n    }\n</style>\n<table border=\"1\" class=\"dataframe\">\n  <thead>\n    <tr style=\"text-align: right;\">\n      <th>age_cat</th>\n      <th>At least 30</th>\n      <th>Under 30</th>\n    </tr>\n    <tr>\n      <th>job_sat</th>\n      <th></th>\n      <th></th>\n    </tr>\n  </thead>\n  <tbody>\n    <tr>\n      <th>Very dissatisfied</th>\n      <td>0.490566</td>\n      <td>0.509434</td>\n    </tr>\n    <tr>\n      <th>Slightly dissatisfied</th>\n      <td>0.467836</td>\n      <td>0.532164</td>\n    </tr>\n    <tr>\n      <th>Neither</th>\n      <td>0.432836</td>\n      <td>0.567164</td>\n    </tr>\n    <tr>\n      <th>Slightly satisfied</th>\n      <td>0.435294</td>\n      <td>0.564706</td>\n    </tr>\n    <tr>\n      <th>Very satisfied</th>\n      <td>0.488055</td>\n      <td>0.511945</td>\n    </tr>\n  </tbody>\n</table>\n</div>"
     },
     "execution_count": 106,
     "metadata": {},
     "output_type": "execute_result"
    }
   ],
   "source": [
    "props = stack_overflow.groupby(\"job_sat\")[\"age_cat\"].value_counts(normalize=True)\n",
    "wide_props = props.unstack()\n",
    "wide_props"
   ],
   "metadata": {
    "collapsed": false,
    "pycharm": {
     "name": "#%%\n"
    }
   }
  },
  {
   "cell_type": "code",
   "execution_count": 107,
   "outputs": [
    {
     "data": {
      "text/plain": "<Figure size 432x288 with 1 Axes>",
      "image/png": "[encoded data removed]"
     },
     "metadata": {},
     "output_type": "display_data"
    }
   ],
   "source": [
    "wide_props.plot(kind=\"bar\",stacked=True)\n",
    "plt.legend(bbox_to_anchor = (1.05,1))\n",
    "plt.show()"
   ],
   "metadata": {
    "collapsed": false,
    "pycharm": {
     "name": "#%%\n"
    }
   }
  },
  {
   "metadata": {
    "pycharm": {
     "name": "#%% md\n"
    }
   },
   "outputs": [],
   "source": [
    "### 9. Chi-square independence test\n",
    "\n",
    "Let's again use the chi-square independence test from pingouin. We have stack_overflow as the data and job_sat and age_cat as x and y. We leave out a correction here since our degrees of freedom is four, calculated by subtracting one from each of the variable categories and multiplying. The p-value is point-two-three, which is above the significance level we set, so we conclude that age categories are independent of job satisfaction."
   ],
   "execution_count": null,
   "cell_type": "markdown"
  },
  {
   "cell_type": "code",
   "execution_count": 108,
   "outputs": [
    {
     "data": {
      "text/plain": "                 test    lambda      chi2  dof      pval    cramer     power\n0             pearson  1.000000  5.552373  4.0  0.235164  0.049555  0.437417\n1        cressie-read  0.666667  5.554106  4.0  0.235014  0.049563  0.437545\n2      log-likelihood  0.000000  5.558529  4.0  0.234632  0.049583  0.437871\n3       freeman-tukey -0.500000  5.562688  4.0  0.234274  0.049601  0.438178\n4  mod-log-likelihood -1.000000  5.567570  4.0  0.233854  0.049623  0.438538\n5              neyman -2.000000  5.579519  4.0  0.232828  0.049676  0.439419",
      "text/html": "<div>\n<style scoped>\n    .dataframe tbody tr th:only-of-type {\n        vertical-align: middle;\n    }\n\n    .dataframe tbody tr th {\n        vertical-align: top;\n    }\n\n    .dataframe thead th {\n        text-align: right;\n    }\n</style>\n<table border=\"1\" class=\"dataframe\">\n  <thead>\n    <tr style=\"text-align: right;\">\n      <th></th>\n      <th>test</th>\n      <th>lambda</th>\n      <th>chi2</th>\n      <th>dof</th>\n      <th>pval</th>\n      <th>cramer</th>\n      <th>power</th>\n    </tr>\n  </thead>\n  <tbody>\n    <tr>\n      <th>0</th>\n      <td>pearson</td>\n      <td>1.000000</td>\n      <td>5.552373</td>\n      <td>4.0</td>\n      <td>0.235164</td>\n      <td>0.049555</td>\n      <td>0.437417</td>\n    </tr>\n    <tr>\n      <th>1</th>\n      <td>cressie-read</td>\n      <td>0.666667</td>\n      <td>5.554106</td>\n      <td>4.0</td>\n      <td>0.235014</td>\n      <td>0.049563</td>\n      <td>0.437545</td>\n    </tr>\n    <tr>\n      <th>2</th>\n      <td>log-likelihood</td>\n      <td>0.000000</td>\n      <td>5.558529</td>\n      <td>4.0</td>\n      <td>0.234632</td>\n      <td>0.049583</td>\n      <td>0.437871</td>\n    </tr>\n    <tr>\n      <th>3</th>\n      <td>freeman-tukey</td>\n      <td>-0.500000</td>\n      <td>5.562688</td>\n      <td>4.0</td>\n      <td>0.234274</td>\n      <td>0.049601</td>\n      <td>0.438178</td>\n    </tr>\n    <tr>\n      <th>4</th>\n      <td>mod-log-likelihood</td>\n      <td>-1.000000</td>\n      <td>5.567570</td>\n      <td>4.0</td>\n      <td>0.233854</td>\n      <td>0.049623</td>\n      <td>0.438538</td>\n    </tr>\n    <tr>\n      <th>5</th>\n      <td>neyman</td>\n      <td>-2.000000</td>\n      <td>5.579519</td>\n      <td>4.0</td>\n      <td>0.232828</td>\n      <td>0.049676</td>\n      <td>0.439419</td>\n    </tr>\n  </tbody>\n</table>\n</div>"
     },
     "execution_count": 108,
     "metadata": {},
     "output_type": "execute_result"
    }
   ],
   "source": [
    "expected , observed ,stats = pingouin.chi2_independence(data=stack_overflow,x=\"job_sat\",y=\"age_cat\")\n",
    "stats"
   ],
   "metadata": {
    "collapsed": false,
    "pycharm": {
     "name": "#%%\n"
    }
   }
  },
  {
   "metadata": {
    "pycharm": {
     "name": "#%% md\n"
    }
   },
   "outputs": [],
   "source": [
    "### 10. Swapping the variables?\n",
    "\n",
    "Swapping the variables, so age category is the response and job satisfaction is the explanatory variable,"
   ],
   "execution_count": null,
   "cell_type": "markdown"
  },
  {
   "cell_type": "code",
   "execution_count": 109,
   "outputs": [
    {
     "data": {
      "text/plain": "<Figure size 432x288 with 1 Axes>",
      "image/png": "[encoded data removed]"
     },
     "metadata": {},
     "output_type": "display_data"
    }
   ],
   "source": [
    "props = stack_overflow.groupby(\"age_cat\")[\"job_sat\"].value_counts(normalize=True)\n",
    "wide_props = props.unstack()\n",
    "wide_props.plot(kind=\"bar\",stacked=True)\n",
    "plt.legend(bbox_to_anchor = (1.05,1))\n",
    "plt.show()"
   ],
   "metadata": {
    "collapsed": false,
    "pycharm": {
     "name": "#%%\n"
    }
   }
  },
  {
   "metadata": {
    "pycharm": {
     "name": "#%% md\n"
    }
   },
   "outputs": [],
   "source": [
    "### 11. Swapping the variables?\n",
    "\n",
    "we see that the splits for each bar are in similar places."
   ],
   "execution_count": null,
   "cell_type": "markdown"
  },
  {
   "metadata": {
    "pycharm": {
     "name": "#%% md\n"
    }
   },
   "outputs": [],
   "source": [
    "### 12. chi-square both ways\n",
    "\n",
    "If we run the chi-square test with the variables swapped, then the results are identical. Because of this, we phrase our questions as \"are variables X and Y independent?\", rather than \"is variable X independent from variable Y?\", since the order doesn't matter."
   ],
   "execution_count": null,
   "cell_type": "markdown"
  },
  {
   "cell_type": "code",
   "execution_count": 110,
   "outputs": [
    {
     "data": {
      "text/plain": "                 test    lambda      chi2  dof      pval    cramer     power\n0             pearson  1.000000  5.552373  4.0  0.235164  0.049555  0.437417\n1        cressie-read  0.666667  5.554106  4.0  0.235014  0.049563  0.437545\n2      log-likelihood  0.000000  5.558529  4.0  0.234632  0.049583  0.437871\n3       freeman-tukey -0.500000  5.562688  4.0  0.234274  0.049601  0.438178\n4  mod-log-likelihood -1.000000  5.567570  4.0  0.233854  0.049623  0.438538\n5              neyman -2.000000  5.579519  4.0  0.232828  0.049676  0.439419",
      "text/html": "<div>\n<style scoped>\n    .dataframe tbody tr th:only-of-type {\n        vertical-align: middle;\n    }\n\n    .dataframe tbody tr th {\n        vertical-align: top;\n    }\n\n    .dataframe thead th {\n        text-align: right;\n    }\n</style>\n<table border=\"1\" class=\"dataframe\">\n  <thead>\n    <tr style=\"text-align: right;\">\n      <th></th>\n      <th>test</th>\n      <th>lambda</th>\n      <th>chi2</th>\n      <th>dof</th>\n      <th>pval</th>\n      <th>cramer</th>\n      <th>power</th>\n    </tr>\n  </thead>\n  <tbody>\n    <tr>\n      <th>0</th>\n      <td>pearson</td>\n      <td>1.000000</td>\n      <td>5.552373</td>\n      <td>4.0</td>\n      <td>0.235164</td>\n      <td>0.049555</td>\n      <td>0.437417</td>\n    </tr>\n    <tr>\n      <th>1</th>\n      <td>cressie-read</td>\n      <td>0.666667</td>\n      <td>5.554106</td>\n      <td>4.0</td>\n      <td>0.235014</td>\n      <td>0.049563</td>\n      <td>0.437545</td>\n    </tr>\n    <tr>\n      <th>2</th>\n      <td>log-likelihood</td>\n      <td>0.000000</td>\n      <td>5.558529</td>\n      <td>4.0</td>\n      <td>0.234632</td>\n      <td>0.049583</td>\n      <td>0.437871</td>\n    </tr>\n    <tr>\n      <th>3</th>\n      <td>freeman-tukey</td>\n      <td>-0.500000</td>\n      <td>5.562688</td>\n      <td>4.0</td>\n      <td>0.234274</td>\n      <td>0.049601</td>\n      <td>0.438178</td>\n    </tr>\n    <tr>\n      <th>4</th>\n      <td>mod-log-likelihood</td>\n      <td>-1.000000</td>\n      <td>5.567570</td>\n      <td>4.0</td>\n      <td>0.233854</td>\n      <td>0.049623</td>\n      <td>0.438538</td>\n    </tr>\n    <tr>\n      <th>5</th>\n      <td>neyman</td>\n      <td>-2.000000</td>\n      <td>5.579519</td>\n      <td>4.0</td>\n      <td>0.232828</td>\n      <td>0.049676</td>\n      <td>0.439419</td>\n    </tr>\n  </tbody>\n</table>\n</div>"
     },
     "execution_count": 110,
     "metadata": {},
     "output_type": "execute_result"
    }
   ],
   "source": [
    "expected , observed ,stats = pingouin.chi2_independence(data=stack_overflow,y=\"job_sat\",x=\"age_cat\")\n",
    "stats"
   ],
   "metadata": {
    "collapsed": false,
    "pycharm": {
     "name": "#%%\n"
    }
   }
  },
  {
   "cell_type": "code",
   "execution_count": 111,
   "outputs": [
    {
     "data": {
      "text/plain": "job_sat      Very dissatisfied  Slightly dissatisfied     Neither  \\\nage_cat                                                             \nAt least 30          73.839009             158.823529   93.343653   \nUnder 30             85.160991             183.176471  107.656347   \n\njob_sat      Slightly satisfied  Very satisfied  \nage_cat                                          \nAt least 30          315.789474      408.204334  \nUnder 30             364.210526      470.795666  ",
      "text/html": "<div>\n<style scoped>\n    .dataframe tbody tr th:only-of-type {\n        vertical-align: middle;\n    }\n\n    .dataframe tbody tr th {\n        vertical-align: top;\n    }\n\n    .dataframe thead th {\n        text-align: right;\n    }\n</style>\n<table border=\"1\" class=\"dataframe\">\n  <thead>\n    <tr style=\"text-align: right;\">\n      <th>job_sat</th>\n      <th>Very dissatisfied</th>\n      <th>Slightly dissatisfied</th>\n      <th>Neither</th>\n      <th>Slightly satisfied</th>\n      <th>Very satisfied</th>\n    </tr>\n    <tr>\n      <th>age_cat</th>\n      <th></th>\n      <th></th>\n      <th></th>\n      <th></th>\n      <th></th>\n    </tr>\n  </thead>\n  <tbody>\n    <tr>\n      <th>At least 30</th>\n      <td>73.839009</td>\n      <td>158.823529</td>\n      <td>93.343653</td>\n      <td>315.789474</td>\n      <td>408.204334</td>\n    </tr>\n    <tr>\n      <th>Under 30</th>\n      <td>85.160991</td>\n      <td>183.176471</td>\n      <td>107.656347</td>\n      <td>364.210526</td>\n      <td>470.795666</td>\n    </tr>\n  </tbody>\n</table>\n</div>"
     },
     "execution_count": 111,
     "metadata": {},
     "output_type": "execute_result"
    }
   ],
   "source": [
    "expected"
   ],
   "metadata": {
    "collapsed": false,
    "pycharm": {
     "name": "#%%\n"
    }
   }
  },
  {
   "cell_type": "code",
   "execution_count": 112,
   "outputs": [
    {
     "data": {
      "text/plain": "job_sat      Very dissatisfied  Slightly dissatisfied  Neither  \\\nage_cat                                                          \nAt least 30                 78                    160       87   \nUnder 30                    81                    182      114   \n\njob_sat      Slightly satisfied  Very satisfied  \nage_cat                                          \nAt least 30                 296             429  \nUnder 30                    384             450  ",
      "text/html": "<div>\n<style scoped>\n    .dataframe tbody tr th:only-of-type {\n        vertical-align: middle;\n    }\n\n    .dataframe tbody tr th {\n        vertical-align: top;\n    }\n\n    .dataframe thead th {\n        text-align: right;\n    }\n</style>\n<table border=\"1\" class=\"dataframe\">\n  <thead>\n    <tr style=\"text-align: right;\">\n      <th>job_sat</th>\n      <th>Very dissatisfied</th>\n      <th>Slightly dissatisfied</th>\n      <th>Neither</th>\n      <th>Slightly satisfied</th>\n      <th>Very satisfied</th>\n    </tr>\n    <tr>\n      <th>age_cat</th>\n      <th></th>\n      <th></th>\n      <th></th>\n      <th></th>\n      <th></th>\n    </tr>\n  </thead>\n  <tbody>\n    <tr>\n      <th>At least 30</th>\n      <td>78</td>\n      <td>160</td>\n      <td>87</td>\n      <td>296</td>\n      <td>429</td>\n    </tr>\n    <tr>\n      <th>Under 30</th>\n      <td>81</td>\n      <td>182</td>\n      <td>114</td>\n      <td>384</td>\n      <td>450</td>\n    </tr>\n  </tbody>\n</table>\n</div>"
     },
     "execution_count": 112,
     "metadata": {},
     "output_type": "execute_result"
    }
   ],
   "source": [
    "observed"
   ],
   "metadata": {
    "collapsed": false,
    "pycharm": {
     "name": "#%%\n"
    }
   }
  },
  {
   "metadata": {
    "pycharm": {
     "name": "#%% md\n"
    }
   },
   "outputs": [],
   "source": [
    "### 13. What about direction and tails?\n",
    "\n",
    "We didn't worry about tails in this test, and in fact, the chi2_independence method doesn't have an alternative argument. This is because the chi-square test statistic is based on the square of observed and expected counts, and square numbers are non-negative. That means that chi-square tests tend to be right-tailed tests."
   ],
   "execution_count": null,
   "cell_type": "markdown"
  },
  {
   "metadata": {
    "pycharm": {
     "name": "#%% md\n"
    }
   },
   "outputs": [],
   "source": [
    "### 14. Let's practice!\n",
    "\n",
    "Time for some practice!"
   ],
   "execution_count": null,
   "cell_type": "markdown"
  },
  {
   "metadata": {
    "pycharm": {
     "name": "#%% md\n"
    }
   },
   "outputs": [],
   "source": [
    "## Chi-square test of independence\n",
    "\n",
    "<p>The <em>chi-square independence test</em> compares proportions of successes of one categorical variable across the categories of another categorical variable.</p>\n",
    "<p>Trade deals often use a form of business shorthand in order to specify the exact details of their contract. These are International Chamber of Commerce (ICC) international commercial terms, or <em>incoterms</em> for short.</p>\n",
    "<p>The <code>late_shipments</code> dataset includes a <code>vendor_inco_term</code> that describes the incoterms that applied to a given shipment. The choices are:</p>\n",
    "<ul>\n",
    "<li><a href=\"https://www.investopedia.com/terms/e/exw.asp\" target=\"_blank\" rel=\"noopener noreferrer\"><code>EXW</code></a>: \"Ex works\". The buyer pays for transportation of the goods.</li>\n",
    "<li><a href=\"https://www.investopedia.com/terms/c/carriage-and-insurance-paid-cip.asp\" target=\"_blank\" rel=\"noopener noreferrer\"><code>CIP</code></a>: \"Carriage and insurance paid to\". The seller pays for freight and insurance until the goods board a ship.</li>\n",
    "<li><a href=\"https://www.investopedia.com/terms/d/delivery-duty-paid.asp\" target=\"_blank\" rel=\"noopener noreferrer\"><code>DDP</code></a>: \"Delivered duty paid\". The seller pays for transportation of the goods until they reach a destination port.</li>\n",
    "<li><a href=\"https://www.investopedia.com/terms/f/fca.asp\" target=\"_blank\" rel=\"noopener noreferrer\"><code>FCA</code></a>: \"Free carrier\". The seller pays for transportation of the goods.</li>\n",
    "</ul>\n",
    "<p>Perhaps the incoterms affect whether or not the freight costs are expensive. Test these hypotheses with a significance level of <code>0.01</code>.</p>\n",
    "<p><mjx-container class=\"MathJax CtxtMenu_Attached_0\" jax=\"CHTML\" role=\"presentation\" tabindex=\"0\" ctxtmenu_counter=\"2\" style=\"font-size: 116.7%; position: relative;\"><mjx-math class=\"MJX-TEX\" aria-hidden=\"true\"><mjx-msub><mjx-mi class=\"mjx-i\" noic=\"true\"><mjx-c class=\"mjx-c1D43B TEX-I\"></mjx-c></mjx-mi><mjx-script style=\"vertical-align: -0.15em;\"><mjx-texatom size=\"s\" texclass=\"ORD\"><mjx-mn class=\"mjx-n\"><mjx-c class=\"mjx-c30\"></mjx-c></mjx-mn></mjx-texatom></mjx-script></mjx-msub></mjx-math><mjx-assistive-mml role=\"presentation\" unselectable=\"on\" display=\"inline\"><math xmlns=\"http://www.w3.org/1998/Math/MathML\"><msub><mi>H</mi><mrow><mn>0</mn></mrow></msub></math></mjx-assistive-mml></mjx-container>: <code>vendor_inco_term</code> and <code>freight_cost_group</code> are independent.</p>\n",
    "<p><mjx-container class=\"MathJax CtxtMenu_Attached_0\" jax=\"CHTML\" role=\"presentation\" tabindex=\"0\" ctxtmenu_counter=\"3\" style=\"font-size: 116.7%; position: relative;\"><mjx-math class=\"MJX-TEX\" aria-hidden=\"true\"><mjx-msub><mjx-mi class=\"mjx-i\" noic=\"true\"><mjx-c class=\"mjx-c1D43B TEX-I\"></mjx-c></mjx-mi><mjx-script style=\"vertical-align: -0.153em;\"><mjx-texatom size=\"s\" texclass=\"ORD\"><mjx-mi class=\"mjx-i\"><mjx-c class=\"mjx-c1D434 TEX-I\"></mjx-c></mjx-mi></mjx-texatom></mjx-script></mjx-msub></mjx-math><mjx-assistive-mml role=\"presentation\" unselectable=\"on\" display=\"inline\"><math xmlns=\"http://www.w3.org/1998/Math/MathML\"><msub><mi>H</mi><mrow><mi>A</mi></mrow></msub></math></mjx-assistive-mml></mjx-container>: <code>vendor_inco_term</code> and <code>freight_cost_group</code> are associated.</p>\n",
    "<p><code>late_shipments</code> is available, and the following have been loaded: <code>matplotlib.pyplot</code> as <code>plt</code>, <code>pandas</code> as <code>pd</code>, and <code>pingouin</code>.</p>"
   ],
   "execution_count": null,
   "cell_type": "markdown"
  },
  {
   "metadata": {
    "pycharm": {
     "name": "#%% md\n"
    }
   },
   "outputs": [],
   "source": [
    "Calculate the proportion of <code>freight_cost_group</code> in <code>late_shipments</code> grouped by <code>vendor_inco_term</code>."
   ],
   "execution_count": null,
   "cell_type": "markdown"
  },
  {
   "cell_type": "code",
   "execution_count": 113,
   "outputs": [
    {
     "data": {
      "text/plain": "(999, 29)"
     },
     "execution_count": 113,
     "metadata": {},
     "output_type": "execute_result"
    }
   ],
   "source": [
    "late_shipments = pd.read_csv(\"data/late_shipments.csv\")\n",
    "late_shipments.shape\n"
   ],
   "metadata": {
    "collapsed": false,
    "pycharm": {
     "name": "#%%\n"
    }
   }
  },
  {
   "cell_type": "code",
   "execution_count": 114,
   "outputs": [
    {
     "data": {
      "text/plain": "<Figure size 432x288 with 1 Axes>",
      "image/png": "[encoded data removed]"
     },
     "metadata": {},
     "output_type": "display_data"
    }
   ],
   "source": [
    "props = late_shipments.groupby(\"vendor_inco_term\")[\"freight_cost_groups\"].value_counts(normalize=True)\n",
    "wide_props = props.unstack()\n",
    "wide_props.plot(kind=\"bar\",stacked=True)\n",
    "plt.legend(bbox_to_anchor= (1.05,1))\n",
    "plt.show()"
   ],
   "metadata": {
    "collapsed": false,
    "pycharm": {
     "name": "#%%\n"
    }
   }
  },
  {
   "cell_type": "code",
   "execution_count": 115,
   "outputs": [
    {
     "data": {
      "text/plain": "                 test    lambda       chi2  dof          pval    cramer  \\\n0             pearson  1.000000  28.940828  3.0  2.304468e-06  0.170205   \n1        cressie-read  0.666667  28.898219  3.0  2.352466e-06  0.170080   \n2      log-likelihood  0.000000  29.016955  3.0  2.221133e-06  0.170429   \n3       freeman-tukey -0.500000  29.289337  3.0  1.946837e-06  0.171227   \n4  mod-log-likelihood -1.000000  29.726470  3.0  1.575527e-06  0.172500   \n5              neyman -2.000000  31.138154  3.0  7.949731e-07  0.176548   \n\n      power  \n0  0.997750  \n1  0.997723  \n2  0.997798  \n3  0.997962  \n4  0.998201  \n5  0.998801  ",
      "text/html": "<div>\n<style scoped>\n    .dataframe tbody tr th:only-of-type {\n        vertical-align: middle;\n    }\n\n    .dataframe tbody tr th {\n        vertical-align: top;\n    }\n\n    .dataframe thead th {\n        text-align: right;\n    }\n</style>\n<table border=\"1\" class=\"dataframe\">\n  <thead>\n    <tr style=\"text-align: right;\">\n      <th></th>\n      <th>test</th>\n      <th>lambda</th>\n      <th>chi2</th>\n      <th>dof</th>\n      <th>pval</th>\n      <th>cramer</th>\n      <th>power</th>\n    </tr>\n  </thead>\n  <tbody>\n    <tr>\n      <th>0</th>\n      <td>pearson</td>\n      <td>1.000000</td>\n      <td>28.940828</td>\n      <td>3.0</td>\n      <td>2.304468e-06</td>\n      <td>0.170205</td>\n      <td>0.997750</td>\n    </tr>\n    <tr>\n      <th>1</th>\n      <td>cressie-read</td>\n      <td>0.666667</td>\n      <td>28.898219</td>\n      <td>3.0</td>\n      <td>2.352466e-06</td>\n      <td>0.170080</td>\n      <td>0.997723</td>\n    </tr>\n    <tr>\n      <th>2</th>\n      <td>log-likelihood</td>\n      <td>0.000000</td>\n      <td>29.016955</td>\n      <td>3.0</td>\n      <td>2.221133e-06</td>\n      <td>0.170429</td>\n      <td>0.997798</td>\n    </tr>\n    <tr>\n      <th>3</th>\n      <td>freeman-tukey</td>\n      <td>-0.500000</td>\n      <td>29.289337</td>\n      <td>3.0</td>\n      <td>1.946837e-06</td>\n      <td>0.171227</td>\n      <td>0.997962</td>\n    </tr>\n    <tr>\n      <th>4</th>\n      <td>mod-log-likelihood</td>\n      <td>-1.000000</td>\n      <td>29.726470</td>\n      <td>3.0</td>\n      <td>1.575527e-06</td>\n      <td>0.172500</td>\n      <td>0.998201</td>\n    </tr>\n    <tr>\n      <th>5</th>\n      <td>neyman</td>\n      <td>-2.000000</td>\n      <td>31.138154</td>\n      <td>3.0</td>\n      <td>7.949731e-07</td>\n      <td>0.176548</td>\n      <td>0.998801</td>\n    </tr>\n  </tbody>\n</table>\n</div>"
     },
     "execution_count": 115,
     "metadata": {},
     "output_type": "execute_result"
    }
   ],
   "source": [
    "expected ,observed ,stats = pingouin.chi2_independence(data=late_shipments,x=\"freight_cost_group\",y=\"vendor_inco_term\")\n",
    "stats"
   ],
   "metadata": {
    "collapsed": false,
    "pycharm": {
     "name": "#%%\n"
    }
   }
  },
  {
   "cell_type": "markdown",
   "source": [
    "\n",
    "Reject the null hypothesis and conclude that vendor_inco_term and freight_cost_group are associated."
   ],
   "metadata": {
    "collapsed": false,
    "pycharm": {
     "name": "#%% md\n"
    }
   }
  },
  {
   "metadata": {
    "pycharm": {
     "name": "#%% md\n"
    }
   },
   "outputs": [],
   "source": [
    "## Does this dress make my fit look good?"
   ],
   "execution_count": null,
   "cell_type": "markdown"
  },
  {
   "metadata": {
    "pycharm": {
     "name": "#%% md\n"
    }
   },
   "outputs": [],
   "source": [
    "### 1. Does this dress make my fit look good?\n",
    "\n",
    "Last time, we used a chi-square test to compare proportions in two categorical variables. This time, we'll use another variant of the chi-square test to compare a single categorical variable to a hypothesized distribution."
   ],
   "execution_count": null,
   "cell_type": "markdown"
  },
  {
   "metadata": {
    "pycharm": {
     "name": "#%% md\n"
    }
   },
   "outputs": [],
   "source": [
    "### 2. Purple links\n",
    "\n",
    "The Stack Overflow survey contains a fun question about how users feel when they discover that they already visited the top resource when trying to solve a coding problem. We can use the dot-value-counts method to get the counts of each group in the purple_link column. We also do a little bit of renaming here to get a DataFrame we can work with later. First, we rename the leftmost column to be purple_link and then assign the counts to n. There are four possible answers, stored in the purple_link variable."
   ],
   "execution_count": null,
   "cell_type": "markdown"
  },
  {
   "cell_type": "code",
   "execution_count": 116,
   "outputs": [
    {
     "data": {
      "text/plain": "         purple_link     n\n0  Hello, old friend  1225\n1        Indifferent   405\n2             Amused   368\n3            Annoyed   263",
      "text/html": "<div>\n<style scoped>\n    .dataframe tbody tr th:only-of-type {\n        vertical-align: middle;\n    }\n\n    .dataframe tbody tr th {\n        vertical-align: top;\n    }\n\n    .dataframe thead th {\n        text-align: right;\n    }\n</style>\n<table border=\"1\" class=\"dataframe\">\n  <thead>\n    <tr style=\"text-align: right;\">\n      <th></th>\n      <th>purple_link</th>\n      <th>n</th>\n    </tr>\n  </thead>\n  <tbody>\n    <tr>\n      <th>0</th>\n      <td>Hello, old friend</td>\n      <td>1225</td>\n    </tr>\n    <tr>\n      <th>1</th>\n      <td>Indifferent</td>\n      <td>405</td>\n    </tr>\n    <tr>\n      <th>2</th>\n      <td>Amused</td>\n      <td>368</td>\n    </tr>\n    <tr>\n      <th>3</th>\n      <td>Annoyed</td>\n      <td>263</td>\n    </tr>\n  </tbody>\n</table>\n</div>"
     },
     "execution_count": 116,
     "metadata": {},
     "output_type": "execute_result"
    }
   ],
   "source": [
    "purple_link_counts = stack_overflow[\"purple_link\"].value_counts()\n",
    "purple_link_counts = purple_link_counts.rename_axis(\"purple_link\").reset_index(name = \"n\")\n",
    "purple_link_counts"
   ],
   "metadata": {
    "collapsed": false,
    "pycharm": {
     "name": "#%%\n"
    }
   }
  },
  {
   "metadata": {
    "pycharm": {
     "name": "#%% md\n"
    }
   },
   "outputs": [],
   "source": [
    "### 3. Declaring the hypotheses\n",
    "\n",
    "Let's hypothesize that half the users in the population would respond \"Hello, old friend\", and the other three responses would get one sixth each. We can create a DataFrame for this using the dot-DataFrame method, passing in a dictionary with key-value pairs for each column. We specify the hypotheses as whether or not the sample matches this hypothesized distribution. The test statistic measures how far the observed sample distribution of proportions is from the hypothesized distribution of proportions. Let's set the significance level of point-zero-one.\n",
    "\n",
    "$$H_0 : \\mbox{The sample matches with the hypothesized distribution} $$\n",
    "$$H_A : \\mbox{The sample does not matches with the hypothesized distribution} $$\n"
   ],
   "execution_count": null,
   "cell_type": "markdown"
  },
  {
   "cell_type": "code",
   "execution_count": 117,
   "outputs": [
    {
     "data": {
      "text/plain": "         purple_link      prop\n0  Hello, old friend  0.500000\n1        Indifferent  0.166667\n2             Amused  0.166667\n3            Annoyed  0.166667",
      "text/html": "<div>\n<style scoped>\n    .dataframe tbody tr th:only-of-type {\n        vertical-align: middle;\n    }\n\n    .dataframe tbody tr th {\n        vertical-align: top;\n    }\n\n    .dataframe thead th {\n        text-align: right;\n    }\n</style>\n<table border=\"1\" class=\"dataframe\">\n  <thead>\n    <tr style=\"text-align: right;\">\n      <th></th>\n      <th>purple_link</th>\n      <th>prop</th>\n    </tr>\n  </thead>\n  <tbody>\n    <tr>\n      <th>0</th>\n      <td>Hello, old friend</td>\n      <td>0.500000</td>\n    </tr>\n    <tr>\n      <th>1</th>\n      <td>Indifferent</td>\n      <td>0.166667</td>\n    </tr>\n    <tr>\n      <th>2</th>\n      <td>Amused</td>\n      <td>0.166667</td>\n    </tr>\n    <tr>\n      <th>3</th>\n      <td>Annoyed</td>\n      <td>0.166667</td>\n    </tr>\n  </tbody>\n</table>\n</div>"
     },
     "execution_count": 117,
     "metadata": {},
     "output_type": "execute_result"
    }
   ],
   "source": [
    "hypothesized = pd.DataFrame({\"purple_link\":  purple_link_counts[\"purple_link\"].values,\n",
    "                             \"prop\" : [1/2,1/6,1/6,1/6]})\n",
    "hypothesized"
   ],
   "metadata": {
    "collapsed": false,
    "pycharm": {
     "name": "#%%\n"
    }
   }
  },
  {
   "cell_type": "code",
   "execution_count": 118,
   "outputs": [],
   "source": [
    "alpha = 0.01"
   ],
   "metadata": {
    "collapsed": false,
    "pycharm": {
     "name": "#%%\n"
    }
   }
  },
  {
   "metadata": {
    "pycharm": {
     "name": "#%% md\n"
    }
   },
   "outputs": [],
   "source": [
    "### 4. Hypothesized counts by category\n",
    "\n",
    "To visualize the distribution of the purple links, it will help to have the hypothesized counts. These are the hypothesized proportions times the total number of observations in the sample."
   ],
   "execution_count": null,
   "cell_type": "markdown"
  },
  {
   "cell_type": "code",
   "execution_count": 119,
   "outputs": [
    {
     "data": {
      "text/plain": "         purple_link      prop            n\n0  Hello, old friend  0.500000  1130.500000\n1        Indifferent  0.166667   376.833333\n2             Amused  0.166667   376.833333\n3            Annoyed  0.166667   376.833333",
      "text/html": "<div>\n<style scoped>\n    .dataframe tbody tr th:only-of-type {\n        vertical-align: middle;\n    }\n\n    .dataframe tbody tr th {\n        vertical-align: top;\n    }\n\n    .dataframe thead th {\n        text-align: right;\n    }\n</style>\n<table border=\"1\" class=\"dataframe\">\n  <thead>\n    <tr style=\"text-align: right;\">\n      <th></th>\n      <th>purple_link</th>\n      <th>prop</th>\n      <th>n</th>\n    </tr>\n  </thead>\n  <tbody>\n    <tr>\n      <th>0</th>\n      <td>Hello, old friend</td>\n      <td>0.500000</td>\n      <td>1130.500000</td>\n    </tr>\n    <tr>\n      <th>1</th>\n      <td>Indifferent</td>\n      <td>0.166667</td>\n      <td>376.833333</td>\n    </tr>\n    <tr>\n      <th>2</th>\n      <td>Amused</td>\n      <td>0.166667</td>\n      <td>376.833333</td>\n    </tr>\n    <tr>\n      <th>3</th>\n      <td>Annoyed</td>\n      <td>0.166667</td>\n      <td>376.833333</td>\n    </tr>\n  </tbody>\n</table>\n</div>"
     },
     "execution_count": 119,
     "metadata": {},
     "output_type": "execute_result"
    }
   ],
   "source": [
    "n_total = len(stack_overflow)\n",
    "hypothesized[\"n\"] = hypothesized[\"prop\"] * n_total\n",
    "hypothesized"
   ],
   "metadata": {
    "collapsed": false,
    "pycharm": {
     "name": "#%%\n"
    }
   }
  },
  {
   "metadata": {
    "pycharm": {
     "name": "#%% md\n"
    }
   },
   "outputs": [],
   "source": [
    "### 5. Visualizing counts\n",
    "\n",
    "The natural way to visualize the categories is with a bar plot. We use the dot-bar method, setting the horizontal axis to purple_link and the vertical to n from the purple_link_counts observed data. We set the color of the bars and add transparency by setting an alpha value. Next, we add points to show the hypothesized counts using dot-scatter, so we can compare the sample distribution to the hypothesized distribution."
   ],
   "execution_count": null,
   "cell_type": "markdown"
  },
  {
   "cell_type": "code",
   "execution_count": 120,
   "outputs": [
    {
     "data": {
      "text/plain": "<Figure size 432x288 with 1 Axes>",
      "image/png": "[encoded data removed]"
     },
     "metadata": {},
     "output_type": "display_data"
    }
   ],
   "source": [
    "plt.bar(purple_link_counts[\"purple_link\"],height=purple_link_counts[\"n\"],color=\"orange\",alpha=0.5)\n",
    "plt.scatter(hypothesized[\"purple_link\"],hypothesized[\"n\"])\n",
    "plt.show()"
   ],
   "metadata": {
    "collapsed": false,
    "pycharm": {
     "name": "#%%\n"
    }
   }
  },
  {
   "metadata": {
    "pycharm": {
     "name": "#%% md\n"
    }
   },
   "outputs": [],
   "source": [
    "### 6. Visualizing counts\n",
    "\n",
    "Two of the bars are close to the values we hypothesized and two are slightly different. We'll need to run a hypothesis test to see if the differences are statistically significant."
   ],
   "execution_count": null,
   "cell_type": "markdown"
  },
  {
   "metadata": {
    "pycharm": {
     "name": "#%% md\n"
    }
   },
   "outputs": [],
   "source": [
    "### 7. chi-square goodness of fit test\n",
    "\n",
    "The one sample chi-square test is called a goodness of fit test. To run it, we use scipy-dot-stats and its chisquare method. There are two required arguments to chisquare: an array-like object for the observed counts, f_obs, and one for expected counts, f_exp. The observed counts are stored as n in purple_link_counts and the expected counts are stored similarly in the hypothesized DataFrame. The p-value is very small, much lower than the significance level we set, so we conclude that the sample distribution of proportions is different from the hypothesized distribution of proportions."
   ],
   "execution_count": null,
   "cell_type": "markdown"
  },
  {
   "cell_type": "code",
   "execution_count": 121,
   "outputs": [
    {
     "data": {
      "text/plain": "Power_divergenceResult(statistic=44.59840778416629, pvalue=1.1261810719413759e-09)"
     },
     "execution_count": 121,
     "metadata": {},
     "output_type": "execute_result"
    }
   ],
   "source": [
    "from scipy.stats import chisquare\n",
    "chisquare(f_obs=purple_link_counts[\"n\"],f_exp=hypothesized[\"n\"])"
   ],
   "metadata": {
    "collapsed": false,
    "pycharm": {
     "name": "#%%\n"
    }
   }
  },
  {
   "metadata": {
    "pycharm": {
     "name": "#%% md\n"
    }
   },
   "outputs": [],
   "source": [
    "### 8. Let's practice!\n",
    "\n",
    "Let's perform some chi-square goodness of fit tests."
   ],
   "execution_count": null,
   "cell_type": "markdown"
  },
  {
   "metadata": {
    "pycharm": {
     "name": "#%% md\n"
    }
   },
   "outputs": [],
   "source": [
    "## Visualizing goodness of fit\n",
    "\n",
    "<p>The <em>chi-square goodness of fit test</em> compares proportions of each level of a categorical variable to hypothesized values. Before running such a test, it can be helpful to visually compare the distribution in the sample to the hypothesized distribution.</p>\n",
    "<p>Recall the vendor incoterms in the <code>late_shipments</code> dataset. You hypothesize that the four values occur with these frequencies in the population of shipments.</p>\n",
    "<ul>\n",
    "<li><code>EXW</code>: 0.75</li>\n",
    "<li><code>CIP</code>: 0.05</li>\n",
    "<li><code>DDP</code>: 0.1</li>\n",
    "<li><code>FCA</code>: 0.1</li>\n",
    "</ul>\n",
    "<p>These frequencies are stored in the <code>hypothesized</code> DataFrame.</p>\n",
    "<p>The <code>incoterm_counts</code> DataFrame stores the <code>.value_counts()</code> of the <code>vendor_inco_term</code> column.</p>\n",
    "<p><code>late_shipments</code> is available; <code>pandas</code> and <code>matplotlib.pyplot</code> are loaded with their standard aliases.</p>"
   ],
   "execution_count": null,
   "cell_type": "markdown"
  },
  {
   "cell_type": "code",
   "execution_count": 122,
   "outputs": [
    {
     "data": {
      "text/plain": "  vendor_inco_term    n\n0              EXW  732\n1              FCA  111\n2              DDP  100\n3              CIP   56",
      "text/html": "<div>\n<style scoped>\n    .dataframe tbody tr th:only-of-type {\n        vertical-align: middle;\n    }\n\n    .dataframe tbody tr th {\n        vertical-align: top;\n    }\n\n    .dataframe thead th {\n        text-align: right;\n    }\n</style>\n<table border=\"1\" class=\"dataframe\">\n  <thead>\n    <tr style=\"text-align: right;\">\n      <th></th>\n      <th>vendor_inco_term</th>\n      <th>n</th>\n    </tr>\n  </thead>\n  <tbody>\n    <tr>\n      <th>0</th>\n      <td>EXW</td>\n      <td>732</td>\n    </tr>\n    <tr>\n      <th>1</th>\n      <td>FCA</td>\n      <td>111</td>\n    </tr>\n    <tr>\n      <th>2</th>\n      <td>DDP</td>\n      <td>100</td>\n    </tr>\n    <tr>\n      <th>3</th>\n      <td>CIP</td>\n      <td>56</td>\n    </tr>\n  </tbody>\n</table>\n</div>"
     },
     "execution_count": 122,
     "metadata": {},
     "output_type": "execute_result"
    }
   ],
   "source": [
    "incoterm_counts = late_shipments[\"vendor_inco_term\"].value_counts().rename_axis(\"vendor_inco_term\").reset_index(name=\"n\")\n",
    "incoterm_counts"
   ],
   "metadata": {
    "collapsed": false,
    "pycharm": {
     "name": "#%%\n"
    }
   }
  },
  {
   "cell_type": "code",
   "execution_count": 123,
   "outputs": [
    {
     "data": {
      "text/plain": "  vendor_inco_term  prop\n0              EXW  0.75\n1              FCA  0.10\n2              DDP  0.10\n3              CIP  0.05",
      "text/html": "<div>\n<style scoped>\n    .dataframe tbody tr th:only-of-type {\n        vertical-align: middle;\n    }\n\n    .dataframe tbody tr th {\n        vertical-align: top;\n    }\n\n    .dataframe thead th {\n        text-align: right;\n    }\n</style>\n<table border=\"1\" class=\"dataframe\">\n  <thead>\n    <tr style=\"text-align: right;\">\n      <th></th>\n      <th>vendor_inco_term</th>\n      <th>prop</th>\n    </tr>\n  </thead>\n  <tbody>\n    <tr>\n      <th>0</th>\n      <td>EXW</td>\n      <td>0.75</td>\n    </tr>\n    <tr>\n      <th>1</th>\n      <td>FCA</td>\n      <td>0.10</td>\n    </tr>\n    <tr>\n      <th>2</th>\n      <td>DDP</td>\n      <td>0.10</td>\n    </tr>\n    <tr>\n      <th>3</th>\n      <td>CIP</td>\n      <td>0.05</td>\n    </tr>\n  </tbody>\n</table>\n</div>"
     },
     "execution_count": 123,
     "metadata": {},
     "output_type": "execute_result"
    }
   ],
   "source": [
    "hypothesized = pd.DataFrame({\"vendor_inco_term\" : incoterm_counts[\"vendor_inco_term\"].values,\n",
    "                             \"prop\":[0.75,0.1,0.1,0.05]})\n",
    "hypothesized"
   ],
   "metadata": {
    "collapsed": false,
    "pycharm": {
     "name": "#%%\n"
    }
   }
  },
  {
   "metadata": {
    "pycharm": {
     "name": "#%% md\n"
    }
   },
   "outputs": [],
   "source": [
    "Find the number of rows in <code>late_shipments</code>."
   ],
   "execution_count": null,
   "cell_type": "markdown"
  },
  {
   "cell_type": "code",
   "execution_count": 124,
   "outputs": [
    {
     "data": {
      "text/plain": "  vendor_inco_term  prop       n\n0              EXW  0.75  749.25\n1              FCA  0.10   99.90\n2              DDP  0.10   99.90\n3              CIP  0.05   49.95",
      "text/html": "<div>\n<style scoped>\n    .dataframe tbody tr th:only-of-type {\n        vertical-align: middle;\n    }\n\n    .dataframe tbody tr th {\n        vertical-align: top;\n    }\n\n    .dataframe thead th {\n        text-align: right;\n    }\n</style>\n<table border=\"1\" class=\"dataframe\">\n  <thead>\n    <tr style=\"text-align: right;\">\n      <th></th>\n      <th>vendor_inco_term</th>\n      <th>prop</th>\n      <th>n</th>\n    </tr>\n  </thead>\n  <tbody>\n    <tr>\n      <th>0</th>\n      <td>EXW</td>\n      <td>0.75</td>\n      <td>749.25</td>\n    </tr>\n    <tr>\n      <th>1</th>\n      <td>FCA</td>\n      <td>0.10</td>\n      <td>99.90</td>\n    </tr>\n    <tr>\n      <th>2</th>\n      <td>DDP</td>\n      <td>0.10</td>\n      <td>99.90</td>\n    </tr>\n    <tr>\n      <th>3</th>\n      <td>CIP</td>\n      <td>0.05</td>\n      <td>49.95</td>\n    </tr>\n  </tbody>\n</table>\n</div>"
     },
     "execution_count": 124,
     "metadata": {},
     "output_type": "execute_result"
    }
   ],
   "source": [
    "n_total = len(late_shipments)\n",
    "hypothesized[\"n\"] = hypothesized[\"prop\"] * n_total\n",
    "hypothesized"
   ],
   "metadata": {
    "collapsed": false,
    "pycharm": {
     "name": "#%%\n"
    }
   }
  },
  {
   "cell_type": "code",
   "execution_count": 125,
   "outputs": [
    {
     "data": {
      "text/plain": "<Figure size 432x288 with 1 Axes>",
      "image/png": "[encoded data removed]"
     },
     "metadata": {},
     "output_type": "display_data"
    }
   ],
   "source": [
    "plt.bar(x=\"vendor_inco_term\",height=\"n\",data=incoterm_counts)\n",
    "plt.scatter(data=hypothesized,x=\"vendor_inco_term\",y=\"n\")\n",
    "plt.show()"
   ],
   "metadata": {
    "collapsed": false,
    "pycharm": {
     "name": "#%%\n"
    }
   }
  },
  {
   "cell_type": "code",
   "execution_count": 126,
   "outputs": [
    {
     "data": {
      "text/plain": "0    749.25\n1     99.90\n2     99.90\n3     49.95\nName: n, dtype: float64"
     },
     "execution_count": 126,
     "metadata": {},
     "output_type": "execute_result"
    }
   ],
   "source": [
    "hypothesized[\"n\"]"
   ],
   "metadata": {
    "collapsed": false,
    "pycharm": {
     "name": "#%%\n"
    }
   }
  },
  {
   "cell_type": "code",
   "execution_count": 127,
   "outputs": [
    {
     "data": {
      "text/plain": "Power_divergenceResult(statistic=2.3633633633633613, pvalue=0.5004909543758689)"
     },
     "execution_count": 127,
     "metadata": {},
     "output_type": "execute_result"
    }
   ],
   "source": [
    "chisquare(f_obs=incoterm_counts[\"n\"],f_exp=hypothesized[\"n\"])"
   ],
   "metadata": {
    "collapsed": false,
    "pycharm": {
     "name": "#%%\n"
    }
   }
  },
  {
   "metadata": {
    "pycharm": {
     "name": "#%% md\n"
    }
   },
   "outputs": [],
   "source": [
    "## Chi-square test of goodness of fit\n",
    "\n",
    "<p>The bar plot of <code>vendor_inco_term</code> suggests that the distribution across the four categories was quite close to the hypothesized distribution. You'll need to perform a <em>chi-square goodness of fit test</em> to see whether the differences are statistically significant.</p>\n",
    "<p>Recall the hypotheses for this type of test:</p>\n",
    "<p><mjx-container class=\"MathJax CtxtMenu_Attached_0\" jax=\"CHTML\" role=\"presentation\" tabindex=\"0\" ctxtmenu_counter=\"2\" style=\"font-size: 116.7%; position: relative;\"><mjx-math class=\"MJX-TEX\" aria-hidden=\"true\"><mjx-msub><mjx-mi class=\"mjx-i\" noic=\"true\"><mjx-c class=\"mjx-c1D43B TEX-I\"></mjx-c></mjx-mi><mjx-script style=\"vertical-align: -0.15em;\"><mjx-texatom size=\"s\" texclass=\"ORD\"><mjx-mn class=\"mjx-n\"><mjx-c class=\"mjx-c30\"></mjx-c></mjx-mn></mjx-texatom></mjx-script></mjx-msub></mjx-math><mjx-assistive-mml role=\"presentation\" unselectable=\"on\" display=\"inline\"><math xmlns=\"http://www.w3.org/1998/Math/MathML\"><msub><mi>H</mi><mrow><mn>0</mn></mrow></msub></math></mjx-assistive-mml></mjx-container>: The sample matches with the hypothesized distribution.</p>\n",
    "<p><mjx-container class=\"MathJax CtxtMenu_Attached_0\" jax=\"CHTML\" role=\"presentation\" tabindex=\"0\" ctxtmenu_counter=\"3\" style=\"font-size: 116.7%; position: relative;\"><mjx-math class=\"MJX-TEX\" aria-hidden=\"true\"><mjx-msub><mjx-mi class=\"mjx-i\" noic=\"true\"><mjx-c class=\"mjx-c1D43B TEX-I\"></mjx-c></mjx-mi><mjx-script style=\"vertical-align: -0.153em;\"><mjx-texatom size=\"s\" texclass=\"ORD\"><mjx-mi class=\"mjx-i\"><mjx-c class=\"mjx-c1D434 TEX-I\"></mjx-c></mjx-mi></mjx-texatom></mjx-script></mjx-msub></mjx-math><mjx-assistive-mml role=\"presentation\" unselectable=\"on\" display=\"inline\"><math xmlns=\"http://www.w3.org/1998/Math/MathML\"><msub><mi>H</mi><mrow><mi>A</mi></mrow></msub></math></mjx-assistive-mml></mjx-container>: The sample does not match with the hypothesized distribution. </p>\n",
    "<p>To decide which hypothesis to choose, we'll set a significance level of <code>0.1</code>.</p>\n",
    "<p><code>late_shipments</code>, <code>incoterm_counts</code>, and <code>hypothesized</code> from the last exercise are available. <code>chisquare</code> from <code>scipy.stats</code> has been loaded.</p>"
   ],
   "execution_count": null,
   "cell_type": "markdown"
  },
  {
   "metadata": {
    "pycharm": {
     "name": "#%% md\n"
    }
   },
   "outputs": [],
   "source": [
    "Using the <code>incoterm_counts</code> and <code>hypothesized</code> datasets, perform a chi-square goodness of fit test on <code>vendor_inco_term</code>."
   ],
   "execution_count": null,
   "cell_type": "markdown"
  },
  {
   "metadata": {
    "pycharm": {
     "name": "#%% md\n"
    }
   },
   "outputs": [],
   "source": [
    "# Time to Define the Relationship"
   ],
   "execution_count": null,
   "cell_type": "markdown"
  },
  {
   "metadata": {
    "pycharm": {
     "name": "#%% md\n"
    }
   },
   "outputs": [],
   "source": [
    "## What do you assume?"
   ],
   "execution_count": null,
   "cell_type": "markdown"
  },
  {
   "metadata": {
    "pycharm": {
     "name": "#%% md\n"
    }
   },
   "outputs": [],
   "source": [
    "### 1. What do you assume?\n",
    "\n",
    "Each hypothesis test we've seen so far makes assumptions about the data. It's only when these assumptions are met that it is appropriate to use that hypothesis test."
   ],
   "execution_count": null,
   "cell_type": "markdown"
  },
  {
   "metadata": {
    "pycharm": {
     "name": "#%% md\n"
    }
   },
   "outputs": [],
   "source": [
    "### 2. Randomness\n",
    "\n",
    "Whether it uses one or multiple samples, every hypothesis test assumes that each sample is randomly sourced from its population. If we don't have a random sample, then it won't be representative of the population. To check this assumption, we need to know where our data came from. There are no statistical or coding tests we can perform to check this. If in doubt, ask the people involved in data collection, or a domain expert that understands the population being sampled."
   ],
   "execution_count": null,
   "cell_type": "markdown"
  },
  {
   "metadata": {
    "pycharm": {
     "name": "#%% md\n"
    }
   },
   "outputs": [],
   "source": [
    "### 3. Independence of observations\n",
    "\n",
    "Tests also assume that each observation is independent. There are some special cases like paired t-tests where dependencies between two samples are allowed, but these change the calculations, so we need to understand where such dependencies occur. As we saw with the paired t-test, not accounting for dependencies results in an increased chance of false negative and false positive errors. Not accounting for dependencies is a difficult problem to diagnose during analysis. Ideally, it needs to be discussed before data collection."
   ],
   "execution_count": null,
   "cell_type": "markdown"
  },
  {
   "metadata": {
    "pycharm": {
     "name": "#%% md\n"
    }
   },
   "outputs": [],
   "source": [
    "### 4. Large sample size\n",
    "\n",
    "Hypothesis tests also assume that our sample is large enough that the Central Limit Theorem applies, and the sample distribution can be assumed to be normally distributed. Smaller samples incur greater uncertainty, which may mean that the Central Limit Theorem does not apply and the sampling distribution might not be normally distributed. The increased uncertainty of a small sample means we get wider confidence intervals on the parameter we are trying to estimate. If the Central Limit Theorem does not apply, the calculations on the sample, and any conclusions drawn from them, could be nonsense, which increases the chance of false negative and false positive errors. How big our sample needs to be to be \"big enough\" depends on the test."
   ],
   "execution_count": null,
   "cell_type": "markdown"
  },
  {
   "metadata": {
    "pycharm": {
     "name": "#%% md\n"
    }
   },
   "outputs": [],
   "source": [
    "### 5. Large sample size: t-test\n",
    "\n",
    "For one sample t-tests, a popular heuristic is that we need at least thirty observations in our sample. For the two sample case or ANOVA, we need thirty observations from each group. That means we can't compensate for one minority group sample by making the majority group bigger. In the paired case, we need thirty pairs of observations. Sometimes we can get away with less than 30 in each of these tests; the important thing is that the null distribution appears normal. This is often the case at around 30 and that's the reason for this somewhat arbitrary threshold."
   ],
   "execution_count": null,
   "cell_type": "markdown"
  },
  {
   "metadata": {
    "pycharm": {
     "name": "#%% md\n"
    }
   },
   "outputs": [],
   "source": [
    "### 6. Large sample size: proportion tests\n",
    "\n",
    "For one sample proportion tests, the sample is considered big enough if it contains at least ten successes and ten failures. Notice that if the probability of success is close to zero or close to one, then we need a bigger sample. In the two sample case, we require ten successes and ten failures from each sample."
   ],
   "execution_count": null,
   "cell_type": "markdown"
  },
  {
   "metadata": {
    "pycharm": {
     "name": "#%% md\n"
    }
   },
   "outputs": [],
   "source": [
    "### 7. Large sample size: chi-square tests\n",
    "\n",
    "The chi-square test is slightly more forgiving and only requires five successes and five failures in each group, rather than ten."
   ],
   "execution_count": null,
   "cell_type": "markdown"
  },
  {
   "metadata": {
    "pycharm": {
     "name": "#%% md\n"
    }
   },
   "outputs": [],
   "source": [
    "### 8. Sanity check\n",
    "\n",
    "One more check we can perform is to calculate a bootstrap distribution and visualize it with a histogram. If we don't see a bell-shaped normal curve, then one of the assumptions hasn't been met. In that case, we should revisit the data collection process, and see if any of the three assumptions of randomness, independence, and sample size do not hold."
   ],
   "execution_count": null,
   "cell_type": "markdown"
  },
  {
   "metadata": {
    "pycharm": {
     "name": "#%% md\n"
    }
   },
   "outputs": [],
   "source": [
    "### 9. Let's practice!\n",
    "\n",
    "Time to check some assumptions!"
   ],
   "execution_count": null,
   "cell_type": "markdown"
  },
  {
   "metadata": {
    "pycharm": {
     "name": "#%% md\n"
    }
   },
   "outputs": [],
   "source": [
    "## Testing sample size\n",
    "\n",
    "<p>In order to conduct a hypothesis test and be sure that the result is fair, a sample must meet three requirements: it is a random sample of the population, the observations are independent, and there are enough observations. Of these, only the last condition is easily testable with code.</p>\n",
    "<p>The minimum sample size depends on the type of hypothesis tests you want to perform. You'll now test some scenarios on the <code>late_shipments</code> dataset.</p>\n",
    "<p>Note that the <code>.all()</code> method from <code>pandas</code> can be used to check if all elements are true. For example, given a DataFrame <code>df</code> with numeric entries, you check to see if all its elements are less than <code>5</code>, using <code>(df &lt; 5).all()</code>.</p>\n",
    "<p><code>late_shipments</code> is available, and <code>pandas</code> is loaded as <code>pd</code>.</p>"
   ],
   "execution_count": null,
   "cell_type": "markdown"
  },
  {
   "metadata": {
    "pycharm": {
     "name": "#%% md\n"
    }
   },
   "outputs": [],
   "source": [
    "Get the count of each value in the <code>freight_cost_group</code> column of <code>late_shipments</code>."
   ],
   "execution_count": null,
   "cell_type": "markdown"
  },
  {
   "metadata": {
    "pycharm": {
     "name": "#%% md\n"
    }
   },
   "outputs": [],
   "source": [
    "Insert a suitable number to inspect whether the counts are \"big enough\" for a two sample t-test."
   ],
   "execution_count": null,
   "cell_type": "markdown"
  },
  {
   "cell_type": "code",
   "execution_count": 128,
   "outputs": [
    {
     "name": "stdout",
     "output_type": "stream",
     "text": [
      "expensive     545\n",
      "reasonable    454\n",
      "Name: freight_cost_group, dtype: int64\n",
      "True\n"
     ]
    }
   ],
   "source": [
    "# Count the freight_cost_group values\n",
    "counts = late_shipments[\"freight_cost_group\"].value_counts()\n",
    "\n",
    "# Print the result\n",
    "print(counts)\n",
    "\n",
    "# Inspect whether the counts are big enough\n",
    "print((counts >= 30).all())"
   ],
   "metadata": {
    "collapsed": false,
    "pycharm": {
     "name": "#%%\n"
    }
   }
  },
  {
   "metadata": {
    "pycharm": {
     "name": "#%% md\n"
    }
   },
   "outputs": [],
   "source": [
    "Get the count of each value in the <code>late</code> column of <code>late_shipments</code>."
   ],
   "execution_count": null,
   "cell_type": "markdown"
  },
  {
   "metadata": {
    "pycharm": {
     "name": "#%% md\n"
    }
   },
   "outputs": [],
   "source": [
    "Insert a suitable number to inspect whether the counts are \"big enough\" for a one sample proportion test."
   ],
   "execution_count": null,
   "cell_type": "markdown"
  },
  {
   "cell_type": "code",
   "execution_count": 129,
   "outputs": [
    {
     "name": "stdout",
     "output_type": "stream",
     "text": [
      "No     938\n",
      "Yes     61\n",
      "Name: late, dtype: int64\n",
      "True\n"
     ]
    }
   ],
   "source": [
    "# Count the late values\n",
    "counts = late_shipments[\"late\"].value_counts()\n",
    "\n",
    "# Print the result\n",
    "print(counts)\n",
    "\n",
    "# Inspect whether the counts are big enough\n",
    "print((counts >= 10).all())"
   ],
   "metadata": {
    "collapsed": false,
    "pycharm": {
     "name": "#%%\n"
    }
   }
  },
  {
   "metadata": {
    "pycharm": {
     "name": "#%% md\n"
    }
   },
   "outputs": [],
   "source": [
    "Get the count of each value in the <code>freight_cost_group</code> column of <code>late_shipments</code> grouped by <code>vendor_inco_term</code>."
   ],
   "execution_count": null,
   "cell_type": "markdown"
  },
  {
   "metadata": {
    "pycharm": {
     "name": "#%% md\n"
    }
   },
   "outputs": [],
   "source": [
    "Insert a suitable number to inspect whether the counts are \"big enough\" for a chi-square independence test."
   ],
   "execution_count": null,
   "cell_type": "markdown"
  },
  {
   "cell_type": "code",
   "execution_count": 130,
   "outputs": [
    {
     "name": "stdout",
     "output_type": "stream",
     "text": [
      "vendor_inco_term  freight_cost_group\n",
      "CIP               reasonable             34\n",
      "                  expensive              22\n",
      "DDP               expensive              55\n",
      "                  reasonable             45\n",
      "EXW               expensive             430\n",
      "                  reasonable            302\n",
      "FCA               reasonable             73\n",
      "                  expensive              38\n",
      "Name: freight_cost_group, dtype: int64\n",
      "True\n"
     ]
    }
   ],
   "source": [
    "# Count the values of freight_cost_group grouped by vendor_inco_term\n",
    "counts = late_shipments.groupby(\"vendor_inco_term\")[\"freight_cost_group\"].value_counts()\n",
    "\n",
    "# Print the result\n",
    "print(counts)\n",
    "\n",
    "# Inspect whether the counts are big enough\n",
    "print((counts >= 5).all())"
   ],
   "metadata": {
    "collapsed": false,
    "pycharm": {
     "name": "#%%\n"
    }
   }
  },
  {
   "metadata": {
    "pycharm": {
     "name": "#%% md\n"
    }
   },
   "outputs": [],
   "source": [
    "Get the count of each value in the <code>shipment_mode</code> column of <code>late_shipments</code>."
   ],
   "execution_count": null,
   "cell_type": "markdown"
  },
  {
   "metadata": {
    "pycharm": {
     "name": "#%% md\n"
    }
   },
   "outputs": [],
   "source": [
    "Insert a suitable number to inspect whether the counts are \"big enough\" for an ANOVA test."
   ],
   "execution_count": null,
   "cell_type": "markdown"
  },
  {
   "cell_type": "code",
   "execution_count": 131,
   "outputs": [
    {
     "name": "stdout",
     "output_type": "stream",
     "text": [
      "Air            905\n",
      "Ocean           88\n",
      "Air Charter      6\n",
      "Name: shipment_mode, dtype: int64\n",
      "False\n"
     ]
    }
   ],
   "source": [
    "# Count the shipment_mode values\n",
    "counts = late_shipments[\"shipment_mode\"].value_counts()\n",
    "\n",
    "# Print the result\n",
    "print(counts)\n",
    "\n",
    "# Inspect whether the counts are big enough\n",
    "print((counts >= 30).all())"
   ],
   "metadata": {
    "collapsed": false,
    "pycharm": {
     "name": "#%%\n"
    }
   }
  },
  {
   "cell_type": "markdown",
   "source": [
    "\n",
    "### Assumptions not met\n",
    "So what do we do if the assumptions for the hypothesis tests we've seen so far aren't met?"
   ],
   "metadata": {
    "collapsed": false,
    "pycharm": {
     "name": "#%% md\n"
    }
   },
   "outputs": []
  },
  {
   "cell_type": "markdown",
   "source": [
    "\n",
    "### Parametric tests\n",
    "The tests that we've seen so far are known as parametric tests. Tests like the z-test, t-test, and ANOVA are all based on the **assumption that the population is normally distributed.** Parametric tests also require **sample sizes that are \"big enough\"** that the Central Limit Theorem applies."
   ],
   "metadata": {
    "collapsed": false,
    "pycharm": {
     "name": "#%% md\n"
    }
   },
   "outputs": []
  },
  {
   "cell_type": "markdown",
   "source": [
    "\n",
    "### Smaller Republican votes data\n",
    "Let's study a case where the sample size requirement isn't met with a subset of the US Presidential voting results for Republican candidates that we examined in a previous chapter. Here, repub_votes_small contains only five counties randomly sampled from the larger dataset of 2008 and 2012 county-level returns."
   ],
   "metadata": {
    "collapsed": false,
    "pycharm": {
     "name": "#%% md\n"
    }
   },
   "outputs": []
  },
  {
   "cell_type": "code",
   "execution_count": 132,
   "outputs": [
    {
     "data": {
      "text/plain": "            state   county  repub_percent_08  repub_percent_12      diff\n14          Idaho      Gem         70.278092         70.907877 -0.629785\n16       Illinois   Greene         52.574479         61.383849 -8.809370\n76          Texas  Grayson         68.465378         73.197047 -4.731669\n66   Pennsylvania  Clarion         60.439066         66.897319 -6.458253\n91  West Virginia  Braxton         48.604178         56.723564 -8.119385",
      "text/html": "<div>\n<style scoped>\n    .dataframe tbody tr th:only-of-type {\n        vertical-align: middle;\n    }\n\n    .dataframe tbody tr th {\n        vertical-align: top;\n    }\n\n    .dataframe thead th {\n        text-align: right;\n    }\n</style>\n<table border=\"1\" class=\"dataframe\">\n  <thead>\n    <tr style=\"text-align: right;\">\n      <th></th>\n      <th>state</th>\n      <th>county</th>\n      <th>repub_percent_08</th>\n      <th>repub_percent_12</th>\n      <th>diff</th>\n    </tr>\n  </thead>\n  <tbody>\n    <tr>\n      <th>14</th>\n      <td>Idaho</td>\n      <td>Gem</td>\n      <td>70.278092</td>\n      <td>70.907877</td>\n      <td>-0.629785</td>\n    </tr>\n    <tr>\n      <th>16</th>\n      <td>Illinois</td>\n      <td>Greene</td>\n      <td>52.574479</td>\n      <td>61.383849</td>\n      <td>-8.809370</td>\n    </tr>\n    <tr>\n      <th>76</th>\n      <td>Texas</td>\n      <td>Grayson</td>\n      <td>68.465378</td>\n      <td>73.197047</td>\n      <td>-4.731669</td>\n    </tr>\n    <tr>\n      <th>66</th>\n      <td>Pennsylvania</td>\n      <td>Clarion</td>\n      <td>60.439066</td>\n      <td>66.897319</td>\n      <td>-6.458253</td>\n    </tr>\n    <tr>\n      <th>91</th>\n      <td>West Virginia</td>\n      <td>Braxton</td>\n      <td>48.604178</td>\n      <td>56.723564</td>\n      <td>-8.119385</td>\n    </tr>\n  </tbody>\n</table>\n</div>"
     },
     "execution_count": 132,
     "metadata": {},
     "output_type": "execute_result"
    }
   ],
   "source": [
    "repub_votes_small = repub_votes_potus_08_12.sample(5)\n",
    "repub_votes_small"
   ],
   "metadata": {
    "collapsed": false,
    "pycharm": {
     "name": "#%%\n"
    }
   }
  },
  {
   "cell_type": "markdown",
   "source": [
    "\n",
    "### Results with pingouin.ttest()\n",
    "Let's try performing a paired t-test on this small sample. Recall that we require 30 pairs to feel confident in using a t-test, and this sample only contains five. We set a significance level of one percent and use the ttest method from pingouin to perform the left-tailed paired t-test. The small p-value indicates we should reject the null hypothesis, leading us to suspect that the 2008 election had a smaller percentage of Republican votes than the 2012 election."
   ],
   "metadata": {
    "collapsed": false,
    "pycharm": {
     "name": "#%% md\n"
    }
   },
   "outputs": []
  },
  {
   "cell_type": "code",
   "execution_count": 133,
   "outputs": [
    {
     "data": {
      "text/plain": "               T  dof alternative     p-val          CI95%   cohen-d   BF10  \\\nT-test -3.933675    4        less  0.008525  [-inf, -2.63]  0.695742  9.592   \n\n           power  \nT-test  0.363124  ",
      "text/html": "<div>\n<style scoped>\n    .dataframe tbody tr th:only-of-type {\n        vertical-align: middle;\n    }\n\n    .dataframe tbody tr th {\n        vertical-align: top;\n    }\n\n    .dataframe thead th {\n        text-align: right;\n    }\n</style>\n<table border=\"1\" class=\"dataframe\">\n  <thead>\n    <tr style=\"text-align: right;\">\n      <th></th>\n      <th>T</th>\n      <th>dof</th>\n      <th>alternative</th>\n      <th>p-val</th>\n      <th>CI95%</th>\n      <th>cohen-d</th>\n      <th>BF10</th>\n      <th>power</th>\n    </tr>\n  </thead>\n  <tbody>\n    <tr>\n      <th>T-test</th>\n      <td>-3.933675</td>\n      <td>4</td>\n      <td>less</td>\n      <td>0.008525</td>\n      <td>[-inf, -2.63]</td>\n      <td>0.695742</td>\n      <td>9.592</td>\n      <td>0.363124</td>\n    </tr>\n  </tbody>\n</table>\n</div>"
     },
     "execution_count": 133,
     "metadata": {},
     "output_type": "execute_result"
    }
   ],
   "source": [
    "alpha = 0.01\n",
    "pingouin.ttest(x=repub_votes_small[\"repub_percent_08\"],\n",
    "               y=repub_votes_small[\"repub_percent_12\"],\n",
    "               paired=True,\n",
    "               alternative=\"less\")"
   ],
   "metadata": {
    "collapsed": false,
    "pycharm": {
     "name": "#%%\n"
    }
   }
  },
  {
   "cell_type": "markdown",
   "source": [
    "\n",
    "### Non-parametric tests\n",
    "In situations where we aren't sure about these assumptions, or we are certain that the assumptions aren't met, we can use non-parametric tests. They do not make the normal distribution assumptions or the sample size conditions that we saw in the previous video. There are many different ways to perform tests without these parametric assumptions. In this chapter, we'll focus on those relating to ranks. Consider the list, x. The first value of x, one, is the smallest value and the second value, fifteen, is the fifth smallest. These orderings from smallest to largest are known as the ranks of the elements of x. We can access them with the rankdata method from scipy-dot-stats."
   ],
   "metadata": {
    "collapsed": false,
    "pycharm": {
     "name": "#%% md\n"
    }
   },
   "outputs": []
  },
  {
   "cell_type": "code",
   "execution_count": 134,
   "outputs": [
    {
     "data": {
      "text/plain": "array([1., 5., 2., 4., 3.])"
     },
     "execution_count": 134,
     "metadata": {},
     "output_type": "execute_result"
    }
   ],
   "source": [
    "x = [1,15,3,10,6]\n",
    "from scipy.stats import rankdata\n",
    "rankdata(x)"
   ],
   "metadata": {
    "collapsed": false,
    "pycharm": {
     "name": "#%%\n"
    }
   }
  },
  {
   "cell_type": "markdown",
   "source": [
    "\n",
    "### Non-parametric tests\n",
    "Let's now use a non-parametric test to see what kind of results it gives. Remember that non-parametric tests work better than the parametric alternative in situations where the **sample size is small** or the **data cannot be assumed to be normally distributed**.\n"
   ],
   "metadata": {
    "collapsed": false,
    "pycharm": {
     "name": "#%% md\n"
    }
   },
   "outputs": []
  },
  {
   "cell_type": "markdown",
   "source": [
    "### Non-parametric tests\n",
    "We will use the Wilcoxon-signed rank test, which was developed by Frank Wilcoxon in 1945 and was one of the first non-parametric procedures developed. We'll go over the inner workings of the test before implementing it using another pingouin method.\n"
   ],
   "metadata": {
    "collapsed": false,
    "pycharm": {
     "name": "#%% md\n"
    }
   },
   "outputs": []
  },
  {
   "cell_type": "markdown",
   "source": [
    "### Wilcoxon-signed rank test (Step 1)\n",
    "The Wilcoxon-signed rank test requires us to calculate the absolute differences in the pairs of data and then rank them. First, we take the differences in the paired values.\n"
   ],
   "metadata": {
    "collapsed": false,
    "pycharm": {
     "name": "#%% md\n"
    }
   },
   "outputs": []
  },
  {
   "cell_type": "code",
   "execution_count": 135,
   "outputs": [
    {
     "data": {
      "text/plain": "            state   county  repub_percent_08  repub_percent_12      diff\n14          Idaho      Gem         70.278092         70.907877 -0.629785\n16       Illinois   Greene         52.574479         61.383849 -8.809370\n76          Texas  Grayson         68.465378         73.197047 -4.731669\n66   Pennsylvania  Clarion         60.439066         66.897319 -6.458253\n91  West Virginia  Braxton         48.604178         56.723564 -8.119385",
      "text/html": "<div>\n<style scoped>\n    .dataframe tbody tr th:only-of-type {\n        vertical-align: middle;\n    }\n\n    .dataframe tbody tr th {\n        vertical-align: top;\n    }\n\n    .dataframe thead th {\n        text-align: right;\n    }\n</style>\n<table border=\"1\" class=\"dataframe\">\n  <thead>\n    <tr style=\"text-align: right;\">\n      <th></th>\n      <th>state</th>\n      <th>county</th>\n      <th>repub_percent_08</th>\n      <th>repub_percent_12</th>\n      <th>diff</th>\n    </tr>\n  </thead>\n  <tbody>\n    <tr>\n      <th>14</th>\n      <td>Idaho</td>\n      <td>Gem</td>\n      <td>70.278092</td>\n      <td>70.907877</td>\n      <td>-0.629785</td>\n    </tr>\n    <tr>\n      <th>16</th>\n      <td>Illinois</td>\n      <td>Greene</td>\n      <td>52.574479</td>\n      <td>61.383849</td>\n      <td>-8.809370</td>\n    </tr>\n    <tr>\n      <th>76</th>\n      <td>Texas</td>\n      <td>Grayson</td>\n      <td>68.465378</td>\n      <td>73.197047</td>\n      <td>-4.731669</td>\n    </tr>\n    <tr>\n      <th>66</th>\n      <td>Pennsylvania</td>\n      <td>Clarion</td>\n      <td>60.439066</td>\n      <td>66.897319</td>\n      <td>-6.458253</td>\n    </tr>\n    <tr>\n      <th>91</th>\n      <td>West Virginia</td>\n      <td>Braxton</td>\n      <td>48.604178</td>\n      <td>56.723564</td>\n      <td>-8.119385</td>\n    </tr>\n  </tbody>\n</table>\n</div>"
     },
     "execution_count": 135,
     "metadata": {},
     "output_type": "execute_result"
    }
   ],
   "source": [
    "repub_votes_small[\"diff\"] = repub_votes_small[\"repub_percent_08\"] - repub_votes_small[\"repub_percent_12\"]\n",
    "repub_votes_small"
   ],
   "metadata": {
    "collapsed": false,
    "pycharm": {
     "name": "#%%\n"
    }
   }
  },
  {
   "cell_type": "markdown",
   "source": [
    "### Wilcoxon-signed rank test (Step 2)\n",
    "Next, we take the absolute value of the differences, using the dot-abs method, and place them in the abs_diff column.\n"
   ],
   "metadata": {
    "collapsed": false,
    "pycharm": {
     "name": "#%% md\n"
    }
   },
   "outputs": []
  },
  {
   "cell_type": "code",
   "execution_count": 136,
   "outputs": [
    {
     "data": {
      "text/plain": "            state   county  repub_percent_08  repub_percent_12      diff  \\\n14          Idaho      Gem         70.278092         70.907877 -0.629785   \n16       Illinois   Greene         52.574479         61.383849 -8.809370   \n76          Texas  Grayson         68.465378         73.197047 -4.731669   \n66   Pennsylvania  Clarion         60.439066         66.897319 -6.458253   \n91  West Virginia  Braxton         48.604178         56.723564 -8.119385   \n\n    abs_diff  \n14  0.629785  \n16  8.809370  \n76  4.731669  \n66  6.458253  \n91  8.119385  ",
      "text/html": "<div>\n<style scoped>\n    .dataframe tbody tr th:only-of-type {\n        vertical-align: middle;\n    }\n\n    .dataframe tbody tr th {\n        vertical-align: top;\n    }\n\n    .dataframe thead th {\n        text-align: right;\n    }\n</style>\n<table border=\"1\" class=\"dataframe\">\n  <thead>\n    <tr style=\"text-align: right;\">\n      <th></th>\n      <th>state</th>\n      <th>county</th>\n      <th>repub_percent_08</th>\n      <th>repub_percent_12</th>\n      <th>diff</th>\n      <th>abs_diff</th>\n    </tr>\n  </thead>\n  <tbody>\n    <tr>\n      <th>14</th>\n      <td>Idaho</td>\n      <td>Gem</td>\n      <td>70.278092</td>\n      <td>70.907877</td>\n      <td>-0.629785</td>\n      <td>0.629785</td>\n    </tr>\n    <tr>\n      <th>16</th>\n      <td>Illinois</td>\n      <td>Greene</td>\n      <td>52.574479</td>\n      <td>61.383849</td>\n      <td>-8.809370</td>\n      <td>8.809370</td>\n    </tr>\n    <tr>\n      <th>76</th>\n      <td>Texas</td>\n      <td>Grayson</td>\n      <td>68.465378</td>\n      <td>73.197047</td>\n      <td>-4.731669</td>\n      <td>4.731669</td>\n    </tr>\n    <tr>\n      <th>66</th>\n      <td>Pennsylvania</td>\n      <td>Clarion</td>\n      <td>60.439066</td>\n      <td>66.897319</td>\n      <td>-6.458253</td>\n      <td>6.458253</td>\n    </tr>\n    <tr>\n      <th>91</th>\n      <td>West Virginia</td>\n      <td>Braxton</td>\n      <td>48.604178</td>\n      <td>56.723564</td>\n      <td>-8.119385</td>\n      <td>8.119385</td>\n    </tr>\n  </tbody>\n</table>\n</div>"
     },
     "execution_count": 136,
     "metadata": {},
     "output_type": "execute_result"
    }
   ],
   "source": [
    "repub_votes_small[\"abs_diff\"] = abs(repub_votes_small[\"diff\"])\n",
    "repub_votes_small"
   ],
   "metadata": {
    "collapsed": false,
    "pycharm": {
     "name": "#%%\n"
    }
   }
  },
  {
   "cell_type": "markdown",
   "source": [
    "### Wilcoxon-signed rank test (Step 3)\n",
    "Then, we rank these absolute differences using the rankdata method from scipy-dot-stats.\n"
   ],
   "metadata": {
    "collapsed": false,
    "pycharm": {
     "name": "#%% md\n"
    }
   },
   "outputs": []
  },
  {
   "cell_type": "code",
   "execution_count": 137,
   "outputs": [
    {
     "data": {
      "text/plain": "            state   county  repub_percent_08  repub_percent_12      diff  \\\n14          Idaho      Gem         70.278092         70.907877 -0.629785   \n16       Illinois   Greene         52.574479         61.383849 -8.809370   \n76          Texas  Grayson         68.465378         73.197047 -4.731669   \n66   Pennsylvania  Clarion         60.439066         66.897319 -6.458253   \n91  West Virginia  Braxton         48.604178         56.723564 -8.119385   \n\n    abs_diff  renk_abs_diff  \n14  0.629785            1.0  \n16  8.809370            5.0  \n76  4.731669            2.0  \n66  6.458253            3.0  \n91  8.119385            4.0  ",
      "text/html": "<div>\n<style scoped>\n    .dataframe tbody tr th:only-of-type {\n        vertical-align: middle;\n    }\n\n    .dataframe tbody tr th {\n        vertical-align: top;\n    }\n\n    .dataframe thead th {\n        text-align: right;\n    }\n</style>\n<table border=\"1\" class=\"dataframe\">\n  <thead>\n    <tr style=\"text-align: right;\">\n      <th></th>\n      <th>state</th>\n      <th>county</th>\n      <th>repub_percent_08</th>\n      <th>repub_percent_12</th>\n      <th>diff</th>\n      <th>abs_diff</th>\n      <th>renk_abs_diff</th>\n    </tr>\n  </thead>\n  <tbody>\n    <tr>\n      <th>14</th>\n      <td>Idaho</td>\n      <td>Gem</td>\n      <td>70.278092</td>\n      <td>70.907877</td>\n      <td>-0.629785</td>\n      <td>0.629785</td>\n      <td>1.0</td>\n    </tr>\n    <tr>\n      <th>16</th>\n      <td>Illinois</td>\n      <td>Greene</td>\n      <td>52.574479</td>\n      <td>61.383849</td>\n      <td>-8.809370</td>\n      <td>8.809370</td>\n      <td>5.0</td>\n    </tr>\n    <tr>\n      <th>76</th>\n      <td>Texas</td>\n      <td>Grayson</td>\n      <td>68.465378</td>\n      <td>73.197047</td>\n      <td>-4.731669</td>\n      <td>4.731669</td>\n      <td>2.0</td>\n    </tr>\n    <tr>\n      <th>66</th>\n      <td>Pennsylvania</td>\n      <td>Clarion</td>\n      <td>60.439066</td>\n      <td>66.897319</td>\n      <td>-6.458253</td>\n      <td>6.458253</td>\n      <td>3.0</td>\n    </tr>\n    <tr>\n      <th>91</th>\n      <td>West Virginia</td>\n      <td>Braxton</td>\n      <td>48.604178</td>\n      <td>56.723564</td>\n      <td>-8.119385</td>\n      <td>8.119385</td>\n      <td>4.0</td>\n    </tr>\n  </tbody>\n</table>\n</div>"
     },
     "execution_count": 137,
     "metadata": {},
     "output_type": "execute_result"
    }
   ],
   "source": [
    "repub_votes_small[\"renk_abs_diff\"] = rankdata(repub_votes_small[\"abs_diff\"])\n",
    "repub_votes_small"
   ],
   "metadata": {
    "collapsed": false,
    "pycharm": {
     "name": "#%%\n"
    }
   }
  },
  {
   "cell_type": "markdown",
   "source": [
    "### Wilcoxon-signed rank test (Step 4)\n",
    "The last part of our calculation involves calculating a test statistic called W. W uses the signs of the diff column to split the ranks into two groups: one for rows with negative differences and one for positive differences. T-minus is defined as the sum of the ranks with negative differences, and T-plus is the sum of the ranks with positive differences. For this example, all the differences are negative, so the T-minus value is the sum of the five ranks, and T-plus is zero. The test statistic W is the smaller of T-minus and T-plus, which in this case, is zero. We can calculate W, and its corresponding p-value, using a pingouin method instead of manual calculation.\n"
   ],
   "metadata": {
    "collapsed": false,
    "pycharm": {
     "name": "#%% md\n"
    }
   },
   "outputs": []
  },
  {
   "cell_type": "code",
   "execution_count": 138,
   "outputs": [
    {
     "data": {
      "text/plain": "            state   county  repub_percent_08  repub_percent_12      diff  \\\n14          Idaho      Gem         70.278092         70.907877 -0.629785   \n16       Illinois   Greene         52.574479         61.383849 -8.809370   \n76          Texas  Grayson         68.465378         73.197047 -4.731669   \n66   Pennsylvania  Clarion         60.439066         66.897319 -6.458253   \n91  West Virginia  Braxton         48.604178         56.723564 -8.119385   \n\n    abs_diff  renk_abs_diff sign  \n14  0.629785            1.0    -  \n16  8.809370            5.0    -  \n76  4.731669            2.0    -  \n66  6.458253            3.0    -  \n91  8.119385            4.0    -  ",
      "text/html": "<div>\n<style scoped>\n    .dataframe tbody tr th:only-of-type {\n        vertical-align: middle;\n    }\n\n    .dataframe tbody tr th {\n        vertical-align: top;\n    }\n\n    .dataframe thead th {\n        text-align: right;\n    }\n</style>\n<table border=\"1\" class=\"dataframe\">\n  <thead>\n    <tr style=\"text-align: right;\">\n      <th></th>\n      <th>state</th>\n      <th>county</th>\n      <th>repub_percent_08</th>\n      <th>repub_percent_12</th>\n      <th>diff</th>\n      <th>abs_diff</th>\n      <th>renk_abs_diff</th>\n      <th>sign</th>\n    </tr>\n  </thead>\n  <tbody>\n    <tr>\n      <th>14</th>\n      <td>Idaho</td>\n      <td>Gem</td>\n      <td>70.278092</td>\n      <td>70.907877</td>\n      <td>-0.629785</td>\n      <td>0.629785</td>\n      <td>1.0</td>\n      <td>-</td>\n    </tr>\n    <tr>\n      <th>16</th>\n      <td>Illinois</td>\n      <td>Greene</td>\n      <td>52.574479</td>\n      <td>61.383849</td>\n      <td>-8.809370</td>\n      <td>8.809370</td>\n      <td>5.0</td>\n      <td>-</td>\n    </tr>\n    <tr>\n      <th>76</th>\n      <td>Texas</td>\n      <td>Grayson</td>\n      <td>68.465378</td>\n      <td>73.197047</td>\n      <td>-4.731669</td>\n      <td>4.731669</td>\n      <td>2.0</td>\n      <td>-</td>\n    </tr>\n    <tr>\n      <th>66</th>\n      <td>Pennsylvania</td>\n      <td>Clarion</td>\n      <td>60.439066</td>\n      <td>66.897319</td>\n      <td>-6.458253</td>\n      <td>6.458253</td>\n      <td>3.0</td>\n      <td>-</td>\n    </tr>\n    <tr>\n      <th>91</th>\n      <td>West Virginia</td>\n      <td>Braxton</td>\n      <td>48.604178</td>\n      <td>56.723564</td>\n      <td>-8.119385</td>\n      <td>8.119385</td>\n      <td>4.0</td>\n      <td>-</td>\n    </tr>\n  </tbody>\n</table>\n</div>"
     },
     "execution_count": 138,
     "metadata": {},
     "output_type": "execute_result"
    }
   ],
   "source": [
    "repub_votes_small[\"sign\"] = repub_votes_small[\"diff\"].map(lambda x: \"+\" if (x>0) else \"-\" )\n",
    "repub_votes_small"
   ],
   "metadata": {
    "collapsed": false,
    "pycharm": {
     "name": "#%%\n"
    }
   }
  },
  {
   "cell_type": "code",
   "execution_count": 140,
   "outputs": [
    {
     "data": {
      "text/plain": "0.0"
     },
     "execution_count": 140,
     "metadata": {},
     "output_type": "execute_result"
    }
   ],
   "source": [
    "T_minus = repub_votes_small[repub_votes_small[\"sign\"] == \"-\"][\"renk_abs_diff\"].sum()\n",
    "T_plus = repub_votes_small[repub_votes_small[\"sign\"] == \"+\"][\"renk_abs_diff\"].sum()\n",
    "W = min(T_minus,T_plus)\n",
    "W"
   ],
   "metadata": {
    "collapsed": false,
    "pycharm": {
     "name": "#%%\n"
    }
   }
  },
  {
   "cell_type": "markdown",
   "source": [
    "### Implementation with pingouin.wilcoxon()\n",
    "The dot-wilcoxon method from pingouin takes very similar arguments to the dot-ttest method, except it doesn't have a paired argument. The function returns a W value of zero - the same as our manual calculation! This corresponds to a p-value of around three percent, which is over ten times larger than the p-value from the t-test, so we should feel more confident with this result given the small sample size. The Wilcoxon test indicates that we do not have evidence that the 2008 Republican percentages are smaller than the 2012 percentages using this small sample of five rows."
   ],
   "metadata": {
    "collapsed": false,
    "pycharm": {
     "name": "#%% md\n"
    }
   }
  },
  {
   "cell_type": "code",
   "execution_count": 141,
   "outputs": [
    {
     "data": {
      "text/plain": "          W-val alternative    p-val  RBC  CLES\nWilcoxon    0.0        less  0.03125 -1.0  0.72",
      "text/html": "<div>\n<style scoped>\n    .dataframe tbody tr th:only-of-type {\n        vertical-align: middle;\n    }\n\n    .dataframe tbody tr th {\n        vertical-align: top;\n    }\n\n    .dataframe thead th {\n        text-align: right;\n    }\n</style>\n<table border=\"1\" class=\"dataframe\">\n  <thead>\n    <tr style=\"text-align: right;\">\n      <th></th>\n      <th>W-val</th>\n      <th>alternative</th>\n      <th>p-val</th>\n      <th>RBC</th>\n      <th>CLES</th>\n    </tr>\n  </thead>\n  <tbody>\n    <tr>\n      <th>Wilcoxon</th>\n      <td>0.0</td>\n      <td>less</td>\n      <td>0.03125</td>\n      <td>-1.0</td>\n      <td>0.72</td>\n    </tr>\n  </tbody>\n</table>\n</div>"
     },
     "execution_count": 141,
     "metadata": {},
     "output_type": "execute_result"
    }
   ],
   "source": [
    "pingouin.wilcoxon(x=repub_votes_small[\"repub_percent_08\"],\n",
    "                  y=repub_votes_small[\"repub_percent_12\"],\n",
    "                  alternative=\"less\")\n"
   ],
   "metadata": {
    "collapsed": false,
    "pycharm": {
     "name": "#%%\n"
    }
   }
  },
  {
   "cell_type": "markdown",
   "source": [
    "Fail to reject null hypothesis since  0.03125 > 0.01, which is contraction to the ttest .\n"
   ],
   "metadata": {
    "collapsed": false,
    "pycharm": {
     "name": "#%% md\n"
    }
   }
  },
  {
   "metadata": {
    "pycharm": {
     "name": "#%% md\n"
    }
   },
   "outputs": [],
   "source": [
    "## Wilcoxon signed-rank test\n",
    "\n",
    "<p>You'll explore the difference between the proportion of county-level votes for the Democratic candidate in 2012 and 2016 to identify if the difference is significant.</p>\n",
    "<p><code>sample_dem_data</code> is available, and has columns <code>dem_percent_12</code> and <code>dem_percent_16</code> in addition to <code>state</code> and <code>county</code> names. The following packages have also been loaded: <code>pingouin</code> and <code>pandas</code> as <code>pd</code>.</p>"
   ],
   "execution_count": null,
   "cell_type": "markdown"
  },
  {
   "cell_type": "code",
   "execution_count": 142,
   "outputs": [
    {
     "data": {
      "text/plain": "(500, 5)"
     },
     "execution_count": 142,
     "metadata": {},
     "output_type": "execute_result"
    }
   ],
   "source": [
    "sample_dem_data.shape\n"
   ],
   "metadata": {
    "collapsed": false,
    "pycharm": {
     "name": "#%%\n"
    }
   }
  },
  {
   "metadata": {
    "pycharm": {
     "name": "#%% md\n"
    }
   },
   "outputs": [],
   "source": [
    "Conduct a paired t-test on the percentage columns using an appropriate alternative hypothesis."
   ],
   "execution_count": null,
   "cell_type": "markdown"
  },
  {
   "cell_type": "code",
   "execution_count": 145,
   "outputs": [
    {
     "name": "stdout",
     "output_type": "stream",
     "text": [
      "                T  dof alternative          p-val         CI95%   cohen-d  \\\n",
      "T-test  30.298384  499   two-sided  3.600634e-115  [6.39, 7.27]  0.454202   \n",
      "\n",
      "              BF10  power  \n",
      "T-test  2.246e+111    1.0  \n"
     ]
    }
   ],
   "source": [
    "# Conduct a paired t-test on dem_percent_12 and dem_percent_16\n",
    "paired_test_results = pingouin.ttest(x=sample_dem_data[\"dem_percent_12\"],\n",
    "                                     y=sample_dem_data[\"dem_percent_16\"],\n",
    "                                     paired=True,\n",
    "                                     alternative=\"two-sided\")\n",
    "\n",
    "\n",
    "\n",
    "\n",
    "# Print paired t-test results\n",
    "print(paired_test_results)"
   ],
   "metadata": {
    "collapsed": false,
    "pycharm": {
     "name": "#%%\n"
    }
   }
  },
  {
   "metadata": {
    "pycharm": {
     "name": "#%% md\n"
    }
   },
   "outputs": [],
   "source": [
    "Conduct a Wilcoxon-signed rank test on the same columns."
   ],
   "execution_count": null,
   "cell_type": "markdown"
  },
  {
   "cell_type": "code",
   "execution_count": 144,
   "outputs": [
    {
     "name": "stdout",
     "output_type": "stream",
     "text": [
      "           W-val alternative         p-val       RBC      CLES\n",
      "Wilcoxon  2401.0   two-sided  1.780396e-77  0.961661  0.644816\n"
     ]
    }
   ],
   "source": [
    "# Conduct a Wilcoxon test on dem_percent_12 and dem_percent_16\n",
    "wilcoxon_test_results = pingouin.wilcoxon(x=sample_dem_data[\"dem_percent_12\"],\n",
    "                                          y=sample_dem_data[\"dem_percent_16\"],\n",
    "                                          alternative = \"two-sided\")\n",
    "\n",
    "\n",
    "# Print Wilcoxon test results\n",
    "print(wilcoxon_test_results)"
   ],
   "metadata": {
    "collapsed": false,
    "pycharm": {
     "name": "#%%\n"
    }
   }
  },
  {
   "cell_type": "markdown",
   "source": [
    " Given the large sample size (500), you obtained similar results here between the parametric t-test and non-parametric Wilcoxon test with a very small p-value."
   ],
   "metadata": {
    "collapsed": false,
    "pycharm": {
     "name": "#%% md\n"
    }
   }
  },
  {
   "metadata": {
    "pycharm": {
     "name": "#%% md\n"
    }
   },
   "outputs": [],
   "source": [
    "## Look ma! Still no parameters!"
   ],
   "execution_count": null,
   "cell_type": "markdown"
  },
  {
   "metadata": {
    "pycharm": {
     "name": "#%% md\n"
    }
   },
   "outputs": [],
   "source": [
    "### 1. Look ma! Still no parameters!\n",
    "\n",
    "In the previous video, we explored some non-parametric techniques and how they compare to their parametric counterparts. We'll continue on that theme here focusing on non-parametric alternatives to tests of independent numeric samples."
   ],
   "execution_count": null,
   "cell_type": "markdown"
  },
  {
   "metadata": {
    "pycharm": {
     "name": "#%% md\n"
    }
   },
   "outputs": [],
   "source": [
    "### 2. Wilcoxon-Mann-Whitney test\n",
    "\n",
    "We can avoid assumptions about normally distributed data by performing hypothesis tests on the ranks of a numeric input. The Wilcoxon-Mann-Whitney test is, very roughly speaking, a t-test on ranked data. This test is similar to the Wilcoxon test we saw in the last video, **but works on unpaired data instead.**"
   ],
   "execution_count": null,
   "cell_type": "markdown"
  },
  {
   "metadata": {
    "pycharm": {
     "name": "#%% md\n"
    }
   },
   "outputs": [],
   "source": [
    "### 3. Wilcoxon-Mann-Whitney test setup\n",
    "\n",
    "Let's return to the StackOverflow survey and the relationship between converted compensation and the age respondents began coding. We start by focusing on just those two columns in a new DataFrame called age_vs_comp. To conduct a Wilcoxon-Mann-Whitney test with pingouin, **we first need to convert our data from long to wide format**. This is accomplished with the pivot method from pandas, which unlike pivot_table, does not aggregate; instead, it returns the raw values for each group across the rows. We now have our data in two columns named adult and child with the values corresponding to the converted_comp entries for each row. An adult value of NaN corresponds to a child entry and a child value of NaN corresponds to an adult entry."
   ],
   "execution_count": null,
   "cell_type": "markdown"
  },
  {
   "cell_type": "code",
   "execution_count": 146,
   "outputs": [
    {
     "data": {
      "text/plain": "   converted_comp age_first_code_cut\n0         77556.0              adult\n1         74970.0              child\n2        594539.0              child\n3       2000000.0              adult\n4         37816.0              adult",
      "text/html": "<div>\n<style scoped>\n    .dataframe tbody tr th:only-of-type {\n        vertical-align: middle;\n    }\n\n    .dataframe tbody tr th {\n        vertical-align: top;\n    }\n\n    .dataframe thead th {\n        text-align: right;\n    }\n</style>\n<table border=\"1\" class=\"dataframe\">\n  <thead>\n    <tr style=\"text-align: right;\">\n      <th></th>\n      <th>converted_comp</th>\n      <th>age_first_code_cut</th>\n    </tr>\n  </thead>\n  <tbody>\n    <tr>\n      <th>0</th>\n      <td>77556.0</td>\n      <td>adult</td>\n    </tr>\n    <tr>\n      <th>1</th>\n      <td>74970.0</td>\n      <td>child</td>\n    </tr>\n    <tr>\n      <th>2</th>\n      <td>594539.0</td>\n      <td>child</td>\n    </tr>\n    <tr>\n      <th>3</th>\n      <td>2000000.0</td>\n      <td>adult</td>\n    </tr>\n    <tr>\n      <th>4</th>\n      <td>37816.0</td>\n      <td>adult</td>\n    </tr>\n  </tbody>\n</table>\n</div>"
     },
     "execution_count": 146,
     "metadata": {},
     "output_type": "execute_result"
    }
   ],
   "source": [
    "age_vs_comp = stack_overflow[[\"converted_comp\",\"age_first_code_cut\"]]\n",
    "age_vs_comp.head()"
   ],
   "metadata": {
    "collapsed": false,
    "pycharm": {
     "name": "#%%\n"
    }
   }
  },
  {
   "cell_type": "code",
   "execution_count": 147,
   "outputs": [
    {
     "data": {
      "text/plain": "age_first_code_cut      adult     child\n0                     77556.0       NaN\n1                         NaN   74970.0\n2                         NaN  594539.0\n3                   2000000.0       NaN\n4                     37816.0       NaN",
      "text/html": "<div>\n<style scoped>\n    .dataframe tbody tr th:only-of-type {\n        vertical-align: middle;\n    }\n\n    .dataframe tbody tr th {\n        vertical-align: top;\n    }\n\n    .dataframe thead th {\n        text-align: right;\n    }\n</style>\n<table border=\"1\" class=\"dataframe\">\n  <thead>\n    <tr style=\"text-align: right;\">\n      <th>age_first_code_cut</th>\n      <th>adult</th>\n      <th>child</th>\n    </tr>\n  </thead>\n  <tbody>\n    <tr>\n      <th>0</th>\n      <td>77556.0</td>\n      <td>NaN</td>\n    </tr>\n    <tr>\n      <th>1</th>\n      <td>NaN</td>\n      <td>74970.0</td>\n    </tr>\n    <tr>\n      <th>2</th>\n      <td>NaN</td>\n      <td>594539.0</td>\n    </tr>\n    <tr>\n      <th>3</th>\n      <td>2000000.0</td>\n      <td>NaN</td>\n    </tr>\n    <tr>\n      <th>4</th>\n      <td>37816.0</td>\n      <td>NaN</td>\n    </tr>\n  </tbody>\n</table>\n</div>"
     },
     "execution_count": 147,
     "metadata": {},
     "output_type": "execute_result"
    }
   ],
   "source": [
    "age_vs_comp_wide = age_vs_comp.pivot(columns=\"age_first_code_cut\",\n",
    "                                     values='converted_comp')\n",
    "age_vs_comp_wide.head()"
   ],
   "metadata": {
    "collapsed": false,
    "pycharm": {
     "name": "#%%\n"
    }
   }
  },
  {
   "metadata": {
    "pycharm": {
     "name": "#%% md\n"
    }
   },
   "outputs": [],
   "source": [
    "### 4. Wilcoxon-Mann-Whitney test\n",
    "\n",
    "Let's set a significance level of one percent. We can run a Wilcoxon-Mann-Whitney test using mwu from pingouin. It accepts x and y arguments corresponding to the two columns of numbers we want to compare, in this case, child and adult. alternative sets the type of alternative hypothesis, in this case, that those who code first as children have a higher income than those who code first as adults, which is a right-tailed test. Here, the p-value is shown as around ten to the negative nineteenth power, which is significantly smaller than the significance level."
   ],
   "execution_count": null,
   "cell_type": "markdown"
  },
  {
   "cell_type": "code",
   "execution_count": 148,
   "outputs": [
    {
     "data": {
      "text/plain": "        U-val alternative         p-val       RBC      CLES\nMWU  744365.5     greater  1.902723e-19 -0.222516  0.611258",
      "text/html": "<div>\n<style scoped>\n    .dataframe tbody tr th:only-of-type {\n        vertical-align: middle;\n    }\n\n    .dataframe tbody tr th {\n        vertical-align: top;\n    }\n\n    .dataframe thead th {\n        text-align: right;\n    }\n</style>\n<table border=\"1\" class=\"dataframe\">\n  <thead>\n    <tr style=\"text-align: right;\">\n      <th></th>\n      <th>U-val</th>\n      <th>alternative</th>\n      <th>p-val</th>\n      <th>RBC</th>\n      <th>CLES</th>\n    </tr>\n  </thead>\n  <tbody>\n    <tr>\n      <th>MWU</th>\n      <td>744365.5</td>\n      <td>greater</td>\n      <td>1.902723e-19</td>\n      <td>-0.222516</td>\n      <td>0.611258</td>\n    </tr>\n  </tbody>\n</table>\n</div>"
     },
     "execution_count": 148,
     "metadata": {},
     "output_type": "execute_result"
    }
   ],
   "source": [
    "alpha = 0.01\n",
    "pingouin.mwu(x=age_vs_comp_wide[\"child\"],\n",
    "             y=age_vs_comp_wide[\"adult\"],\n",
    "             alternative=\"greater\")"
   ],
   "metadata": {
    "collapsed": false,
    "pycharm": {
     "name": "#%%\n"
    }
   }
  },
  {
   "metadata": {
    "pycharm": {
     "name": "#%% md\n"
    }
   },
   "outputs": [],
   "source": [
    "### 5. Kruskal-Wallis test\n",
    "\n",
    "In the same way that ANOVA extends t-tests to more than two groups, the Kruskal-Wallis test extends the Wilcoxon-Mann-Whitney test to more than two groups. That is, the Kruskal-Wallis test is a non-parametric version of ANOVA. We use the kruskal method from pingouin to perform a Kruskal-Wallis test to investigate if there is a difference in converted_comp between job satisfaction groups. Unlike the Wilcoxon-Mann-Whitney test, we don't need to pivot our data here since the kruskal method works on long data. We pass in stack_overflow as data, the dependent variable, dv, as converted_comp, and we are comparing between the groups of job_sat. Again, the p-value here is very small and smaller than our significance level. This provides evidence that at least one of the mean compensation totals is different than the others across these five job satisfaction groups."
   ],
   "execution_count": null,
   "cell_type": "markdown"
  },
  {
   "cell_type": "code",
   "execution_count": 149,
   "outputs": [
    {
     "data": {
      "text/plain": "          Source  ddof1          H         p-unc\nKruskal  job_sat      4  72.814939  5.772915e-15",
      "text/html": "<div>\n<style scoped>\n    .dataframe tbody tr th:only-of-type {\n        vertical-align: middle;\n    }\n\n    .dataframe tbody tr th {\n        vertical-align: top;\n    }\n\n    .dataframe thead th {\n        text-align: right;\n    }\n</style>\n<table border=\"1\" class=\"dataframe\">\n  <thead>\n    <tr style=\"text-align: right;\">\n      <th></th>\n      <th>Source</th>\n      <th>ddof1</th>\n      <th>H</th>\n      <th>p-unc</th>\n    </tr>\n  </thead>\n  <tbody>\n    <tr>\n      <th>Kruskal</th>\n      <td>job_sat</td>\n      <td>4</td>\n      <td>72.814939</td>\n      <td>5.772915e-15</td>\n    </tr>\n  </tbody>\n</table>\n</div>"
     },
     "execution_count": 149,
     "metadata": {},
     "output_type": "execute_result"
    }
   ],
   "source": [
    "alpha = 0.01\n",
    "pingouin.kruskal(data=stack_overflow,\n",
    "                 dv=\"converted_comp\",\n",
    "                 between=\"job_sat\")"
   ],
   "metadata": {
    "collapsed": false,
    "pycharm": {
     "name": "#%%\n"
    }
   }
  },
  {
   "metadata": {
    "pycharm": {
     "name": "#%% md\n"
    }
   },
   "outputs": [],
   "source": [
    "### 6. Let's practice!\n",
    "\n",
    "You're almost there! Head on over to the exercises to give these tests a go."
   ],
   "execution_count": null,
   "cell_type": "markdown"
  },
  {
   "metadata": {
    "pycharm": {
     "name": "#%% md\n"
    }
   },
   "outputs": [],
   "source": [
    "## Wilcoxon-Mann-Whitney\n",
    "\n",
    "<p>Another class of non-parametric hypothesis tests are called <em>rank sum tests</em>. Ranks are the positions of numeric values from smallest to largest. Think of them as positions in running events: whoever has the fastest (smallest) time is rank 1, second fastest is rank 2, and so on.</p>\n",
    "<p>By calculating on the ranks of data instead of the actual values, you can avoid making assumptions about the distribution of the test statistic. It's more robust in the same way that a median is more robust than a mean.</p>\n",
    "<p>One common rank-based test is the Wilcoxon-Mann-Whitney test, which is like a non-parametric t-test.</p>\n",
    "<p><code>late_shipments</code> is available, and the following packages have been loaded: <code>pingouin</code> and <code>pandas</code> as <code>pd</code>.</p>"
   ],
   "execution_count": null,
   "cell_type": "markdown"
  },
  {
   "metadata": {
    "pycharm": {
     "name": "#%% md\n"
    }
   },
   "outputs": [],
   "source": [
    "Select <code>weight_kilograms</code> and <code>late</code> from <code>late_shipments</code>, assigning the name <code>weight_vs_late</code>."
   ],
   "execution_count": null,
   "cell_type": "markdown"
  },
  {
   "metadata": {
    "pycharm": {
     "name": "#%% md\n"
    }
   },
   "outputs": [],
   "source": [
    "Convert <code>weight_vs_late</code> from long-to-wide format, setting <code>columns</code> to <code>'late'</code>."
   ],
   "execution_count": null,
   "cell_type": "markdown"
  },
  {
   "metadata": {
    "pycharm": {
     "name": "#%% md\n"
    }
   },
   "outputs": [],
   "source": [
    "Run a Wilcoxon-Mann-Whitney test for a difference in <code>weight_kilograms</code> when the shipment was late and on-time."
   ],
   "execution_count": null,
   "cell_type": "markdown"
  },
  {
   "cell_type": "code",
   "execution_count": 150,
   "outputs": [
    {
     "name": "stdout",
     "output_type": "stream",
     "text": [
      "       U-val alternative     p-val       RBC      CLES\n",
      "MWU  38087.0   two-sided  0.000014 -0.331294  0.665647\n"
     ]
    }
   ],
   "source": [
    "# Choose the weight_kilograms and late columns\n",
    "weight_vs_late = late_shipments[[\"late\",\"weight_kilograms\"]]\n",
    "\n",
    "# Convert weight_vs_late into wide format\n",
    "weight_vs_late_wide = weight_vs_late.pivot(columns=\"late\",values=\"weight_kilograms\")\n",
    "\n",
    "\n",
    "# Run a two-sided Wilcoxon-Mann-Whitney test on weight_kilograms vs. late\n",
    "wmw_test = pingouin.mwu(x=weight_vs_late_wide[\"Yes\"],\n",
    "                        y=weight_vs_late_wide[\"No\"],\n",
    "                        alternative=\"two-sided\")\n",
    "\n",
    "\n",
    "\n",
    "# Print the test results\n",
    "print(wmw_test)"
   ],
   "metadata": {
    "collapsed": false,
    "pycharm": {
     "name": "#%%\n"
    }
   }
  },
  {
   "cell_type": "markdown",
   "source": [
    "The small p-value here leads us to suspect that a difference does exist in the weight of the shipment and whether or not it was late. The Wilcoxon-Mann-Whitney test is useful when you cannot satisfy the assumptions for a parametric test comparing two means, like the t-test"
   ],
   "metadata": {
    "collapsed": false,
    "pycharm": {
     "name": "#%% md\n"
    }
   }
  },
  {
   "metadata": {
    "pycharm": {
     "name": "#%% md\n"
    }
   },
   "outputs": [],
   "source": [
    "## Kruskal-Wallis\n",
    "\n",
    "<p>Recall that the Kruskal-Wallis test is a non-parametric version of an ANOVA test, comparing the means across multiple groups.</p>\n",
    "<p><code>late_shipments</code> is available, and the following packages have been loaded: <code>pingouin</code> and <code>pandas</code> as <code>pd</code>.</p>"
   ],
   "execution_count": null,
   "cell_type": "markdown"
  },
  {
   "metadata": {
    "pycharm": {
     "name": "#%% md\n"
    }
   },
   "outputs": [],
   "source": [
    "Run a Kruskal-Wallis test on <code>weight_kilograms</code> between the different shipment modes in <code>late_shipments</code>."
   ],
   "execution_count": null,
   "cell_type": "markdown"
  },
  {
   "cell_type": "code",
   "execution_count": 151,
   "outputs": [
    {
     "name": "stdout",
     "output_type": "stream",
     "text": [
      "                Source  ddof1           H         p-unc\n",
      "Kruskal  shipment_mode      2  124.983244  7.248254e-28\n"
     ]
    }
   ],
   "source": [
    "# Run a Kruskal-Wallis test on weight_kilograms vs. shipment_mode\n",
    "kw_test = pingouin.kruskal(data=late_shipments,\n",
    "                           dv=\"weight_kilograms\",\n",
    "                           between=\"shipment_mode\")\n",
    "\n",
    "\n",
    "\n",
    "# Print the results\n",
    "print(kw_test)"
   ],
   "metadata": {
    "collapsed": false,
    "pycharm": {
     "name": "#%%\n"
    }
   }
  },
  {
   "cell_type": "markdown",
   "source": [
    "The Kruskal-Wallis test yielded a very small p-value, so there is evidence that at least one of the three groups of shipment mode has a different weight distribution than the others. Th Kruskal-Wallis test is comparable to an ANOVA, which tests for a difference in means across multiple groups."
   ],
   "metadata": {
    "collapsed": false,
    "pycharm": {
     "name": "#%% md\n"
    }
   }
  },
  {
   "metadata": {
    "pycharm": {
     "name": "#%% md\n"
    }
   },
   "outputs": [],
   "source": [
    "## Congratulations!"
   ],
   "execution_count": null,
   "cell_type": "markdown"
  },
  {
   "metadata": {
    "pycharm": {
     "name": "#%% md\n"
    }
   },
   "outputs": [],
   "source": [
    "### 1. Congratulations!\n",
    "\n",
    "Well done! You've made it to the end of the course."
   ],
   "execution_count": null,
   "cell_type": "markdown"
  },
  {
   "metadata": {
    "pycharm": {
     "name": "#%% md\n"
    }
   },
   "outputs": [],
   "source": [
    "### 2. Course recap\n",
    "\n",
    "To recap, in Chapter 1, we learned the workflow for testing proportions against a hypothesized value. We calculated the observed statistic, and a z-score, then transformed the z-score to get a p-value. We also learned about false negative and false positive errors. In Chapter 2, we learned how to test for differences in means between two groups using t-tests, and how to extend this to more than two groups using ANOVA and pairwise t-tests. In Chapter 3, we returned to proportion responses, and learned how to test for differences in proportions between two groups using proportion tests. We then extended it to more than two groups with chi-square independence tests, and returned to the one sample case with chi-square goodness of fit tests. In Chapter 4, we learned about the assumptions made by parametric hypothesis tests, and saw how non-parametric tests can be used when those assumptions aren't met."
   ],
   "execution_count": null,
   "cell_type": "markdown"
  },
  {
   "metadata": {
    "pycharm": {
     "name": "#%% md\n"
    }
   },
   "outputs": [],
   "source": [
    "### 3. More courses\n",
    "\n",
    "Hypothesis testing is part of a branch of statistics known as inference. DataCamp has more courses that delve deeper into inference. The techniques used in this course are an example of frequentist statistics. A rival paradigm is known as Bayesian statistics, and naturally, DataCamp has a course that teaches it. This course began with an example of A/B testing, which is a common use case for hypothesis testing. You can learn more about A/B testing in this course."
   ],
   "execution_count": null,
   "cell_type": "markdown"
  },
  {
   "metadata": {
    "pycharm": {
     "name": "#%% md\n"
    }
   },
   "outputs": [],
   "source": [
    "### 4. Congratulations!\n",
    "\n",
    "Congratulations for completing the course! I wish you the best of luck on your data journey!"
   ],
   "execution_count": null,
   "cell_type": "markdown"
  }
 ],
 "metadata": {
  "kernelspec": {
   "display_name": "Python 3 (ipykernel)",
   "language": "python",
   "name": "python3"
  },
  "language_info": {
   "codemirror_mode": {
    "name": "ipython",
    "version": 3
   },
   "file_extension": ".py",
   "mimetype": "text/x-python",
   "name": "python",
   "nbconvert_exporter": "python",
   "pygments_lexer": "ipython3",
   "version": "3.9.12"
  },
  "toc": {
   "base_numbering": 1,
   "nav_menu": {},
   "number_sections": true,
   "sideBar": true,
   "skip_h1_title": false,
   "title_cell": "Table of Contents",
   "title_sidebar": "Contents",
   "toc_cell": false,
   "toc_position": {
    "height": "calc(100% - 180px)",
    "left": "10px",
    "top": "150px",
    "width": "165px"
   },
   "toc_section_display": true,
   "toc_window_display": true
  },
  "varInspector": {
   "cols": {
    "lenName": 16,
    "lenType": 16,
    "lenVar": 40
   },
   "kernels_config": {
    "python": {
     "delete_cmd_postfix": "",
     "delete_cmd_prefix": "del ",
     "library": "var_list.py",
     "varRefreshCmd": "print(var_dic_list())"
    },
    "r": {
     "delete_cmd_postfix": ") ",
     "delete_cmd_prefix": "rm(",
     "library": "var_list.r",
     "varRefreshCmd": "cat(var_dic_list()) "
    }
   },
   "types_to_exclude": [
    "module",
    "function",
    "builtin_function_or_method",
    "instance",
    "_Feature"
   ],
   "window_display": false
  }
 },
 "nbformat": 4,
 "nbformat_minor": 5
}